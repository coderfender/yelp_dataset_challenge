{
 "cells": [
  {
   "cell_type": "markdown",
   "metadata": {},
   "source": [
    "## Problem Statement\n",
    "Understanding the category of a business listed on Yelp considering the review text"
   ]
  },
  {
   "cell_type": "code",
   "execution_count": 1,
   "metadata": {
    "collapsed": false
   },
   "outputs": [
    {
     "name": "stderr",
     "output_type": "stream",
     "text": [
      "C:\\Users\\bhargavic\\Anaconda2\\envs\\gl-env\\lib\\site-packages\\gensim\\utils.py:865: UserWarning: detected Windows; aliasing chunkize to chunkize_serial\n",
      "  warnings.warn(\"detected Windows; aliasing chunkize to chunkize_serial\")\n",
      "C:\\Users\\bhargavic\\Anaconda2\\envs\\gl-env\\lib\\site-packages\\sklearn\\cross_validation.py:44: DeprecationWarning: This module was deprecated in version 0.18 in favor of the model_selection module into which all the refactored classes and functions are moved. Also note that the interface of the new CV iterators are different from that of this module. This module will be removed in 0.20.\n",
      "  \"This module will be removed in 0.20.\", DeprecationWarning)\n",
      "C:\\Users\\bhargavic\\Anaconda2\\envs\\gl-env\\lib\\site-packages\\sklearn\\grid_search.py:43: DeprecationWarning: This module was deprecated in version 0.18 in favor of the model_selection module into which all the refactored classes and functions are moved. This module will be removed in 0.20.\n",
      "  DeprecationWarning)\n"
     ]
    }
   ],
   "source": [
    "import pandas as pd\n",
    "import numpy as np\n",
    "import graphlab as gl\n",
    "import string\n",
    "from datetime import datetime\n",
    "from operator import itemgetter\n",
    "from collections import Counter\n",
    "from functools import partial\n",
    "import ast\n",
    "\n",
    "import gensim\n",
    "from gensim import corpora\n",
    "\n",
    "from nltk.corpus import stopwords \n",
    "from nltk.stem.wordnet import WordNetLemmatizer\n",
    "from sklearn.feature_extraction.text import TfidfVectorizer\n",
    "\n",
    "from sklearn.naive_bayes import MultinomialNB\n",
    "from sklearn.svm import LinearSVC\n",
    "from sklearn.multiclass import OneVsRestClassifier\n",
    "from sklearn.grid_search import GridSearchCV\n",
    "from sklearn.linear_model import SGDClassifier\n",
    "\n",
    "from sklearn.metrics import f1_score\n",
    "from sklearn.metrics import average_precision_score\n",
    "\n",
    "stop = set(stopwords.words('english'))\n",
    "exclude = set(string.punctuation) \n",
    "lemma = WordNetLemmatizer()"
   ]
  },
  {
   "cell_type": "code",
   "execution_count": null,
   "metadata": {
    "collapsed": false
   },
   "outputs": [],
   "source": []
  },
  {
   "cell_type": "code",
   "execution_count": 2,
   "metadata": {
    "collapsed": false
   },
   "outputs": [],
   "source": [
    "main_path = \"D:\\Grad Notes\\Search\\Project\\Data\\yelp_dataset\\dataset\\\\\""
   ]
  },
  {
   "cell_type": "code",
   "execution_count": 3,
   "metadata": {
    "collapsed": false
   },
   "outputs": [],
   "source": [
    "## Stopword list 1\n",
    "stop = stopwords.words('english')\n",
    "len(stop)\n",
    "\n",
    "## Stop list 2\n",
    "f = open(main_path+'stopwords.txt','r')\n",
    "stop2 = f.readlines()[0].split(\"\\r\")\n",
    "\n",
    "stop_all = stop + stop2\n",
    "stop_all = set(stop_all)"
   ]
  },
  {
   "cell_type": "code",
   "execution_count": 4,
   "metadata": {
    "collapsed": false
   },
   "outputs": [
    {
     "data": {
      "text/html": [
       "<div>\n",
       "<table border=\"1\" class=\"dataframe\">\n",
       "  <thead>\n",
       "    <tr style=\"text-align: right;\">\n",
       "      <th></th>\n",
       "      <th>attributes.Ambience.divey</th>\n",
       "      <th>attributes.RestaurantsDelivery</th>\n",
       "      <th>attributes.DogsAllowed</th>\n",
       "      <th>postal_code</th>\n",
       "      <th>hours.Thursday</th>\n",
       "      <th>attributes.HairSpecializesIn.coloring</th>\n",
       "      <th>attributes.BestNights.sunday</th>\n",
       "      <th>attributes.BYOB</th>\n",
       "      <th>attributes.AgesAllowed</th>\n",
       "      <th>attributes.Music.video</th>\n",
       "      <th>...</th>\n",
       "      <th>attributes.Caters</th>\n",
       "      <th>attributes.RestaurantsReservations</th>\n",
       "      <th>attributes.DietaryRestrictions.dairy-free</th>\n",
       "      <th>attributes.DietaryRestrictions.vegan</th>\n",
       "      <th>attributes.Ambience.romantic</th>\n",
       "      <th>attributes.Music.jukebox</th>\n",
       "      <th>attributes.Ambience.upscale</th>\n",
       "      <th>attributes.RestaurantsTakeOut</th>\n",
       "      <th>attributes.BikeParking</th>\n",
       "      <th>attributes.OutdoorSeating</th>\n",
       "    </tr>\n",
       "  </thead>\n",
       "  <tbody>\n",
       "    <tr>\n",
       "      <th>0</th>\n",
       "      <td>NaN</td>\n",
       "      <td>NaN</td>\n",
       "      <td>NaN</td>\n",
       "      <td>44143</td>\n",
       "      <td>10:00-21:00</td>\n",
       "      <td>NaN</td>\n",
       "      <td>NaN</td>\n",
       "      <td>NaN</td>\n",
       "      <td>NaN</td>\n",
       "      <td>NaN</td>\n",
       "      <td>...</td>\n",
       "      <td>NaN</td>\n",
       "      <td>NaN</td>\n",
       "      <td>NaN</td>\n",
       "      <td>NaN</td>\n",
       "      <td>NaN</td>\n",
       "      <td>NaN</td>\n",
       "      <td>NaN</td>\n",
       "      <td>NaN</td>\n",
       "      <td>True</td>\n",
       "      <td>NaN</td>\n",
       "    </tr>\n",
       "    <tr>\n",
       "      <th>1</th>\n",
       "      <td>False</td>\n",
       "      <td>True</td>\n",
       "      <td>NaN</td>\n",
       "      <td>28215</td>\n",
       "      <td>10:00-22:00</td>\n",
       "      <td>NaN</td>\n",
       "      <td>NaN</td>\n",
       "      <td>NaN</td>\n",
       "      <td>NaN</td>\n",
       "      <td>NaN</td>\n",
       "      <td>...</td>\n",
       "      <td>NaN</td>\n",
       "      <td>False</td>\n",
       "      <td>NaN</td>\n",
       "      <td>NaN</td>\n",
       "      <td>False</td>\n",
       "      <td>NaN</td>\n",
       "      <td>False</td>\n",
       "      <td>True</td>\n",
       "      <td>NaN</td>\n",
       "      <td>False</td>\n",
       "    </tr>\n",
       "    <tr>\n",
       "      <th>2</th>\n",
       "      <td>NaN</td>\n",
       "      <td>NaN</td>\n",
       "      <td>NaN</td>\n",
       "      <td>M4K 1N7</td>\n",
       "      <td>10:00-19:00</td>\n",
       "      <td>NaN</td>\n",
       "      <td>NaN</td>\n",
       "      <td>NaN</td>\n",
       "      <td>NaN</td>\n",
       "      <td>NaN</td>\n",
       "      <td>...</td>\n",
       "      <td>NaN</td>\n",
       "      <td>NaN</td>\n",
       "      <td>NaN</td>\n",
       "      <td>NaN</td>\n",
       "      <td>NaN</td>\n",
       "      <td>NaN</td>\n",
       "      <td>NaN</td>\n",
       "      <td>NaN</td>\n",
       "      <td>True</td>\n",
       "      <td>False</td>\n",
       "    </tr>\n",
       "    <tr>\n",
       "      <th>3</th>\n",
       "      <td>NaN</td>\n",
       "      <td>NaN</td>\n",
       "      <td>NaN</td>\n",
       "      <td>85258</td>\n",
       "      <td>9:00-17:00</td>\n",
       "      <td>NaN</td>\n",
       "      <td>NaN</td>\n",
       "      <td>NaN</td>\n",
       "      <td>NaN</td>\n",
       "      <td>NaN</td>\n",
       "      <td>...</td>\n",
       "      <td>NaN</td>\n",
       "      <td>NaN</td>\n",
       "      <td>NaN</td>\n",
       "      <td>NaN</td>\n",
       "      <td>NaN</td>\n",
       "      <td>NaN</td>\n",
       "      <td>NaN</td>\n",
       "      <td>NaN</td>\n",
       "      <td>NaN</td>\n",
       "      <td>NaN</td>\n",
       "    </tr>\n",
       "    <tr>\n",
       "      <th>4</th>\n",
       "      <td>False</td>\n",
       "      <td>False</td>\n",
       "      <td>NaN</td>\n",
       "      <td>85016</td>\n",
       "      <td>NaN</td>\n",
       "      <td>NaN</td>\n",
       "      <td>NaN</td>\n",
       "      <td>NaN</td>\n",
       "      <td>NaN</td>\n",
       "      <td>NaN</td>\n",
       "      <td>...</td>\n",
       "      <td>True</td>\n",
       "      <td>False</td>\n",
       "      <td>NaN</td>\n",
       "      <td>NaN</td>\n",
       "      <td>False</td>\n",
       "      <td>NaN</td>\n",
       "      <td>False</td>\n",
       "      <td>True</td>\n",
       "      <td>True</td>\n",
       "      <td>False</td>\n",
       "    </tr>\n",
       "  </tbody>\n",
       "</table>\n",
       "<p>5 rows × 101 columns</p>\n",
       "</div>"
      ],
      "text/plain": [
       "  attributes.Ambience.divey attributes.RestaurantsDelivery  \\\n",
       "0                       NaN                            NaN   \n",
       "1                     False                           True   \n",
       "2                       NaN                            NaN   \n",
       "3                       NaN                            NaN   \n",
       "4                     False                          False   \n",
       "\n",
       "  attributes.DogsAllowed postal_code hours.Thursday  \\\n",
       "0                    NaN       44143    10:00-21:00   \n",
       "1                    NaN       28215    10:00-22:00   \n",
       "2                    NaN     M4K 1N7    10:00-19:00   \n",
       "3                    NaN       85258     9:00-17:00   \n",
       "4                    NaN       85016            NaN   \n",
       "\n",
       "  attributes.HairSpecializesIn.coloring attributes.BestNights.sunday  \\\n",
       "0                                   NaN                          NaN   \n",
       "1                                   NaN                          NaN   \n",
       "2                                   NaN                          NaN   \n",
       "3                                   NaN                          NaN   \n",
       "4                                   NaN                          NaN   \n",
       "\n",
       "  attributes.BYOB attributes.AgesAllowed attributes.Music.video  \\\n",
       "0             NaN                    NaN                    NaN   \n",
       "1             NaN                    NaN                    NaN   \n",
       "2             NaN                    NaN                    NaN   \n",
       "3             NaN                    NaN                    NaN   \n",
       "4             NaN                    NaN                    NaN   \n",
       "\n",
       "             ...            attributes.Caters  \\\n",
       "0            ...                          NaN   \n",
       "1            ...                          NaN   \n",
       "2            ...                          NaN   \n",
       "3            ...                          NaN   \n",
       "4            ...                         True   \n",
       "\n",
       "   attributes.RestaurantsReservations  \\\n",
       "0                                 NaN   \n",
       "1                               False   \n",
       "2                                 NaN   \n",
       "3                                 NaN   \n",
       "4                               False   \n",
       "\n",
       "  attributes.DietaryRestrictions.dairy-free  \\\n",
       "0                                       NaN   \n",
       "1                                       NaN   \n",
       "2                                       NaN   \n",
       "3                                       NaN   \n",
       "4                                       NaN   \n",
       "\n",
       "  attributes.DietaryRestrictions.vegan attributes.Ambience.romantic  \\\n",
       "0                                  NaN                          NaN   \n",
       "1                                  NaN                        False   \n",
       "2                                  NaN                          NaN   \n",
       "3                                  NaN                          NaN   \n",
       "4                                  NaN                        False   \n",
       "\n",
       "  attributes.Music.jukebox attributes.Ambience.upscale  \\\n",
       "0                      NaN                         NaN   \n",
       "1                      NaN                       False   \n",
       "2                      NaN                         NaN   \n",
       "3                      NaN                         NaN   \n",
       "4                      NaN                       False   \n",
       "\n",
       "  attributes.RestaurantsTakeOut attributes.BikeParking  \\\n",
       "0                           NaN                   True   \n",
       "1                          True                    NaN   \n",
       "2                           NaN                   True   \n",
       "3                           NaN                    NaN   \n",
       "4                          True                   True   \n",
       "\n",
       "  attributes.OutdoorSeating  \n",
       "0                       NaN  \n",
       "1                     False  \n",
       "2                     False  \n",
       "3                       NaN  \n",
       "4                     False  \n",
       "\n",
       "[5 rows x 101 columns]"
      ]
     },
     "execution_count": 4,
     "metadata": {},
     "output_type": "execute_result"
    }
   ],
   "source": [
    "## Read business dataset\n",
    "\n",
    "df_bus = pd.read_csv(main_path+\"business.csv\")\n",
    "df_bus.head()"
   ]
  },
  {
   "cell_type": "markdown",
   "metadata": {},
   "source": [
    "## Preparing the data"
   ]
  },
  {
   "cell_type": "markdown",
   "metadata": {},
   "source": [
    "Since data is concentrated around few geographical regions, we decided to pick one city Las Vegas, Nevada as the dataset for our analysis"
   ]
  },
  {
   "cell_type": "code",
   "execution_count": 6,
   "metadata": {
    "collapsed": true
   },
   "outputs": [],
   "source": [
    "# ## Get location info\n",
    "# df_bus_loc = df_bus[['business_id','postal_code','latitude','longitude']]\n",
    "# df_bus_loc.to_csv(main_path+'business_loc.csv')"
   ]
  },
  {
   "cell_type": "code",
   "execution_count": 7,
   "metadata": {
    "collapsed": false
   },
   "outputs": [
    {
     "name": "stdout",
     "output_type": "stream",
     "text": [
      "11956\n"
     ]
    },
    {
     "name": "stderr",
     "output_type": "stream",
     "text": [
      "C:\\Users\\bhargavic\\Anaconda2\\envs\\gl-env\\lib\\site-packages\\pandas\\util\\decorators.py:91: SettingWithCopyWarning: \n",
      "A value is trying to be set on a copy of a slice from a DataFrame\n",
      "\n",
      "See the caveats in the documentation: http://pandas.pydata.org/pandas-docs/stable/indexing.html#indexing-view-versus-copy\n",
      "  return func(*args, **kwargs)\n"
     ]
    }
   ],
   "source": [
    "#For Las Vegas\n",
    "\n",
    "df_bus_las = df_bus[(df_bus['latitude'] > 36.133583) & (df_bus['latitude'] < 36.383558) & \\\n",
    "                    (df_bus['longitude'] > -115.418743) & (df_bus['longitude'] < -115.059459)]\n",
    "df_bus_las.shape\n",
    "\n",
    "df_las_sub = df_bus_las[['business_id','categories']]\n",
    "df_las_sub.drop_duplicates(inplace=True)\n",
    "df_las_sub.size\n",
    "\n",
    "las_id = df_bus_las['business_id'].tolist()\n",
    "print len(las_id)"
   ]
  },
  {
   "cell_type": "markdown",
   "metadata": {
    "collapsed": false
   },
   "source": [
    "## Working with the Las Vegas dataset"
   ]
  },
  {
   "cell_type": "code",
   "execution_count": 8,
   "metadata": {
    "collapsed": false
   },
   "outputs": [
    {
     "data": {
      "text/plain": [
       "[(\"[u'Restaurants', u'Mexican']\", 99),\n",
       " (\"[u'Mexican', u'Restaurants']\", 84),\n",
       " (\"[u'Beauty & Spas', u'Nail Salons']\", 58),\n",
       " (\"[u'Pizza', u'Restaurants']\", 58),\n",
       " (\"[u'Restaurants', u'Pizza']\", 57),\n",
       " (\"[u'Nail Salons', u'Beauty & Spas']\", 55),\n",
       " (\"[u'Automotive', u'Auto Repair']\", 47),\n",
       " (\"[u'Financial Services', u'Banks & Credit Unions']\", 44),\n",
       " (\"[u'Food', u'Coffee & Tea']\", 43),\n",
       " (\"[u'Hair Salons', u'Beauty & Spas']\", 43)]"
      ]
     },
     "execution_count": 8,
     "metadata": {},
     "output_type": "execute_result"
    }
   ],
   "source": [
    "## Filtering businesses with the most common category tags\n",
    "\n",
    "df_las_sub = df_las_sub[df_las_sub['categories']!='[]']\n",
    "\n",
    "cat_count = Counter(df_las_sub['categories'])\n",
    "cat_count.most_common(10)"
   ]
  },
  {
   "cell_type": "code",
   "execution_count": 9,
   "metadata": {
    "collapsed": false
   },
   "outputs": [
    {
     "data": {
      "text/plain": [
       "[\"[u'Restaurants', u'Mexican']\",\n",
       " \"[u'Mexican', u'Restaurants']\",\n",
       " \"[u'Beauty & Spas', u'Nail Salons']\",\n",
       " \"[u'Pizza', u'Restaurants']\",\n",
       " \"[u'Restaurants', u'Pizza']\"]"
      ]
     },
     "execution_count": 9,
     "metadata": {},
     "output_type": "execute_result"
    }
   ],
   "source": [
    "## Obtain the top 100 categories\n",
    "cat_list = cat_count.most_common(100)\n",
    "cat_list = [i[0] for i in cat_list]\n",
    "cat_list[:5]"
   ]
  },
  {
   "cell_type": "code",
   "execution_count": 10,
   "metadata": {
    "collapsed": false
   },
   "outputs": [
    {
     "data": {
      "text/plain": [
       "(4736897, 9)"
      ]
     },
     "execution_count": 10,
     "metadata": {},
     "output_type": "execute_result"
    }
   ],
   "source": [
    "## Get the user reviews dataset\n",
    "\n",
    "df_rev = pd.read_csv(main_path+\"review.csv\")\n",
    "df_rev.shape"
   ]
  },
  {
   "cell_type": "code",
   "execution_count": 12,
   "metadata": {
    "collapsed": false
   },
   "outputs": [
    {
     "data": {
      "text/html": [
       "<div>\n",
       "<table border=\"1\" class=\"dataframe\">\n",
       "  <thead>\n",
       "    <tr style=\"text-align: right;\">\n",
       "      <th></th>\n",
       "      <th>funny</th>\n",
       "      <th>user_id</th>\n",
       "      <th>review_id</th>\n",
       "      <th>text</th>\n",
       "      <th>business_id</th>\n",
       "      <th>stars</th>\n",
       "      <th>date</th>\n",
       "      <th>useful</th>\n",
       "      <th>cool</th>\n",
       "    </tr>\n",
       "  </thead>\n",
       "  <tbody>\n",
       "    <tr>\n",
       "      <th>0</th>\n",
       "      <td>0</td>\n",
       "      <td>cjpdDjZyprfyDG3RlkVG3w</td>\n",
       "      <td>VfBHSwC5Vz_pbFluy07i9Q</td>\n",
       "      <td>My girlfriend and I stayed here for 3 nights a...</td>\n",
       "      <td>uYHaNptLzDLoV_JZ_MuzUA</td>\n",
       "      <td>5</td>\n",
       "      <td>2016-07-12</td>\n",
       "      <td>0</td>\n",
       "      <td>0</td>\n",
       "    </tr>\n",
       "    <tr>\n",
       "      <th>1</th>\n",
       "      <td>0</td>\n",
       "      <td>bjTcT8Ty4cJZhEOEo01FGA</td>\n",
       "      <td>3zRpneRKDsOPq92tq7ybAA</td>\n",
       "      <td>If you need an inexpensive place to stay for a...</td>\n",
       "      <td>uYHaNptLzDLoV_JZ_MuzUA</td>\n",
       "      <td>3</td>\n",
       "      <td>2016-10-02</td>\n",
       "      <td>0</td>\n",
       "      <td>0</td>\n",
       "    </tr>\n",
       "    <tr>\n",
       "      <th>2</th>\n",
       "      <td>0</td>\n",
       "      <td>AXgRULmWcME7J6Ix3I--ww</td>\n",
       "      <td>ne5WhI1jUFOcRn-b-gAzHA</td>\n",
       "      <td>Mittlerweile gibt es in Edinburgh zwei Ableger...</td>\n",
       "      <td>uYHaNptLzDLoV_JZ_MuzUA</td>\n",
       "      <td>3</td>\n",
       "      <td>2015-09-17</td>\n",
       "      <td>0</td>\n",
       "      <td>0</td>\n",
       "    </tr>\n",
       "  </tbody>\n",
       "</table>\n",
       "</div>"
      ],
      "text/plain": [
       "   funny                 user_id               review_id  \\\n",
       "0      0  cjpdDjZyprfyDG3RlkVG3w  VfBHSwC5Vz_pbFluy07i9Q   \n",
       "1      0  bjTcT8Ty4cJZhEOEo01FGA  3zRpneRKDsOPq92tq7ybAA   \n",
       "2      0  AXgRULmWcME7J6Ix3I--ww  ne5WhI1jUFOcRn-b-gAzHA   \n",
       "\n",
       "                                                text             business_id  \\\n",
       "0  My girlfriend and I stayed here for 3 nights a...  uYHaNptLzDLoV_JZ_MuzUA   \n",
       "1  If you need an inexpensive place to stay for a...  uYHaNptLzDLoV_JZ_MuzUA   \n",
       "2  Mittlerweile gibt es in Edinburgh zwei Ableger...  uYHaNptLzDLoV_JZ_MuzUA   \n",
       "\n",
       "   stars        date  useful  cool  \n",
       "0      5  2016-07-12       0     0  \n",
       "1      3  2016-10-02       0     0  \n",
       "2      3  2015-09-17       0     0  "
      ]
     },
     "execution_count": 12,
     "metadata": {},
     "output_type": "execute_result"
    }
   ],
   "source": [
    "df_rev.head(3)"
   ]
  },
  {
   "cell_type": "code",
   "execution_count": 13,
   "metadata": {
    "collapsed": false
   },
   "outputs": [
    {
     "data": {
      "text/html": [
       "<div>\n",
       "<table border=\"1\" class=\"dataframe\">\n",
       "  <thead>\n",
       "    <tr style=\"text-align: right;\">\n",
       "      <th></th>\n",
       "      <th>funny</th>\n",
       "      <th>user_id</th>\n",
       "      <th>review_id</th>\n",
       "      <th>text</th>\n",
       "      <th>business_id</th>\n",
       "      <th>stars</th>\n",
       "      <th>date</th>\n",
       "      <th>useful</th>\n",
       "      <th>cool</th>\n",
       "    </tr>\n",
       "  </thead>\n",
       "  <tbody>\n",
       "    <tr>\n",
       "      <th>482</th>\n",
       "      <td>0</td>\n",
       "      <td>jgzD7eBwZrasqy6wUy122w</td>\n",
       "      <td>BLIJFaJZ-_fOcBs16fL_6g</td>\n",
       "      <td>Loved, Loved, Loved. It is a simple place, but...</td>\n",
       "      <td>OQcvO5P3gH0cuJ-bPXwfQQ</td>\n",
       "      <td>5</td>\n",
       "      <td>2017-04-01</td>\n",
       "      <td>0</td>\n",
       "      <td>0</td>\n",
       "    </tr>\n",
       "    <tr>\n",
       "      <th>483</th>\n",
       "      <td>0</td>\n",
       "      <td>2v_meK453YAWXz4NjJ9abA</td>\n",
       "      <td>VuKbGklNbOESJSx76_EjyA</td>\n",
       "      <td>Is a small restaurant food is good! Also the o...</td>\n",
       "      <td>OQcvO5P3gH0cuJ-bPXwfQQ</td>\n",
       "      <td>5</td>\n",
       "      <td>2016-11-05</td>\n",
       "      <td>0</td>\n",
       "      <td>0</td>\n",
       "    </tr>\n",
       "    <tr>\n",
       "      <th>484</th>\n",
       "      <td>0</td>\n",
       "      <td>cdFWtOgA1PAkNYkiwzUJbQ</td>\n",
       "      <td>HBaAmcS9zp5rY1qiMuWygA</td>\n",
       "      <td>Best Mexican restaurant in Vegas. Meat is supe...</td>\n",
       "      <td>OQcvO5P3gH0cuJ-bPXwfQQ</td>\n",
       "      <td>5</td>\n",
       "      <td>2017-06-01</td>\n",
       "      <td>1</td>\n",
       "      <td>0</td>\n",
       "    </tr>\n",
       "  </tbody>\n",
       "</table>\n",
       "</div>"
      ],
      "text/plain": [
       "     funny                 user_id               review_id  \\\n",
       "482      0  jgzD7eBwZrasqy6wUy122w  BLIJFaJZ-_fOcBs16fL_6g   \n",
       "483      0  2v_meK453YAWXz4NjJ9abA  VuKbGklNbOESJSx76_EjyA   \n",
       "484      0  cdFWtOgA1PAkNYkiwzUJbQ  HBaAmcS9zp5rY1qiMuWygA   \n",
       "\n",
       "                                                  text  \\\n",
       "482  Loved, Loved, Loved. It is a simple place, but...   \n",
       "483  Is a small restaurant food is good! Also the o...   \n",
       "484  Best Mexican restaurant in Vegas. Meat is supe...   \n",
       "\n",
       "                business_id  stars        date  useful  cool  \n",
       "482  OQcvO5P3gH0cuJ-bPXwfQQ      5  2017-04-01       0     0  \n",
       "483  OQcvO5P3gH0cuJ-bPXwfQQ      5  2016-11-05       0     0  \n",
       "484  OQcvO5P3gH0cuJ-bPXwfQQ      5  2017-06-01       1     0  "
      ]
     },
     "execution_count": 13,
     "metadata": {},
     "output_type": "execute_result"
    }
   ],
   "source": [
    "## Get reviews specific to Las Vegas\n",
    "\n",
    "df_rev_las = df_rev[df_rev['business_id'].isin(las_id)]\n",
    "df_rev_las.head(3)"
   ]
  },
  {
   "cell_type": "code",
   "execution_count": 14,
   "metadata": {
    "collapsed": false
   },
   "outputs": [
    {
     "data": {
      "text/plain": [
       "(458310, 9)"
      ]
     },
     "execution_count": 14,
     "metadata": {},
     "output_type": "execute_result"
    }
   ],
   "source": [
    "df_rev_las.shape"
   ]
  },
  {
   "cell_type": "code",
   "execution_count": 15,
   "metadata": {
    "collapsed": false
   },
   "outputs": [
    {
     "data": {
      "text/plain": [
       "(457998, 10)"
      ]
     },
     "execution_count": 15,
     "metadata": {},
     "output_type": "execute_result"
    }
   ],
   "source": [
    "df_rev_las = df_rev_las.merge(df_las_sub, on='business_id', how = 'inner')\n",
    "df_rev_las.shape"
   ]
  },
  {
   "cell_type": "code",
   "execution_count": 16,
   "metadata": {
    "collapsed": false
   },
   "outputs": [
    {
     "data": {
      "text/plain": [
       "(57189, 10)"
      ]
     },
     "execution_count": 16,
     "metadata": {},
     "output_type": "execute_result"
    }
   ],
   "source": [
    "## Filter reviews belonging to 100 most frequent categories\n",
    "\n",
    "df_rev_new = df_rev_las[df_rev_las['categories'].isin(cat_list)]\n",
    "df_rev_new.shape"
   ]
  },
  {
   "cell_type": "markdown",
   "metadata": {},
   "source": [
    "## Feature generation from text data"
   ]
  },
  {
   "cell_type": "code",
   "execution_count": 17,
   "metadata": {
    "collapsed": true
   },
   "outputs": [],
   "source": [
    "## Function to preprocess review text\n",
    "\n",
    "def clean_text(rtext):\n",
    "    stop_free = \" \".join([i for i in rtext.lower().split() if i not in stop_all])\n",
    "    punc_free = ''.join(ch for ch in stop_free if ch not in exclude)\n",
    "    return punc_free"
   ]
  },
  {
   "cell_type": "code",
   "execution_count": 19,
   "metadata": {
    "collapsed": false,
    "scrolled": true
   },
   "outputs": [
    {
     "name": "stderr",
     "output_type": "stream",
     "text": [
      "C:\\Users\\bhargavic\\Anaconda2\\envs\\gl-env\\lib\\site-packages\\ipykernel\\__main__.py:1: SettingWithCopyWarning: \n",
      "A value is trying to be set on a copy of a slice from a DataFrame.\n",
      "Try using .loc[row_indexer,col_indexer] = value instead\n",
      "\n",
      "See the caveats in the documentation: http://pandas.pydata.org/pandas-docs/stable/indexing.html#indexing-view-versus-copy\n",
      "  if __name__ == '__main__':\n"
     ]
    },
    {
     "data": {
      "text/html": [
       "<div>\n",
       "<table border=\"1\" class=\"dataframe\">\n",
       "  <thead>\n",
       "    <tr style=\"text-align: right;\">\n",
       "      <th></th>\n",
       "      <th>funny</th>\n",
       "      <th>user_id</th>\n",
       "      <th>review_id</th>\n",
       "      <th>text</th>\n",
       "      <th>business_id</th>\n",
       "      <th>stars</th>\n",
       "      <th>date</th>\n",
       "      <th>useful</th>\n",
       "      <th>cool</th>\n",
       "      <th>categories</th>\n",
       "      <th>cleaned_text</th>\n",
       "    </tr>\n",
       "  </thead>\n",
       "  <tbody>\n",
       "    <tr>\n",
       "      <th>0</th>\n",
       "      <td>0</td>\n",
       "      <td>jgzD7eBwZrasqy6wUy122w</td>\n",
       "      <td>BLIJFaJZ-_fOcBs16fL_6g</td>\n",
       "      <td>Loved, Loved, Loved. It is a simple place, but...</td>\n",
       "      <td>OQcvO5P3gH0cuJ-bPXwfQQ</td>\n",
       "      <td>5</td>\n",
       "      <td>2017-04-01</td>\n",
       "      <td>0</td>\n",
       "      <td>0</td>\n",
       "      <td>[u'Restaurants', u'Mexican']</td>\n",
       "      <td>loved loved loved simple place dont place deco...</td>\n",
       "    </tr>\n",
       "    <tr>\n",
       "      <th>1</th>\n",
       "      <td>0</td>\n",
       "      <td>2v_meK453YAWXz4NjJ9abA</td>\n",
       "      <td>VuKbGklNbOESJSx76_EjyA</td>\n",
       "      <td>Is a small restaurant food is good! Also the o...</td>\n",
       "      <td>OQcvO5P3gH0cuJ-bPXwfQQ</td>\n",
       "      <td>5</td>\n",
       "      <td>2016-11-05</td>\n",
       "      <td>0</td>\n",
       "      <td>0</td>\n",
       "      <td>[u'Restaurants', u'Mexican']</td>\n",
       "      <td>small restaurant food good owners friendly mak...</td>\n",
       "    </tr>\n",
       "    <tr>\n",
       "      <th>2</th>\n",
       "      <td>0</td>\n",
       "      <td>cdFWtOgA1PAkNYkiwzUJbQ</td>\n",
       "      <td>HBaAmcS9zp5rY1qiMuWygA</td>\n",
       "      <td>Best Mexican restaurant in Vegas. Meat is supe...</td>\n",
       "      <td>OQcvO5P3gH0cuJ-bPXwfQQ</td>\n",
       "      <td>5</td>\n",
       "      <td>2017-06-01</td>\n",
       "      <td>1</td>\n",
       "      <td>0</td>\n",
       "      <td>[u'Restaurants', u'Mexican']</td>\n",
       "      <td>mexican restaurant vegas meat super soft tasty...</td>\n",
       "    </tr>\n",
       "  </tbody>\n",
       "</table>\n",
       "</div>"
      ],
      "text/plain": [
       "   funny                 user_id               review_id  \\\n",
       "0      0  jgzD7eBwZrasqy6wUy122w  BLIJFaJZ-_fOcBs16fL_6g   \n",
       "1      0  2v_meK453YAWXz4NjJ9abA  VuKbGklNbOESJSx76_EjyA   \n",
       "2      0  cdFWtOgA1PAkNYkiwzUJbQ  HBaAmcS9zp5rY1qiMuWygA   \n",
       "\n",
       "                                                text             business_id  \\\n",
       "0  Loved, Loved, Loved. It is a simple place, but...  OQcvO5P3gH0cuJ-bPXwfQQ   \n",
       "1  Is a small restaurant food is good! Also the o...  OQcvO5P3gH0cuJ-bPXwfQQ   \n",
       "2  Best Mexican restaurant in Vegas. Meat is supe...  OQcvO5P3gH0cuJ-bPXwfQQ   \n",
       "\n",
       "   stars        date  useful  cool                    categories  \\\n",
       "0      5  2017-04-01       0     0  [u'Restaurants', u'Mexican']   \n",
       "1      5  2016-11-05       0     0  [u'Restaurants', u'Mexican']   \n",
       "2      5  2017-06-01       1     0  [u'Restaurants', u'Mexican']   \n",
       "\n",
       "                                        cleaned_text  \n",
       "0  loved loved loved simple place dont place deco...  \n",
       "1  small restaurant food good owners friendly mak...  \n",
       "2  mexican restaurant vegas meat super soft tasty...  "
      ]
     },
     "execution_count": 19,
     "metadata": {},
     "output_type": "execute_result"
    }
   ],
   "source": [
    "df_rev_new['cleaned_text'] = df_rev_new['text'].apply(clean_text)\n",
    "df_rev_new.head(3)"
   ]
  },
  {
   "cell_type": "markdown",
   "metadata": {},
   "source": [
    "## Noun Tags\n",
    "Restricting to Nouns to generate the topics in the text"
   ]
  },
  {
   "cell_type": "code",
   "execution_count": 20,
   "metadata": {
    "collapsed": false,
    "scrolled": true
   },
   "outputs": [
    {
     "name": "stdout",
     "output_type": "stream",
     "text": [
      "This non-commercial license of GraphLab Create for academic use is assigned to bchalasa@iu.edu and will expire on November 26, 2018.\n"
     ]
    },
    {
     "name": "stderr",
     "output_type": "stream",
     "text": [
      "[INFO] graphlab.cython.cy_server: GraphLab Create v2.1 started. Logging: C:\\Users\\BHARGA~1\\AppData\\Local\\Temp\\graphlab_server_1513109858.log.0\n"
     ]
    },
    {
     "name": "stdout",
     "output_type": "stream",
     "text": [
      "POS Tagging runtime:  0:04:12.357000\n"
     ]
    },
    {
     "data": {
      "text/html": [
       "<div style=\"max-height:1000px;max-width:1500px;overflow:auto;\"><table frame=\"box\" rules=\"cols\">\n",
       "    <tr>\n",
       "        <th style=\"padding-left: 1em; padding-right: 1em; text-align: center\">nouns_tags</th>\n",
       "    </tr>\n",
       "    <tr>\n",
       "        <td style=\"padding-left: 1em; padding-right: 1em; text-align: center; vertical-align: top\">{'NOUN': {'customer': 1L,<br>'rating': 1L, 'decor': ...</td>\n",
       "    </tr>\n",
       "    <tr>\n",
       "        <td style=\"padding-left: 1em; padding-right: 1em; text-align: center; vertical-align: top\">{'NOUN': {'food': 1L,<br>'owners': 1L, ...</td>\n",
       "    </tr>\n",
       "    <tr>\n",
       "        <td style=\"padding-left: 1em; padding-right: 1em; text-align: center; vertical-align: top\">{'NOUN': {'yummy': 1L,<br>'meat': 1L, 'service': ...</td>\n",
       "    </tr>\n",
       "    <tr>\n",
       "        <td style=\"padding-left: 1em; padding-right: 1em; text-align: center; vertical-align: top\">{'NOUN': {'picture': 1L,<br>'burrito': 1L, ...</td>\n",
       "    </tr>\n",
       "    <tr>\n",
       "        <td style=\"padding-left: 1em; padding-right: 1em; text-align: center; vertical-align: top\">{'NOUN': {'shop': 1L,<br>'cheese': 2L, 'figure': ...</td>\n",
       "    </tr>\n",
       "    <tr>\n",
       "        <td style=\"padding-left: 1em; padding-right: 1em; text-align: center; vertical-align: top\">{'NOUN': {'service': 1L,<br>'business': 1L, ...</td>\n",
       "    </tr>\n",
       "    <tr>\n",
       "        <td style=\"padding-left: 1em; padding-right: 1em; text-align: center; vertical-align: top\">{'NOUN': {'cheese': 1L,<br>'terms': 1L, 'lot': 1L, ...</td>\n",
       "    </tr>\n",
       "    <tr>\n",
       "        <td style=\"padding-left: 1em; padding-right: 1em; text-align: center; vertical-align: top\">{'NOUN': {'shop': 2L,<br>'pueblo': 1L, 'line': ...</td>\n",
       "    </tr>\n",
       "    <tr>\n",
       "        <td style=\"padding-left: 1em; padding-right: 1em; text-align: center; vertical-align: top\">{'NOUN': {'daughter': 1L,<br>'service': 1L, 'food': ...</td>\n",
       "    </tr>\n",
       "    <tr>\n",
       "        <td style=\"padding-left: 1em; padding-right: 1em; text-align: center; vertical-align: top\">{'NOUN': {'week': 1L,<br>'asada': 1L, 'tacos': ...</td>\n",
       "    </tr>\n",
       "</table>\n",
       "[57189 rows x 1 columns]<br/>Note: Only the head of the SFrame is printed.<br/>You can use print_rows(num_rows=m, num_columns=n) to print more rows and columns.\n",
       "</div>"
      ],
      "text/plain": [
       "Columns:\n",
       "\tnouns_tags\tdict\n",
       "\n",
       "Rows: 57189\n",
       "\n",
       "Data:\n",
       "+-------------------------------+\n",
       "|           nouns_tags          |\n",
       "+-------------------------------+\n",
       "| {'NOUN': {'customer': 1L, ... |\n",
       "| {'NOUN': {'food': 1L, 'own... |\n",
       "| {'NOUN': {'yummy': 1L, 'me... |\n",
       "| {'NOUN': {'picture': 1L, '... |\n",
       "| {'NOUN': {'shop': 1L, 'che... |\n",
       "| {'NOUN': {'service': 1L, '... |\n",
       "| {'NOUN': {'cheese': 1L, 't... |\n",
       "| {'NOUN': {'shop': 2L, 'pue... |\n",
       "| {'NOUN': {'daughter': 1L, ... |\n",
       "| {'NOUN': {'week': 1L, 'asa... |\n",
       "+-------------------------------+\n",
       "[57189 rows x 1 columns]\n",
       "Note: Only the head of the SFrame is printed.\n",
       "You can use print_rows(num_rows=m, num_columns=n) to print more rows and columns."
      ]
     },
     "execution_count": 20,
     "metadata": {},
     "output_type": "execute_result"
    }
   ],
   "source": [
    "## Extracting noun tags using graphlab package\n",
    "\n",
    "n3 = datetime.now()\n",
    "\n",
    "sf_rev = gl.SFrame(df_rev_new[['review_id','cleaned_text']])\n",
    "\n",
    "sf_pos = gl.SFrame()\n",
    "sf_pos['nouns_tags'] = gl.text_analytics.extract_parts_of_speech(sf_rev['cleaned_text'],chosen_pos=[gl.text_analytics.PartOfSpeech.NOUN])\n",
    "\n",
    "print \"POS Tagging runtime: \",datetime.now()-n3\n",
    "sf_pos"
   ]
  },
  {
   "cell_type": "code",
   "execution_count": 21,
   "metadata": {
    "collapsed": false,
    "scrolled": false
   },
   "outputs": [
    {
     "name": "stderr",
     "output_type": "stream",
     "text": [
      "C:\\Users\\bhargavic\\Anaconda2\\envs\\gl-env\\lib\\site-packages\\ipykernel\\__main__.py:1: SettingWithCopyWarning: \n",
      "A value is trying to be set on a copy of a slice from a DataFrame.\n",
      "Try using .loc[row_indexer,col_indexer] = value instead\n",
      "\n",
      "See the caveats in the documentation: http://pandas.pydata.org/pandas-docs/stable/indexing.html#indexing-view-versus-copy\n",
      "  if __name__ == '__main__':\n"
     ]
    }
   ],
   "source": [
    "df_rev_new['noun_tags'] = list(sf_pos['nouns_tags'])"
   ]
  },
  {
   "cell_type": "code",
   "execution_count": 22,
   "metadata": {
    "collapsed": true
   },
   "outputs": [],
   "source": [
    "def lemmatize_word(word):\n",
    "    return lemma.lemmatize(word.decode('utf-8'))\n",
    "    \n",
    "def format_tags(tags):\n",
    "    nlist = tags['NOUN'].keys()\n",
    "    lem_list = list(set([i for i in nlist]))\n",
    "    \n",
    "    return lem_list"
   ]
  },
  {
   "cell_type": "code",
   "execution_count": 23,
   "metadata": {
    "collapsed": false
   },
   "outputs": [
    {
     "name": "stderr",
     "output_type": "stream",
     "text": [
      "C:\\Users\\bhargavic\\Anaconda2\\envs\\gl-env\\lib\\site-packages\\ipykernel\\__main__.py:1: SettingWithCopyWarning: \n",
      "A value is trying to be set on a copy of a slice from a DataFrame.\n",
      "Try using .loc[row_indexer,col_indexer] = value instead\n",
      "\n",
      "See the caveats in the documentation: http://pandas.pydata.org/pandas-docs/stable/indexing.html#indexing-view-versus-copy\n",
      "  if __name__ == '__main__':\n"
     ]
    }
   ],
   "source": [
    "df_rev_new['noun_tags'] = df_rev_new['noun_tags'].apply(format_tags)"
   ]
  },
  {
   "cell_type": "code",
   "execution_count": 24,
   "metadata": {
    "collapsed": false
   },
   "outputs": [
    {
     "data": {
      "text/html": [
       "<div>\n",
       "<table border=\"1\" class=\"dataframe\">\n",
       "  <thead>\n",
       "    <tr style=\"text-align: right;\">\n",
       "      <th></th>\n",
       "      <th>funny</th>\n",
       "      <th>user_id</th>\n",
       "      <th>review_id</th>\n",
       "      <th>text</th>\n",
       "      <th>business_id</th>\n",
       "      <th>stars</th>\n",
       "      <th>date</th>\n",
       "      <th>useful</th>\n",
       "      <th>cool</th>\n",
       "      <th>categories</th>\n",
       "      <th>cleaned_text</th>\n",
       "      <th>noun_tags</th>\n",
       "    </tr>\n",
       "  </thead>\n",
       "  <tbody>\n",
       "    <tr>\n",
       "      <th>0</th>\n",
       "      <td>0</td>\n",
       "      <td>jgzD7eBwZrasqy6wUy122w</td>\n",
       "      <td>BLIJFaJZ-_fOcBs16fL_6g</td>\n",
       "      <td>Loved, Loved, Loved. It is a simple place, but...</td>\n",
       "      <td>OQcvO5P3gH0cuJ-bPXwfQQ</td>\n",
       "      <td>5</td>\n",
       "      <td>2017-04-01</td>\n",
       "      <td>0</td>\n",
       "      <td>0</td>\n",
       "      <td>[u'Restaurants', u'Mexican']</td>\n",
       "      <td>loved loved loved simple place dont place deco...</td>\n",
       "      <td>[customer, rating, decor, dicount, food, note,...</td>\n",
       "    </tr>\n",
       "    <tr>\n",
       "      <th>1</th>\n",
       "      <td>0</td>\n",
       "      <td>2v_meK453YAWXz4NjJ9abA</td>\n",
       "      <td>VuKbGklNbOESJSx76_EjyA</td>\n",
       "      <td>Is a small restaurant food is good! Also the o...</td>\n",
       "      <td>OQcvO5P3gH0cuJ-bPXwfQQ</td>\n",
       "      <td>5</td>\n",
       "      <td>2016-11-05</td>\n",
       "      <td>0</td>\n",
       "      <td>0</td>\n",
       "      <td>[u'Restaurants', u'Mexican']</td>\n",
       "      <td>small restaurant food good owners friendly mak...</td>\n",
       "      <td>[food, owners, restaurant]</td>\n",
       "    </tr>\n",
       "    <tr>\n",
       "      <th>2</th>\n",
       "      <td>0</td>\n",
       "      <td>cdFWtOgA1PAkNYkiwzUJbQ</td>\n",
       "      <td>HBaAmcS9zp5rY1qiMuWygA</td>\n",
       "      <td>Best Mexican restaurant in Vegas. Meat is supe...</td>\n",
       "      <td>OQcvO5P3gH0cuJ-bPXwfQQ</td>\n",
       "      <td>5</td>\n",
       "      <td>2017-06-01</td>\n",
       "      <td>1</td>\n",
       "      <td>0</td>\n",
       "      <td>[u'Restaurants', u'Mexican']</td>\n",
       "      <td>mexican restaurant vegas meat super soft tasty...</td>\n",
       "      <td>[yummy, meat, service, restaurant, fish, vegas...</td>\n",
       "    </tr>\n",
       "  </tbody>\n",
       "</table>\n",
       "</div>"
      ],
      "text/plain": [
       "   funny                 user_id               review_id  \\\n",
       "0      0  jgzD7eBwZrasqy6wUy122w  BLIJFaJZ-_fOcBs16fL_6g   \n",
       "1      0  2v_meK453YAWXz4NjJ9abA  VuKbGklNbOESJSx76_EjyA   \n",
       "2      0  cdFWtOgA1PAkNYkiwzUJbQ  HBaAmcS9zp5rY1qiMuWygA   \n",
       "\n",
       "                                                text             business_id  \\\n",
       "0  Loved, Loved, Loved. It is a simple place, but...  OQcvO5P3gH0cuJ-bPXwfQQ   \n",
       "1  Is a small restaurant food is good! Also the o...  OQcvO5P3gH0cuJ-bPXwfQQ   \n",
       "2  Best Mexican restaurant in Vegas. Meat is supe...  OQcvO5P3gH0cuJ-bPXwfQQ   \n",
       "\n",
       "   stars        date  useful  cool                    categories  \\\n",
       "0      5  2017-04-01       0     0  [u'Restaurants', u'Mexican']   \n",
       "1      5  2016-11-05       0     0  [u'Restaurants', u'Mexican']   \n",
       "2      5  2017-06-01       1     0  [u'Restaurants', u'Mexican']   \n",
       "\n",
       "                                        cleaned_text  \\\n",
       "0  loved loved loved simple place dont place deco...   \n",
       "1  small restaurant food good owners friendly mak...   \n",
       "2  mexican restaurant vegas meat super soft tasty...   \n",
       "\n",
       "                                           noun_tags  \n",
       "0  [customer, rating, decor, dicount, food, note,...  \n",
       "1                         [food, owners, restaurant]  \n",
       "2  [yummy, meat, service, restaurant, fish, vegas...  "
      ]
     },
     "execution_count": 24,
     "metadata": {},
     "output_type": "execute_result"
    }
   ],
   "source": [
    "df_rev_new.head(3)"
   ]
  },
  {
   "cell_type": "code",
   "execution_count": 91,
   "metadata": {
    "collapsed": true
   },
   "outputs": [],
   "source": [
    "##Store results\n",
    "df_rev_new.to_csv(main_path+'las_test_pos.csv')"
   ]
  },
  {
   "cell_type": "code",
   "execution_count": 26,
   "metadata": {
    "collapsed": false
   },
   "outputs": [
    {
     "data": {
      "text/plain": [
       "[['customer',\n",
       "  'rating',\n",
       "  'decor',\n",
       "  'dicount',\n",
       "  'food',\n",
       "  'note',\n",
       "  'compensation',\n",
       "  'place'],\n",
       " ['food', 'owners', 'restaurant'],\n",
       " ['yummy', 'meat', 'service', 'restaurant', 'fish', 'vegas', 'salsa']]"
      ]
     },
     "execution_count": 26,
     "metadata": {},
     "output_type": "execute_result"
    }
   ],
   "source": [
    "## List of all noun tags in reviews as input to LDA\n",
    "\n",
    "tagged_revs = df_rev_new['noun_tags'].tolist()\n",
    "tagged_revs[:3]"
   ]
  },
  {
   "cell_type": "markdown",
   "metadata": {},
   "source": [
    "## Train LDA Model"
   ]
  },
  {
   "cell_type": "markdown",
   "metadata": {},
   "source": [
    "- For topic modeling we used the LDA algorithm available in gensim\n",
    "- The following parameters were tuned: num_topics, chunksize, update_every, passes"
   ]
  },
  {
   "cell_type": "code",
   "execution_count": 27,
   "metadata": {
    "collapsed": false
   },
   "outputs": [
    {
     "name": "stdout",
     "output_type": "stream",
     "text": [
      "LDA Runtime:  0:06:20.630000\n"
     ]
    }
   ],
   "source": [
    "## Run topic modeling over all the reviews\n",
    "n3 = datetime.now()\n",
    "\n",
    "tagged_revs = df_rev_new['noun_tags'].tolist()\n",
    "\n",
    " # Creating the term dictionary \n",
    "dictionary = corpora.Dictionary(tagged_revs)\n",
    "dictionary.filter_extremes(keep_n=10000)\n",
    "dictionary.compactify()\n",
    "len(dictionary)\n",
    "\n",
    "# Converting into Document Term Matrix\n",
    "doc_term_matrix = [dictionary.doc2bow(rtxt) for rtxt in tagged_revs]\n",
    "\n",
    "# LDA model object \n",
    "Lda = gensim.models.ldamodel.LdaModel\n",
    "\n",
    "# Training the LDA model\n",
    "ldamodel = Lda(doc_term_matrix, num_topics=50, id2word = dictionary, chunksize=3000, update_every=2, passes=2)\n",
    "\n",
    "print \"LDA Runtime: \",datetime.now() - n3"
   ]
  },
  {
   "cell_type": "code",
   "execution_count": 29,
   "metadata": {
    "collapsed": false
   },
   "outputs": [
    {
     "data": {
      "text/plain": [
       "[(21,\n",
       "  u'0.029*\"apartment\" + 0.025*\"management\" + 0.024*\"office\" + 0.020*\"maintenance\" + 0.016*\"place\" + 0.016*\"rent\" + 0.016*\"months\" + 0.015*\"apartments\" + 0.015*\"staff\" + 0.015*\"lease\"'),\n",
       " (33,\n",
       "  u'0.025*\"pizza\" + 0.024*\"place\" + 0.023*\"service\" + 0.022*\"pie\" + 0.022*\"control\" + 0.018*\"notch\" + 0.017*\"pest\" + 0.017*\"fruit\" + 0.016*\"dough\" + 0.016*\"time\"'),\n",
       " (35,\n",
       "  u'0.026*\"cafe\" + 0.025*\"deals\" + 0.024*\"rio\" + 0.017*\"effort\" + 0.016*\"traffic\" + 0.012*\"miss\" + 0.012*\"spanish\" + 0.011*\"barbacoa\" + 0.011*\"section\" + 0.010*\"preparation\"'),\n",
       " (23,\n",
       "  u'0.042*\"store\" + 0.032*\"location\" + 0.028*\"staff\" + 0.023*\"service\" + 0.020*\"area\" + 0.013*\"place\" + 0.013*\"stores\" + 0.013*\"seating\" + 0.012*\"customer\" + 0.011*\"convenience\"'),\n",
       " (20,\n",
       "  u'0.050*\"tacos\" + 0.045*\"food\" + 0.034*\"place\" + 0.030*\"taco\" + 0.021*\"salsa\" + 0.020*\"beans\" + 0.019*\"chips\" + 0.019*\"meat\" + 0.019*\"burrito\" + 0.016*\"rice\"')]"
      ]
     },
     "execution_count": 29,
     "metadata": {},
     "output_type": "execute_result"
    }
   ],
   "source": [
    "lda_topics = ldamodel.print_topics(num_topics=5, num_words=10)\n",
    "lda_topics"
   ]
  },
  {
   "cell_type": "code",
   "execution_count": 60,
   "metadata": {
    "collapsed": true
   },
   "outputs": [],
   "source": [
    "## Save the LDA model\n",
    "ldamodel.save(main_path+'LdaModels\\las_top50')"
   ]
  },
  {
   "cell_type": "code",
   "execution_count": 28,
   "metadata": {
    "collapsed": false
   },
   "outputs": [],
   "source": [
    "## Load previously generated model\n",
    "\n",
    "Lda = gensim.models.ldamodel.LdaModel\n",
    "ldamodel = Lda.load(main_path+'LdaModels\\las_top50')"
   ]
  },
  {
   "cell_type": "code",
   "execution_count": 30,
   "metadata": {
    "collapsed": false
   },
   "outputs": [],
   "source": [
    "## Infer a topic name for thr LDA topics\n",
    "\n",
    "topic_map =[(0,'service;steak'),(1, 'fast food;mexican'),(2, 'ambience'),(3, 'location'),(4, 'italian'),(5, 'gas station;fast food'),\\\n",
    "            (6, 'arts;entertainment'),(7, 'home services'),(8, 'ice cream'),(9, 'management;service'),(10, 'fast food'),(11, 'arts;entertainment'),\\\n",
    "            (12, 'breakfast;restaurant'),(13, 'ice cream'),(14, 'pizza'), (15, 'service;experience'), (16, 'none'), (17, 'bar;nightlife'), (18, 'hair salon;beauty'), \\\n",
    "            (19, 'ice cream'), (20, 'mexican'), (21, 'apartment;home services'), (22, 'parks'),(23, 'location;service'), (24, 'vet;health;medical'),\\\n",
    "            (25, 'Asian;thai;chinese'),(26, 'car dealer;auto service;car;auto'),(27, 'banks;financial'), (28, 'pizza;italian'),\\\n",
    "            (29, 'none'),(30, 'apartment;management'),(31, 'service;apartments'), (32, 'apartments'),(33, 'pizza;italian'), \\\n",
    "            (34, 'cafe;coffee'),(35, 'cafe;coffee'),(36, 'apartment'),(37, 'service;customer'),(38, 'dentist;health'),(39, 'none'),\\\n",
    "            (40, 'ambience'),(41, 'church'),(42, 'italian'),(43, 'fast food;american'), (44, 'nail salon;beauty'),(45, 'hair salon;beauty'),\\\n",
    "            (46, 'weddings;jewelery;shopping'),(47, 'dinner;food;restaurant'),(48, 'auto service;car;auto'), (49, 'optometrist;health')]"
   ]
  },
  {
   "cell_type": "code",
   "execution_count": 31,
   "metadata": {
    "collapsed": true
   },
   "outputs": [],
   "source": [
    "## Create a topic_name - topic_id mapping\n",
    "tlist = [i[1] for i in topic_map]\n",
    "lda_topic_map = dict(zip(range(51),tlist))"
   ]
  },
  {
   "cell_type": "markdown",
   "metadata": {},
   "source": [
    "## METHOD I - Predicting topics from all the concatenated topics of a business"
   ]
  },
  {
   "cell_type": "code",
   "execution_count": 33,
   "metadata": {
    "collapsed": true
   },
   "outputs": [],
   "source": [
    "## Predicting topics concatenating all the reviews of a business\n",
    "def predict_topics(bus_id):\n",
    "    \n",
    "    df_sub = df_rev_new[(df_rev_new['business_id'] == bus_id)]\n",
    "    \n",
    "    review_list = df_sub['noun_tags'].tolist()\n",
    "    noun_tags = list(set([j for i in review_list for j in i]))\n",
    "\n",
    "    new_review_bow = dictionary.doc2bow(noun_tags)\n",
    "    new_review_lda = ldamodel[new_review_bow]\n",
    "\n",
    "    return sorted(new_review_lda,key=itemgetter(1), reverse=True)[:5]\n"
   ]
  },
  {
   "cell_type": "code",
   "execution_count": 34,
   "metadata": {
    "collapsed": false
   },
   "outputs": [
    {
     "name": "stderr",
     "output_type": "stream",
     "text": [
      "C:\\Users\\bhargavic\\Anaconda2\\envs\\gl-env\\lib\\site-packages\\ipykernel\\__main__.py:12: SettingWithCopyWarning: \n",
      "A value is trying to be set on a copy of a slice from a DataFrame.\n",
      "Try using .loc[row_indexer,col_indexer] = value instead\n",
      "\n",
      "See the caveats in the documentation: http://pandas.pydata.org/pandas-docs/stable/indexing.html#indexing-view-versus-copy\n"
     ]
    }
   ],
   "source": [
    "## Predict topics for cancatenated nouns of all business reviews\n",
    "\n",
    "tagged_revs = df_rev_new['noun_tags'].tolist()\n",
    "\n",
    " # Creating the term dictionary \n",
    "dictionary = corpora.Dictionary(tagged_revs)\n",
    "dictionary.filter_extremes(keep_n=10000)\n",
    "dictionary.compactify()\n",
    "\n",
    "df_topics = df_rev_new[['business_id','categories']]\n",
    "df_topics.drop_duplicates(inplace=True)\n",
    "df_topics['predicted_topics'] = df_topics['business_id'].apply(predict_topics)"
   ]
  },
  {
   "cell_type": "code",
   "execution_count": 35,
   "metadata": {
    "collapsed": false
   },
   "outputs": [
    {
     "data": {
      "text/html": [
       "<div>\n",
       "<table border=\"1\" class=\"dataframe\">\n",
       "  <thead>\n",
       "    <tr style=\"text-align: right;\">\n",
       "      <th></th>\n",
       "      <th>business_id</th>\n",
       "      <th>categories</th>\n",
       "      <th>predicted_topics</th>\n",
       "    </tr>\n",
       "  </thead>\n",
       "  <tbody>\n",
       "    <tr>\n",
       "      <th>0</th>\n",
       "      <td>OQcvO5P3gH0cuJ-bPXwfQQ</td>\n",
       "      <td>[u'Restaurants', u'Mexican']</td>\n",
       "      <td>[(20, 0.20127907292), (8, 0.111738134059), (0,...</td>\n",
       "    </tr>\n",
       "    <tr>\n",
       "      <th>614</th>\n",
       "      <td>VkIKXVbSfcbxybbxbEt98w</td>\n",
       "      <td>[u'Automotive', u'Car Dealers']</td>\n",
       "      <td>[(7, 0.0841880402612), (26, 0.0797780933151), ...</td>\n",
       "    </tr>\n",
       "    <tr>\n",
       "      <th>820</th>\n",
       "      <td>ckc3l8cSuggloG4NlquEFQ</td>\n",
       "      <td>[u'Fast Food', u'Restaurants']</td>\n",
       "      <td>[(38, 0.292302679118), (43, 0.145408656484), (...</td>\n",
       "    </tr>\n",
       "    <tr>\n",
       "      <th>856</th>\n",
       "      <td>Du8gPSC88a9OuY1Vk0b52g</td>\n",
       "      <td>[u'Ice Cream &amp; Frozen Yogurt', u'Food']</td>\n",
       "      <td>[(8, 0.139359371047), (28, 0.125755298859), (2...</td>\n",
       "    </tr>\n",
       "    <tr>\n",
       "      <th>880</th>\n",
       "      <td>y7yo-LAjJnNoYwWX6ZYbqA</td>\n",
       "      <td>[u'General Dentistry', u'Dentists', u'Health &amp;...</td>\n",
       "      <td>[(24, 0.222691194754), (47, 0.0915215120559), ...</td>\n",
       "    </tr>\n",
       "  </tbody>\n",
       "</table>\n",
       "</div>"
      ],
      "text/plain": [
       "                business_id  \\\n",
       "0    OQcvO5P3gH0cuJ-bPXwfQQ   \n",
       "614  VkIKXVbSfcbxybbxbEt98w   \n",
       "820  ckc3l8cSuggloG4NlquEFQ   \n",
       "856  Du8gPSC88a9OuY1Vk0b52g   \n",
       "880  y7yo-LAjJnNoYwWX6ZYbqA   \n",
       "\n",
       "                                            categories  \\\n",
       "0                         [u'Restaurants', u'Mexican']   \n",
       "614                    [u'Automotive', u'Car Dealers']   \n",
       "820                     [u'Fast Food', u'Restaurants']   \n",
       "856            [u'Ice Cream & Frozen Yogurt', u'Food']   \n",
       "880  [u'General Dentistry', u'Dentists', u'Health &...   \n",
       "\n",
       "                                      predicted_topics  \n",
       "0    [(20, 0.20127907292), (8, 0.111738134059), (0,...  \n",
       "614  [(7, 0.0841880402612), (26, 0.0797780933151), ...  \n",
       "820  [(38, 0.292302679118), (43, 0.145408656484), (...  \n",
       "856  [(8, 0.139359371047), (28, 0.125755298859), (2...  \n",
       "880  [(24, 0.222691194754), (47, 0.0915215120559), ...  "
      ]
     },
     "execution_count": 35,
     "metadata": {},
     "output_type": "execute_result"
    }
   ],
   "source": [
    "df_topics.head()"
   ]
  },
  {
   "cell_type": "code",
   "execution_count": 36,
   "metadata": {
    "collapsed": false
   },
   "outputs": [],
   "source": [
    "##df_topics.to_csv(main_path+'topics_top50.csv')"
   ]
  },
  {
   "cell_type": "code",
   "execution_count": 37,
   "metadata": {
    "collapsed": true
   },
   "outputs": [],
   "source": [
    "## Assign inferred names to topics\n",
    "\n",
    "def rename_topics(topic_list):\n",
    "    return [lda_topic_map[i[0]] for i in topic_list]"
   ]
  },
  {
   "cell_type": "code",
   "execution_count": 39,
   "metadata": {
    "collapsed": false
   },
   "outputs": [
    {
     "name": "stderr",
     "output_type": "stream",
     "text": [
      "C:\\Users\\bhargavic\\Anaconda2\\envs\\gl-env\\lib\\site-packages\\ipykernel\\__main__.py:1: SettingWithCopyWarning: \n",
      "A value is trying to be set on a copy of a slice from a DataFrame.\n",
      "Try using .loc[row_indexer,col_indexer] = value instead\n",
      "\n",
      "See the caveats in the documentation: http://pandas.pydata.org/pandas-docs/stable/indexing.html#indexing-view-versus-copy\n",
      "  if __name__ == '__main__':\n"
     ]
    }
   ],
   "source": [
    "df_topics['topic_names'] = df_topics['predicted_topics'].apply(rename_topics)"
   ]
  },
  {
   "cell_type": "code",
   "execution_count": 40,
   "metadata": {
    "collapsed": false
   },
   "outputs": [
    {
     "data": {
      "text/html": [
       "<div>\n",
       "<table border=\"1\" class=\"dataframe\">\n",
       "  <thead>\n",
       "    <tr style=\"text-align: right;\">\n",
       "      <th></th>\n",
       "      <th>business_id</th>\n",
       "      <th>categories</th>\n",
       "      <th>predicted_topics</th>\n",
       "      <th>topic_names</th>\n",
       "    </tr>\n",
       "  </thead>\n",
       "  <tbody>\n",
       "    <tr>\n",
       "      <th>0</th>\n",
       "      <td>OQcvO5P3gH0cuJ-bPXwfQQ</td>\n",
       "      <td>[u'Restaurants', u'Mexican']</td>\n",
       "      <td>[(20, 0.20127907292), (8, 0.111738134059), (0,...</td>\n",
       "      <td>[mexican, ice cream, service;steak, location, ...</td>\n",
       "    </tr>\n",
       "    <tr>\n",
       "      <th>614</th>\n",
       "      <td>VkIKXVbSfcbxybbxbEt98w</td>\n",
       "      <td>[u'Automotive', u'Car Dealers']</td>\n",
       "      <td>[(7, 0.0841880402612), (26, 0.0797780933151), ...</td>\n",
       "      <td>[home services, car dealer;auto service;car;au...</td>\n",
       "    </tr>\n",
       "    <tr>\n",
       "      <th>820</th>\n",
       "      <td>ckc3l8cSuggloG4NlquEFQ</td>\n",
       "      <td>[u'Fast Food', u'Restaurants']</td>\n",
       "      <td>[(38, 0.292302679118), (43, 0.145408656484), (...</td>\n",
       "      <td>[dentist;health, fast food;american, service;c...</td>\n",
       "    </tr>\n",
       "  </tbody>\n",
       "</table>\n",
       "</div>"
      ],
      "text/plain": [
       "                business_id                       categories  \\\n",
       "0    OQcvO5P3gH0cuJ-bPXwfQQ     [u'Restaurants', u'Mexican']   \n",
       "614  VkIKXVbSfcbxybbxbEt98w  [u'Automotive', u'Car Dealers']   \n",
       "820  ckc3l8cSuggloG4NlquEFQ   [u'Fast Food', u'Restaurants']   \n",
       "\n",
       "                                      predicted_topics  \\\n",
       "0    [(20, 0.20127907292), (8, 0.111738134059), (0,...   \n",
       "614  [(7, 0.0841880402612), (26, 0.0797780933151), ...   \n",
       "820  [(38, 0.292302679118), (43, 0.145408656484), (...   \n",
       "\n",
       "                                           topic_names  \n",
       "0    [mexican, ice cream, service;steak, location, ...  \n",
       "614  [home services, car dealer;auto service;car;au...  \n",
       "820  [dentist;health, fast food;american, service;c...  "
      ]
     },
     "execution_count": 40,
     "metadata": {},
     "output_type": "execute_result"
    }
   ],
   "source": [
    "df_topics.head(3)"
   ]
  },
  {
   "cell_type": "code",
   "execution_count": 42,
   "metadata": {
    "collapsed": false
   },
   "outputs": [],
   "source": [
    "## Evaluation\n",
    "def check_predictions(actual_cats, pred_topics):\n",
    "    actual_cats = [j.lower() for j in ast.literal_eval(actual_cats)]\n",
    "    for i in pred_topics[:3]:\n",
    "        for j in i.split(\";\"):\n",
    "            if j.lower() in actual_cats:\n",
    "                return 'Yes'\n",
    "        \n",
    "    return 'No'"
   ]
  },
  {
   "cell_type": "code",
   "execution_count": 43,
   "metadata": {
    "collapsed": false
   },
   "outputs": [
    {
     "name": "stderr",
     "output_type": "stream",
     "text": [
      "C:\\Users\\bhargavic\\Anaconda2\\envs\\gl-env\\lib\\site-packages\\ipykernel\\__main__.py:10: SettingWithCopyWarning: \n",
      "A value is trying to be set on a copy of a slice from a DataFrame.\n",
      "Try using .loc[row_indexer,col_indexer] = value instead\n",
      "\n",
      "See the caveats in the documentation: http://pandas.pydata.org/pandas-docs/stable/indexing.html#indexing-view-versus-copy\n"
     ]
    }
   ],
   "source": [
    "## Calculate prediction accuracy\n",
    "\n",
    "predict_checks = []\n",
    "actual_categories = df_topics['categories'].tolist()\n",
    "predicted_topics = df_topics['topic_names'].tolist()\n",
    "\n",
    "for i in range(df_topics.shape[0]):\n",
    "    predict_checks.append(check_predictions(actual_categories[i], predicted_topics[i]))\n",
    "\n",
    "df_topics['pred_check'] = predict_checks"
   ]
  },
  {
   "cell_type": "code",
   "execution_count": 44,
   "metadata": {
    "collapsed": false
   },
   "outputs": [
    {
     "name": "stdout",
     "output_type": "stream",
     "text": [
      "Evaluating performance considering concatenated reviews of a business..\n",
      "Method I accuracy:  33.2897603486 %\n"
     ]
    }
   ],
   "source": [
    "## Accuracy - METHOD I\n",
    "acc_1 = float(df_topics[df_topics['pred_check']=='Yes'].shape[0])/df_topics.shape[0]\n",
    "print \"Evaluating performance considering concatenated reviews of a business..\"\n",
    "print \"Method I accuracy: \",acc_1*100,\"%\""
   ]
  },
  {
   "cell_type": "markdown",
   "metadata": {},
   "source": [
    "## METHOD II - Major topics among all reviews of a business\n"
   ]
  },
  {
   "cell_type": "code",
   "execution_count": 46,
   "metadata": {
    "collapsed": true
   },
   "outputs": [],
   "source": [
    "## Predicting major topics from individual reviews of a business\n",
    "def predict_review_topics(noun_tags):\n",
    "    \n",
    "    new_review_bow = dictionary.doc2bow(noun_tags)\n",
    "    new_review_lda = ldamodel[new_review_bow]\n",
    "\n",
    "    return sorted(new_review_lda,key=itemgetter(1), reverse=True)[:5]"
   ]
  },
  {
   "cell_type": "code",
   "execution_count": 47,
   "metadata": {
    "collapsed": false
   },
   "outputs": [
    {
     "name": "stderr",
     "output_type": "stream",
     "text": [
      "C:\\Users\\bhargavic\\Anaconda2\\envs\\gl-env\\lib\\site-packages\\ipykernel\\__main__.py:2: SettingWithCopyWarning: \n",
      "A value is trying to be set on a copy of a slice from a DataFrame.\n",
      "Try using .loc[row_indexer,col_indexer] = value instead\n",
      "\n",
      "See the caveats in the documentation: http://pandas.pydata.org/pandas-docs/stable/indexing.html#indexing-view-versus-copy\n",
      "  from ipykernel import kernelapp as app\n"
     ]
    }
   ],
   "source": [
    "df_topics2 = df_rev_new[['business_id','review_id','noun_tags','categories']]\n",
    "df_topics2['predicted_topics'] = df_topics2['noun_tags'].apply(predict_review_topics)"
   ]
  },
  {
   "cell_type": "code",
   "execution_count": 48,
   "metadata": {
    "collapsed": false
   },
   "outputs": [
    {
     "data": {
      "text/html": [
       "<div>\n",
       "<table border=\"1\" class=\"dataframe\">\n",
       "  <thead>\n",
       "    <tr style=\"text-align: right;\">\n",
       "      <th></th>\n",
       "      <th>business_id</th>\n",
       "      <th>review_id</th>\n",
       "      <th>noun_tags</th>\n",
       "      <th>categories</th>\n",
       "      <th>predicted_topics</th>\n",
       "    </tr>\n",
       "  </thead>\n",
       "  <tbody>\n",
       "    <tr>\n",
       "      <th>0</th>\n",
       "      <td>OQcvO5P3gH0cuJ-bPXwfQQ</td>\n",
       "      <td>BLIJFaJZ-_fOcBs16fL_6g</td>\n",
       "      <td>[customer, rating, decor, dicount, food, note,...</td>\n",
       "      <td>[u'Restaurants', u'Mexican']</td>\n",
       "      <td>[(37, 0.738488634313), (40, 0.141511365687)]</td>\n",
       "    </tr>\n",
       "    <tr>\n",
       "      <th>1</th>\n",
       "      <td>OQcvO5P3gH0cuJ-bPXwfQQ</td>\n",
       "      <td>VuKbGklNbOESJSx76_EjyA</td>\n",
       "      <td>[food, owners, restaurant]</td>\n",
       "      <td>[u'Restaurants', u'Mexican']</td>\n",
       "      <td>[(47, 0.484422367176), (42, 0.275577632824)]</td>\n",
       "    </tr>\n",
       "    <tr>\n",
       "      <th>2</th>\n",
       "      <td>OQcvO5P3gH0cuJ-bPXwfQQ</td>\n",
       "      <td>HBaAmcS9zp5rY1qiMuWygA</td>\n",
       "      <td>[yummy, meat, service, restaurant, fish, vegas...</td>\n",
       "      <td>[u'Restaurants', u'Mexican']</td>\n",
       "      <td>[(20, 0.8775)]</td>\n",
       "    </tr>\n",
       "  </tbody>\n",
       "</table>\n",
       "</div>"
      ],
      "text/plain": [
       "              business_id               review_id  \\\n",
       "0  OQcvO5P3gH0cuJ-bPXwfQQ  BLIJFaJZ-_fOcBs16fL_6g   \n",
       "1  OQcvO5P3gH0cuJ-bPXwfQQ  VuKbGklNbOESJSx76_EjyA   \n",
       "2  OQcvO5P3gH0cuJ-bPXwfQQ  HBaAmcS9zp5rY1qiMuWygA   \n",
       "\n",
       "                                           noun_tags  \\\n",
       "0  [customer, rating, decor, dicount, food, note,...   \n",
       "1                         [food, owners, restaurant]   \n",
       "2  [yummy, meat, service, restaurant, fish, vegas...   \n",
       "\n",
       "                     categories                              predicted_topics  \n",
       "0  [u'Restaurants', u'Mexican']  [(37, 0.738488634313), (40, 0.141511365687)]  \n",
       "1  [u'Restaurants', u'Mexican']  [(47, 0.484422367176), (42, 0.275577632824)]  \n",
       "2  [u'Restaurants', u'Mexican']                                [(20, 0.8775)]  "
      ]
     },
     "execution_count": 48,
     "metadata": {},
     "output_type": "execute_result"
    }
   ],
   "source": [
    "df_topics2.head(3)"
   ]
  },
  {
   "cell_type": "code",
   "execution_count": 49,
   "metadata": {
    "collapsed": true
   },
   "outputs": [],
   "source": [
    "## Get the major topics per business\n",
    "def get_major_topics(bus_id):\n",
    "    \n",
    "    df_sub = df_topics2[(df_topics2['business_id'] == bus_id)]\n",
    "    #print(df_sub).shape[0]\n",
    "    \n",
    "    get_topic_list = [j[0] for i in df_sub['predicted_topics'].tolist() for j in i]\n",
    "    topic_frequency = Counter(get_topic_list)\n",
    "    \n",
    "    top_5 = topic_frequency.most_common(5)\n",
    "    \n",
    "    return top_5"
   ]
  },
  {
   "cell_type": "code",
   "execution_count": 50,
   "metadata": {
    "collapsed": false
   },
   "outputs": [
    {
     "name": "stdout",
     "output_type": "stream",
     "text": [
      "Runtime:  0:08:25.590000\n"
     ]
    },
    {
     "name": "stderr",
     "output_type": "stream",
     "text": [
      "C:\\Users\\bhargavic\\Anaconda2\\envs\\gl-env\\lib\\site-packages\\ipykernel\\__main__.py:4: SettingWithCopyWarning: \n",
      "A value is trying to be set on a copy of a slice from a DataFrame.\n",
      "Try using .loc[row_indexer,col_indexer] = value instead\n",
      "\n",
      "See the caveats in the documentation: http://pandas.pydata.org/pandas-docs/stable/indexing.html#indexing-view-versus-copy\n"
     ]
    }
   ],
   "source": [
    "n4 = datetime.now()\n",
    "\n",
    "df_topics2_sub = df_topics2[['business_id','categories']]\n",
    "df_topics2_sub['topic_list'] = df_topics2_sub['business_id'].apply(get_major_topics)\n",
    "df_topics2_sub.head()\n",
    "\n",
    "print \"Runtime: \",datetime.now()-n4"
   ]
  },
  {
   "cell_type": "code",
   "execution_count": 51,
   "metadata": {
    "collapsed": false
   },
   "outputs": [
    {
     "name": "stderr",
     "output_type": "stream",
     "text": [
      "C:\\Users\\bhargavic\\Anaconda2\\envs\\gl-env\\lib\\site-packages\\ipykernel\\__main__.py:1: SettingWithCopyWarning: \n",
      "A value is trying to be set on a copy of a slice from a DataFrame.\n",
      "Try using .loc[row_indexer,col_indexer] = value instead\n",
      "\n",
      "See the caveats in the documentation: http://pandas.pydata.org/pandas-docs/stable/indexing.html#indexing-view-versus-copy\n",
      "  if __name__ == '__main__':\n"
     ]
    }
   ],
   "source": [
    "df_topics2_sub['topic_names'] = df_topics2_sub['topic_list'].apply(rename_topics)"
   ]
  },
  {
   "cell_type": "code",
   "execution_count": 52,
   "metadata": {
    "collapsed": true
   },
   "outputs": [],
   "source": [
    "## Predict the topics per each review of the business\n",
    "\n",
    "predict_checks2 = []\n",
    "actual_categories2 = df_topics2_sub['categories'].tolist()\n",
    "predicted_topics2 = df_topics2_sub['topic_names'].tolist()\n",
    "\n",
    "for i in range(df_topics2_sub.shape[0]):\n",
    "    predict_checks2.append(check_predictions(actual_categories2[i], predicted_topics2[i]))\n",
    "\n",
    "df_topics2_sub['pred_check'] = predict_checks2"
   ]
  },
  {
   "cell_type": "code",
   "execution_count": 54,
   "metadata": {
    "collapsed": false
   },
   "outputs": [
    {
     "name": "stdout",
     "output_type": "stream",
     "text": [
      "Evaluating performance considering the major topics of a business reviews\n",
      "Method II accuracy:  51.3892531781 %\n"
     ]
    }
   ],
   "source": [
    "## Accuracy - Method II\n",
    "acc_2 = float(df_topics2_sub[df_topics2_sub['pred_check']=='Yes'].shape[0])/df_topics2_sub.shape[0]\n",
    "print \"Evaluating performance considering the major topics of a business reviews\"\n",
    "print \"Method II accuracy: \",acc_2*100,\"%\""
   ]
  },
  {
   "cell_type": "markdown",
   "metadata": {
    "collapsed": true
   },
   "source": [
    "## Method III Supervised technique"
   ]
  },
  {
   "cell_type": "code",
   "execution_count": 55,
   "metadata": {
    "collapsed": true
   },
   "outputs": [],
   "source": [
    "## Perform 80 20 test split grouped by category\n",
    "df_rsub = df_rev_new[['business_id','categories']]\n",
    "df_rsub.drop_duplicates(inplace=True)"
   ]
  },
  {
   "cell_type": "code",
   "execution_count": 56,
   "metadata": {
    "collapsed": false
   },
   "outputs": [
    {
     "data": {
      "text/html": [
       "<div>\n",
       "<table border=\"1\" class=\"dataframe\">\n",
       "  <thead>\n",
       "    <tr style=\"text-align: right;\">\n",
       "      <th></th>\n",
       "      <th>business_id</th>\n",
       "      <th>categories</th>\n",
       "    </tr>\n",
       "  </thead>\n",
       "  <tbody>\n",
       "    <tr>\n",
       "      <th>0</th>\n",
       "      <td>OQcvO5P3gH0cuJ-bPXwfQQ</td>\n",
       "      <td>[u'Restaurants', u'Mexican']</td>\n",
       "    </tr>\n",
       "    <tr>\n",
       "      <th>614</th>\n",
       "      <td>VkIKXVbSfcbxybbxbEt98w</td>\n",
       "      <td>[u'Automotive', u'Car Dealers']</td>\n",
       "    </tr>\n",
       "    <tr>\n",
       "      <th>820</th>\n",
       "      <td>ckc3l8cSuggloG4NlquEFQ</td>\n",
       "      <td>[u'Fast Food', u'Restaurants']</td>\n",
       "    </tr>\n",
       "  </tbody>\n",
       "</table>\n",
       "</div>"
      ],
      "text/plain": [
       "                business_id                       categories\n",
       "0    OQcvO5P3gH0cuJ-bPXwfQQ     [u'Restaurants', u'Mexican']\n",
       "614  VkIKXVbSfcbxybbxbEt98w  [u'Automotive', u'Car Dealers']\n",
       "820  ckc3l8cSuggloG4NlquEFQ   [u'Fast Food', u'Restaurants']"
      ]
     },
     "execution_count": 56,
     "metadata": {},
     "output_type": "execute_result"
    }
   ],
   "source": [
    "df_rsub.head(3)"
   ]
  },
  {
   "cell_type": "code",
   "execution_count": 57,
   "metadata": {
    "collapsed": false
   },
   "outputs": [
    {
     "data": {
      "text/plain": [
       "(2295, 2)"
      ]
     },
     "execution_count": 57,
     "metadata": {},
     "output_type": "execute_result"
    }
   ],
   "source": [
    "df_rsub.shape"
   ]
  },
  {
   "cell_type": "code",
   "execution_count": 58,
   "metadata": {
    "collapsed": false
   },
   "outputs": [],
   "source": [
    "test_bus_id = []\n",
    "train_bus_id = []\n",
    "cat_grps = set(df_rsub['categories'].tolist())\n",
    "\n",
    "for i in cat_grps:\n",
    "    dfs1 = df_rsub[df_rsub['categories'] == i]\n",
    "    #print '-->',dfs1.shape[0]\n",
    "    blist = dfs1['business_id'].tolist()\n",
    "    idx = int(len(blist)*0.8)\n",
    "    \n",
    "    train_bus_id.append(blist[:idx])\n",
    "    test_bus_id.append(blist[idx:])"
   ]
  },
  {
   "cell_type": "code",
   "execution_count": 59,
   "metadata": {
    "collapsed": false
   },
   "outputs": [
    {
     "data": {
      "text/plain": [
       "503"
      ]
     },
     "execution_count": 59,
     "metadata": {},
     "output_type": "execute_result"
    }
   ],
   "source": [
    "train_bus_id2 = [j for i in train_bus_id for j in i]\n",
    "len(train_bus_id2)\n",
    "\n",
    "test_bus_id2 = [j for i in test_bus_id for j in i]\n",
    "len(test_bus_id2)"
   ]
  },
  {
   "cell_type": "markdown",
   "metadata": {},
   "source": [
    "## Training"
   ]
  },
  {
   "cell_type": "code",
   "execution_count": 60,
   "metadata": {
    "collapsed": false
   },
   "outputs": [
    {
     "data": {
      "text/plain": [
       "(39433, 12)"
      ]
     },
     "execution_count": 60,
     "metadata": {},
     "output_type": "execute_result"
    }
   ],
   "source": [
    "df_train = df_rev_new[df_rev_new['business_id'].isin(train_bus_id2)]\n",
    "df_train.shape"
   ]
  },
  {
   "cell_type": "code",
   "execution_count": 61,
   "metadata": {
    "collapsed": false
   },
   "outputs": [
    {
     "data": {
      "text/html": [
       "<div>\n",
       "<table border=\"1\" class=\"dataframe\">\n",
       "  <thead>\n",
       "    <tr style=\"text-align: right;\">\n",
       "      <th></th>\n",
       "      <th>funny</th>\n",
       "      <th>user_id</th>\n",
       "      <th>review_id</th>\n",
       "      <th>text</th>\n",
       "      <th>business_id</th>\n",
       "      <th>stars</th>\n",
       "      <th>date</th>\n",
       "      <th>useful</th>\n",
       "      <th>cool</th>\n",
       "      <th>categories</th>\n",
       "      <th>cleaned_text</th>\n",
       "      <th>noun_tags</th>\n",
       "    </tr>\n",
       "  </thead>\n",
       "  <tbody>\n",
       "    <tr>\n",
       "      <th>0</th>\n",
       "      <td>0</td>\n",
       "      <td>jgzD7eBwZrasqy6wUy122w</td>\n",
       "      <td>BLIJFaJZ-_fOcBs16fL_6g</td>\n",
       "      <td>Loved, Loved, Loved. It is a simple place, but...</td>\n",
       "      <td>OQcvO5P3gH0cuJ-bPXwfQQ</td>\n",
       "      <td>5</td>\n",
       "      <td>2017-04-01</td>\n",
       "      <td>0</td>\n",
       "      <td>0</td>\n",
       "      <td>[u'Restaurants', u'Mexican']</td>\n",
       "      <td>loved loved loved simple place dont place deco...</td>\n",
       "      <td>[customer, rating, decor, dicount, food, note,...</td>\n",
       "    </tr>\n",
       "    <tr>\n",
       "      <th>1</th>\n",
       "      <td>0</td>\n",
       "      <td>2v_meK453YAWXz4NjJ9abA</td>\n",
       "      <td>VuKbGklNbOESJSx76_EjyA</td>\n",
       "      <td>Is a small restaurant food is good! Also the o...</td>\n",
       "      <td>OQcvO5P3gH0cuJ-bPXwfQQ</td>\n",
       "      <td>5</td>\n",
       "      <td>2016-11-05</td>\n",
       "      <td>0</td>\n",
       "      <td>0</td>\n",
       "      <td>[u'Restaurants', u'Mexican']</td>\n",
       "      <td>small restaurant food good owners friendly mak...</td>\n",
       "      <td>[food, owners, restaurant]</td>\n",
       "    </tr>\n",
       "    <tr>\n",
       "      <th>2</th>\n",
       "      <td>0</td>\n",
       "      <td>cdFWtOgA1PAkNYkiwzUJbQ</td>\n",
       "      <td>HBaAmcS9zp5rY1qiMuWygA</td>\n",
       "      <td>Best Mexican restaurant in Vegas. Meat is supe...</td>\n",
       "      <td>OQcvO5P3gH0cuJ-bPXwfQQ</td>\n",
       "      <td>5</td>\n",
       "      <td>2017-06-01</td>\n",
       "      <td>1</td>\n",
       "      <td>0</td>\n",
       "      <td>[u'Restaurants', u'Mexican']</td>\n",
       "      <td>mexican restaurant vegas meat super soft tasty...</td>\n",
       "      <td>[yummy, meat, service, restaurant, fish, vegas...</td>\n",
       "    </tr>\n",
       "  </tbody>\n",
       "</table>\n",
       "</div>"
      ],
      "text/plain": [
       "   funny                 user_id               review_id  \\\n",
       "0      0  jgzD7eBwZrasqy6wUy122w  BLIJFaJZ-_fOcBs16fL_6g   \n",
       "1      0  2v_meK453YAWXz4NjJ9abA  VuKbGklNbOESJSx76_EjyA   \n",
       "2      0  cdFWtOgA1PAkNYkiwzUJbQ  HBaAmcS9zp5rY1qiMuWygA   \n",
       "\n",
       "                                                text             business_id  \\\n",
       "0  Loved, Loved, Loved. It is a simple place, but...  OQcvO5P3gH0cuJ-bPXwfQQ   \n",
       "1  Is a small restaurant food is good! Also the o...  OQcvO5P3gH0cuJ-bPXwfQQ   \n",
       "2  Best Mexican restaurant in Vegas. Meat is supe...  OQcvO5P3gH0cuJ-bPXwfQQ   \n",
       "\n",
       "   stars        date  useful  cool                    categories  \\\n",
       "0      5  2017-04-01       0     0  [u'Restaurants', u'Mexican']   \n",
       "1      5  2016-11-05       0     0  [u'Restaurants', u'Mexican']   \n",
       "2      5  2017-06-01       1     0  [u'Restaurants', u'Mexican']   \n",
       "\n",
       "                                        cleaned_text  \\\n",
       "0  loved loved loved simple place dont place deco...   \n",
       "1  small restaurant food good owners friendly mak...   \n",
       "2  mexican restaurant vegas meat super soft tasty...   \n",
       "\n",
       "                                           noun_tags  \n",
       "0  [customer, rating, decor, dicount, food, note,...  \n",
       "1                         [food, owners, restaurant]  \n",
       "2  [yummy, meat, service, restaurant, fish, vegas...  "
      ]
     },
     "execution_count": 61,
     "metadata": {},
     "output_type": "execute_result"
    }
   ],
   "source": [
    "df_train.head(3)"
   ]
  },
  {
   "cell_type": "code",
   "execution_count": 62,
   "metadata": {
    "collapsed": false
   },
   "outputs": [
    {
     "data": {
      "text/plain": [
       "(17756, 12)"
      ]
     },
     "execution_count": 62,
     "metadata": {},
     "output_type": "execute_result"
    }
   ],
   "source": [
    "df_test = df_rev_new[df_rev_new['business_id'].isin(test_bus_id2)]\n",
    "df_test.shape"
   ]
  },
  {
   "cell_type": "code",
   "execution_count": 63,
   "metadata": {
    "collapsed": true
   },
   "outputs": [],
   "source": [
    "## Concatenate reviews of a business to perform Tf-Idf\n",
    "def concat_revs(data_frame, bus_id):\n",
    "    df_sub = data_frame[data_frame['business_id']==bus_id]\n",
    "    cstring = ''\n",
    "    for i in df_sub['cleaned_text'].tolist():\n",
    "        cstring = cstring + str(i)\n",
    "        \n",
    "    return cstring"
   ]
  },
  {
   "cell_type": "code",
   "execution_count": 64,
   "metadata": {
    "collapsed": false
   },
   "outputs": [],
   "source": [
    "#Create a corpus train and test dataset\n",
    "corpus_train = [concat_revs(df_train, bid) for bid in train_bus_id2]\n",
    "corpus_test = [concat_revs(df_test, bid2) for bid2 in test_bus_id2]"
   ]
  },
  {
   "cell_type": "code",
   "execution_count": 65,
   "metadata": {
    "collapsed": true
   },
   "outputs": [],
   "source": [
    "dfs2 = df_train[['business_id','categories']]\n",
    "dfs2.drop_duplicates(inplace=True)\n",
    "trainlabel_dict = dict(zip(dfs2['business_id'].tolist(),dfs2['categories'].tolist()))\n",
    "\n",
    "dfs3 = df_test[['business_id','categories']]\n",
    "dfs3.drop_duplicates(inplace=True)\n",
    "testlabel_dict = dict(zip(dfs3['business_id'].tolist(),dfs3['categories'].tolist()))"
   ]
  },
  {
   "cell_type": "code",
   "execution_count": 66,
   "metadata": {
    "collapsed": false
   },
   "outputs": [
    {
     "data": {
      "text/html": [
       "<div>\n",
       "<table border=\"1\" class=\"dataframe\">\n",
       "  <thead>\n",
       "    <tr style=\"text-align: right;\">\n",
       "      <th></th>\n",
       "      <th>business_id</th>\n",
       "      <th>categories</th>\n",
       "    </tr>\n",
       "  </thead>\n",
       "  <tbody>\n",
       "    <tr>\n",
       "      <th>0</th>\n",
       "      <td>OQcvO5P3gH0cuJ-bPXwfQQ</td>\n",
       "      <td>[u'Restaurants', u'Mexican']</td>\n",
       "    </tr>\n",
       "    <tr>\n",
       "      <th>614</th>\n",
       "      <td>VkIKXVbSfcbxybbxbEt98w</td>\n",
       "      <td>[u'Automotive', u'Car Dealers']</td>\n",
       "    </tr>\n",
       "    <tr>\n",
       "      <th>820</th>\n",
       "      <td>ckc3l8cSuggloG4NlquEFQ</td>\n",
       "      <td>[u'Fast Food', u'Restaurants']</td>\n",
       "    </tr>\n",
       "  </tbody>\n",
       "</table>\n",
       "</div>"
      ],
      "text/plain": [
       "                business_id                       categories\n",
       "0    OQcvO5P3gH0cuJ-bPXwfQQ     [u'Restaurants', u'Mexican']\n",
       "614  VkIKXVbSfcbxybbxbEt98w  [u'Automotive', u'Car Dealers']\n",
       "820  ckc3l8cSuggloG4NlquEFQ   [u'Fast Food', u'Restaurants']"
      ]
     },
     "execution_count": 66,
     "metadata": {},
     "output_type": "execute_result"
    }
   ],
   "source": [
    "dfs2.head(3)"
   ]
  },
  {
   "cell_type": "code",
   "execution_count": 67,
   "metadata": {
    "collapsed": false
   },
   "outputs": [
    {
     "data": {
      "text/html": [
       "<div>\n",
       "<table border=\"1\" class=\"dataframe\">\n",
       "  <thead>\n",
       "    <tr style=\"text-align: right;\">\n",
       "      <th></th>\n",
       "      <th>business_id</th>\n",
       "      <th>categories</th>\n",
       "    </tr>\n",
       "  </thead>\n",
       "  <tbody>\n",
       "    <tr>\n",
       "      <th>120322</th>\n",
       "      <td>Y92uJXOUOZn8JvZAffV5mA</td>\n",
       "      <td>[u'American (New)', u'Restaurants']</td>\n",
       "    </tr>\n",
       "    <tr>\n",
       "      <th>163005</th>\n",
       "      <td>WBDT1L6Pc3TlTNB03o_zog</td>\n",
       "      <td>[u'Dry Cleaning &amp; Laundry', u'Laundry Services...</td>\n",
       "    </tr>\n",
       "    <tr>\n",
       "      <th>163670</th>\n",
       "      <td>jWJQNxyidwtxE9pGMkcPVQ</td>\n",
       "      <td>[u'Performing Arts', u'Arts &amp; Entertainment']</td>\n",
       "    </tr>\n",
       "  </tbody>\n",
       "</table>\n",
       "</div>"
      ],
      "text/plain": [
       "                   business_id  \\\n",
       "120322  Y92uJXOUOZn8JvZAffV5mA   \n",
       "163005  WBDT1L6Pc3TlTNB03o_zog   \n",
       "163670  jWJQNxyidwtxE9pGMkcPVQ   \n",
       "\n",
       "                                               categories  \n",
       "120322                [u'American (New)', u'Restaurants']  \n",
       "163005  [u'Dry Cleaning & Laundry', u'Laundry Services...  \n",
       "163670      [u'Performing Arts', u'Arts & Entertainment']  "
      ]
     },
     "execution_count": 67,
     "metadata": {},
     "output_type": "execute_result"
    }
   ],
   "source": [
    "dfs3.head(3)"
   ]
  },
  {
   "cell_type": "code",
   "execution_count": 68,
   "metadata": {
    "collapsed": false
   },
   "outputs": [
    {
     "name": "stdout",
     "output_type": "stream",
     "text": [
      "[[u'Appliances & Repair', u'Local Services'], [u'Appliances & Repair', u'Local Services']]\n",
      "[[u'Appliances & Repair', u'Local Services'], [u'Appliances & Repair', u'Local Services']]\n"
     ]
    }
   ],
   "source": [
    "labels_train = [ast.literal_eval(trainlabel_dict[bid]) for bid in train_bus_id2]\n",
    "labels_test = [ast.literal_eval(testlabel_dict[bid2]) for bid2 in test_bus_id2]\n",
    "\n",
    "print labels_train[:2]\n",
    "print labels_test[:2]"
   ]
  },
  {
   "cell_type": "code",
   "execution_count": 69,
   "metadata": {
    "collapsed": false
   },
   "outputs": [],
   "source": [
    "## Converting labels to sparse arrays to perform multi-class classification\n",
    "\n",
    "unique_labels = list(set([j for i in labels_train for j in i]))\n",
    "\n",
    "from sklearn.preprocessing import MultiLabelBinarizer\n",
    "mlb =  MultiLabelBinarizer(classes = unique_labels)\n",
    "\n",
    "labels_train = mlb.fit_transform(labels_train)\n",
    "labels_test = mlb.fit_transform(labels_test)"
   ]
  },
  {
   "cell_type": "code",
   "execution_count": 70,
   "metadata": {
    "collapsed": true
   },
   "outputs": [],
   "source": [
    "## Performing grid search to obtain the best parameters for classifiers\n",
    "def performGridCV(X_train, y_train, clf_current, params):\n",
    "    model_to_set = OneVsRestClassifier(clf_current)\n",
    "    grid_search = GridSearchCV(model_to_set, param_grid=params, scoring=\"f1_weighted\")\n",
    "\n",
    "    print('~' * 100)\n",
    "    print(\"Performing grid search on \" + str(clf_current).split('(')[0])\n",
    "    print(\"Specified parameters:\")\n",
    "    print(params)\n",
    "    grid_search.fit(X_train, y_train)\n",
    "    print()\n",
    "\n",
    "    print(\"Best score: %0.3f\" % grid_search.best_score_)\n",
    "    print(\"Best parameters after tuning:\")\n",
    "    best_parameters = grid_search.best_estimator_.get_params()\n",
    "    for param_name in sorted(params.keys()):\n",
    "        print(\"\\t%s: %r\" % (param_name, best_parameters[param_name]))\n",
    "    print('~' * 100)\n",
    "\n",
    "    gs = grid_search.grid_scores_\n",
    "    ret = [(i[0], i[1]) for i in gs]\n",
    "    return best_parameters, ret"
   ]
  },
  {
   "cell_type": "code",
   "execution_count": 72,
   "metadata": {
    "collapsed": false
   },
   "outputs": [
    {
     "name": "stdout",
     "output_type": "stream",
     "text": [
      "~~~~~~~~~~~~~~~~~~~~~~~~~~~~~~~~~~~~~~~~~~~~~~~~~~~~~~~~~~~~~~~~~~~~~~~~~~~~~~~~~~~~~~~~~~~~~~~~~~~~\n",
      "Performing grid search on SGDClassifier\n",
      "Specified parameters:\n",
      "{'estimator__alpha': [0.0001, 0.001], 'estimator__penalty': ['l1', 'elasticnet'], 'estimator__n_iter': [20, 50]}\n",
      "()\n",
      "Best score: 0.816\n",
      "Best parameters after tuning:\n",
      "\testimator__alpha: 0.0001\n",
      "\testimator__n_iter: 50\n",
      "\testimator__penalty: 'l1'\n",
      "~~~~~~~~~~~~~~~~~~~~~~~~~~~~~~~~~~~~~~~~~~~~~~~~~~~~~~~~~~~~~~~~~~~~~~~~~~~~~~~~~~~~~~~~~~~~~~~~~~~~\n",
      "SGDClassifier(alpha=0.0001, average=False, class_weight=None, epsilon=0.1,\n",
      "       eta0=0.0, fit_intercept=True, l1_ratio=0.15,\n",
      "       learning_rate='optimal', loss='hinge', n_iter=50, n_jobs=1,\n",
      "       penalty='l1', power_t=0.5, random_state=None, shuffle=True,\n",
      "       verbose=0, warm_start=False)\n",
      "~~~~~~~~~~~~~~~~~~~~~~~~~~~~~~~~~~~~~~~~~~~~~~~~~~~~~~~~~~~~~~~~~~~~~~~~~~~~~~~~~~~~~~~~~~~~~~~~~~~~\n",
      "Performing grid search on LinearSVC\n",
      "Specified parameters:\n",
      "{'estimator__penalty': ['l1', 'l2'], 'estimator__tol': [0.01, 0.001], 'estimator__loss': ['l2'], 'estimator__dual': [False]}\n",
      "()\n",
      "Best score: 0.777\n",
      "Best parameters after tuning:\n",
      "\testimator__dual: False\n",
      "\testimator__loss: 'l2'\n",
      "\testimator__penalty: 'l1'\n",
      "\testimator__tol: 0.01\n",
      "~~~~~~~~~~~~~~~~~~~~~~~~~~~~~~~~~~~~~~~~~~~~~~~~~~~~~~~~~~~~~~~~~~~~~~~~~~~~~~~~~~~~~~~~~~~~~~~~~~~~\n",
      "LinearSVC(C=1.0, class_weight=None, dual=False, fit_intercept=True,\n",
      "     intercept_scaling=1, loss='l2', max_iter=1000, multi_class='ovr',\n",
      "     penalty='l1', random_state=None, tol=0.01, verbose=0)\n",
      "~~~~~~~~~~~~~~~~~~~~~~~~~~~~~~~~~~~~~~~~~~~~~~~~~~~~~~~~~~~~~~~~~~~~~~~~~~~~~~~~~~~~~~~~~~~~~~~~~~~~\n",
      "Performing grid search on MultinomialNB\n",
      "Specified parameters:\n",
      "{'estimator__alpha': [0.01, 0.1], 'estimator__fit_prior': [True, False]}\n",
      "()\n",
      "Best score: 0.757\n",
      "Best parameters after tuning:\n",
      "\testimator__alpha: 0.01\n",
      "\testimator__fit_prior: True\n",
      "~~~~~~~~~~~~~~~~~~~~~~~~~~~~~~~~~~~~~~~~~~~~~~~~~~~~~~~~~~~~~~~~~~~~~~~~~~~~~~~~~~~~~~~~~~~~~~~~~~~~\n",
      "MultinomialNB(alpha=0.01, class_prior=None, fit_prior=True)\n"
     ]
    }
   ],
   "source": [
    "import warnings\n",
    "\n",
    "warnings.filterwarnings(\"ignore\")\n",
    "\n",
    "vectorizer = TfidfVectorizer(min_df=5, max_df = 0.8, sublinear_tf=True, use_idf=True,stop_words='english')\n",
    "train_corpus_tf_idf = vectorizer.fit_transform(corpus_train) \n",
    "test_corpus_tf_idf = vectorizer.transform(corpus_test)\n",
    "\n",
    "classlist = [\n",
    "        (SGDClassifier(),\n",
    "         {'estimator__penalty': ['l1', 'elasticnet'], \"estimator__alpha\": [.0001, .001], 'estimator__n_iter': [20, 50]}),\n",
    "        (LinearSVC(), {'estimator__penalty': ['l1', 'l2'], 'estimator__loss': ['l2'], 'estimator__dual': [False],\n",
    "                       'estimator__tol': [1e-2, 1e-3]}),\n",
    "        (MultinomialNB(), {\"estimator__alpha\": [.01, .1], \"estimator__fit_prior\": [True, False]})\n",
    "    ]\n",
    "\n",
    "for classifier, params_to_optimize in classlist:\n",
    "    best_params, gs = performGridCV(train_corpus_tf_idf, labels_train, classifier, params_to_optimize)\n",
    "    print best_params['estimator']\n",
    "    "
   ]
  },
  {
   "cell_type": "code",
   "execution_count": 85,
   "metadata": {
    "collapsed": false
   },
   "outputs": [],
   "source": [
    "model_sgd = OneVsRestClassifier(SGDClassifier(alpha=0.0001, n_iter=50, penalty='l1'))\n",
    "model_svm = OneVsRestClassifier(LinearSVC(loss='l2',penalty='l1',dual=False,tol=0.001))\n",
    "model_nb = OneVsRestClassifier(MultinomialNB(alpha=0.01, fit_prior=True))  \n",
    "\n",
    "model_sgd.fit(train_corpus_tf_idf,labels_train)\n",
    "model_svm.fit(train_corpus_tf_idf,labels_train)\n",
    "model_nb.fit(train_corpus_tf_idf,labels_train)\n",
    "\n",
    "result_sgd = model_sgd.predict(test_corpus_tf_idf)\n",
    "result_svm = model_svm.predict(test_corpus_tf_idf)\n",
    "result_nb = model_nb.predict(test_corpus_tf_idf)"
   ]
  },
  {
   "cell_type": "markdown",
   "metadata": {},
   "source": [
    "## Snapshot of predictions"
   ]
  },
  {
   "cell_type": "code",
   "execution_count": 86,
   "metadata": {
    "collapsed": true
   },
   "outputs": [],
   "source": [
    "def format_predictions(result_arr):\n",
    "    result_arr = result_arr.astype(bool)\n",
    "    return np.array(unique_labels)[result_arr].tolist()"
   ]
  },
  {
   "cell_type": "code",
   "execution_count": 87,
   "metadata": {
    "collapsed": false
   },
   "outputs": [
    {
     "data": {
      "text/html": [
       "<div>\n",
       "<table border=\"1\" class=\"dataframe\">\n",
       "  <thead>\n",
       "    <tr style=\"text-align: right;\">\n",
       "      <th></th>\n",
       "      <th>business_id</th>\n",
       "    </tr>\n",
       "  </thead>\n",
       "  <tbody>\n",
       "    <tr>\n",
       "      <th>0</th>\n",
       "      <td>ZmMCgM4RCqCXJ0Lswu6yxw</td>\n",
       "    </tr>\n",
       "    <tr>\n",
       "      <th>1</th>\n",
       "      <td>YxHIBPLb9SpDHjweRnUPgQ</td>\n",
       "    </tr>\n",
       "    <tr>\n",
       "      <th>2</th>\n",
       "      <td>uRMTX1jiNvKRDO45ULW3jQ</td>\n",
       "    </tr>\n",
       "    <tr>\n",
       "      <th>3</th>\n",
       "      <td>yZIA98HUgPYx4BY8iZr3IA</td>\n",
       "    </tr>\n",
       "    <tr>\n",
       "      <th>4</th>\n",
       "      <td>jAgNdPqhWBXuz-QOqHEVfQ</td>\n",
       "    </tr>\n",
       "  </tbody>\n",
       "</table>\n",
       "</div>"
      ],
      "text/plain": [
       "              business_id\n",
       "0  ZmMCgM4RCqCXJ0Lswu6yxw\n",
       "1  YxHIBPLb9SpDHjweRnUPgQ\n",
       "2  uRMTX1jiNvKRDO45ULW3jQ\n",
       "3  yZIA98HUgPYx4BY8iZr3IA\n",
       "4  jAgNdPqhWBXuz-QOqHEVfQ"
      ]
     },
     "execution_count": 87,
     "metadata": {},
     "output_type": "execute_result"
    }
   ],
   "source": [
    "df_test_sub = pd.DataFrame(test_bus_id2, columns=['business_id'])\n",
    "df_test_sub.head()"
   ]
  },
  {
   "cell_type": "code",
   "execution_count": 88,
   "metadata": {
    "collapsed": false
   },
   "outputs": [
    {
     "data": {
      "text/plain": [
       "(503, 5)"
      ]
     },
     "execution_count": 88,
     "metadata": {},
     "output_type": "execute_result"
    }
   ],
   "source": [
    "## Append predictions to business\n",
    "format_preds_sgd = [format_predictions(i) for i in result_sgd]\n",
    "format_preds_svm = [format_predictions(i) for i in result_svm]\n",
    "format_preds_nb = [format_predictions(i) for i in result_nb]\n",
    "df_test_sub['pred_sgd'] = format_preds_sgd\n",
    "df_test_sub['pred_svm'] = format_preds_svm\n",
    "df_test_sub['pred_nb'] = format_preds_nb\n",
    "\n",
    "df_test_sub2 = df_test_sub.merge(dfs3, on='business_id', how='inner')\n",
    "df_test_sub2.shape"
   ]
  },
  {
   "cell_type": "code",
   "execution_count": 89,
   "metadata": {
    "collapsed": false,
    "scrolled": true
   },
   "outputs": [
    {
     "data": {
      "text/html": [
       "<div>\n",
       "<table border=\"1\" class=\"dataframe\">\n",
       "  <thead>\n",
       "    <tr style=\"text-align: right;\">\n",
       "      <th></th>\n",
       "      <th>business_id</th>\n",
       "      <th>pred_sgd</th>\n",
       "      <th>pred_svm</th>\n",
       "      <th>pred_nb</th>\n",
       "      <th>categories</th>\n",
       "    </tr>\n",
       "  </thead>\n",
       "  <tbody>\n",
       "    <tr>\n",
       "      <th>0</th>\n",
       "      <td>ZmMCgM4RCqCXJ0Lswu6yxw</td>\n",
       "      <td>[Local Services, Appliances &amp; Repair]</td>\n",
       "      <td>[Local Services, Appliances &amp; Repair]</td>\n",
       "      <td>[Home Services, Local Services, Appliances &amp; R...</td>\n",
       "      <td>[u'Appliances &amp; Repair', u'Local Services']</td>\n",
       "    </tr>\n",
       "    <tr>\n",
       "      <th>1</th>\n",
       "      <td>YxHIBPLb9SpDHjweRnUPgQ</td>\n",
       "      <td>[]</td>\n",
       "      <td>[]</td>\n",
       "      <td>[Automotive]</td>\n",
       "      <td>[u'Appliances &amp; Repair', u'Local Services']</td>\n",
       "    </tr>\n",
       "    <tr>\n",
       "      <th>2</th>\n",
       "      <td>uRMTX1jiNvKRDO45ULW3jQ</td>\n",
       "      <td>[Local Services, Appliances &amp; Repair]</td>\n",
       "      <td>[Local Services, Appliances &amp; Repair]</td>\n",
       "      <td>[Local Services, Appliances &amp; Repair]</td>\n",
       "      <td>[u'Appliances &amp; Repair', u'Local Services']</td>\n",
       "    </tr>\n",
       "    <tr>\n",
       "      <th>3</th>\n",
       "      <td>yZIA98HUgPYx4BY8iZr3IA</td>\n",
       "      <td>[Fast Food, Restaurants]</td>\n",
       "      <td>[Fast Food, Restaurants]</td>\n",
       "      <td>[Fast Food, Restaurants, Burgers]</td>\n",
       "      <td>[u'Fast Food', u'Restaurants']</td>\n",
       "    </tr>\n",
       "    <tr>\n",
       "      <th>4</th>\n",
       "      <td>jAgNdPqhWBXuz-QOqHEVfQ</td>\n",
       "      <td>[Fast Food, Restaurants]</td>\n",
       "      <td>[Fast Food, Restaurants]</td>\n",
       "      <td>[Fast Food, Restaurants]</td>\n",
       "      <td>[u'Fast Food', u'Restaurants']</td>\n",
       "    </tr>\n",
       "  </tbody>\n",
       "</table>\n",
       "</div>"
      ],
      "text/plain": [
       "              business_id                               pred_sgd  \\\n",
       "0  ZmMCgM4RCqCXJ0Lswu6yxw  [Local Services, Appliances & Repair]   \n",
       "1  YxHIBPLb9SpDHjweRnUPgQ                                     []   \n",
       "2  uRMTX1jiNvKRDO45ULW3jQ  [Local Services, Appliances & Repair]   \n",
       "3  yZIA98HUgPYx4BY8iZr3IA               [Fast Food, Restaurants]   \n",
       "4  jAgNdPqhWBXuz-QOqHEVfQ               [Fast Food, Restaurants]   \n",
       "\n",
       "                                pred_svm  \\\n",
       "0  [Local Services, Appliances & Repair]   \n",
       "1                                     []   \n",
       "2  [Local Services, Appliances & Repair]   \n",
       "3               [Fast Food, Restaurants]   \n",
       "4               [Fast Food, Restaurants]   \n",
       "\n",
       "                                             pred_nb  \\\n",
       "0  [Home Services, Local Services, Appliances & R...   \n",
       "1                                       [Automotive]   \n",
       "2              [Local Services, Appliances & Repair]   \n",
       "3                  [Fast Food, Restaurants, Burgers]   \n",
       "4                           [Fast Food, Restaurants]   \n",
       "\n",
       "                                    categories  \n",
       "0  [u'Appliances & Repair', u'Local Services']  \n",
       "1  [u'Appliances & Repair', u'Local Services']  \n",
       "2  [u'Appliances & Repair', u'Local Services']  \n",
       "3               [u'Fast Food', u'Restaurants']  \n",
       "4               [u'Fast Food', u'Restaurants']  "
      ]
     },
     "execution_count": 89,
     "metadata": {},
     "output_type": "execute_result"
    }
   ],
   "source": [
    "## A snapshot of predictions\n",
    "df_test_sub2.head()"
   ]
  },
  {
   "cell_type": "markdown",
   "metadata": {},
   "source": [
    "## Evaluation"
   ]
  },
  {
   "cell_type": "code",
   "execution_count": 90,
   "metadata": {
    "collapsed": false
   },
   "outputs": [
    {
     "name": "stdout",
     "output_type": "stream",
     "text": [
      "83.6978131213 76.9383697813 68.986083499\n"
     ]
    }
   ],
   "source": [
    "## Accuracy\n",
    "\n",
    "def get_acc(pred_list):\n",
    "    correct_val = len([i for i in range(len(labels_test)) if np.all(labels_test[i]==pred_list[i])])\n",
    "    return float(correct_val)/len(labels_test)*100\n",
    "    \n",
    "\n",
    "acc_svm = get_acc(result_svm)\n",
    "acc_nb = get_acc(result_nb)\n",
    "acc_sgd = get_acc(result_sgd)\n",
    "\n",
    "print acc_sgd, acc_svm, acc_nb"
   ]
  },
  {
   "cell_type": "code",
   "execution_count": 91,
   "metadata": {
    "collapsed": false
   },
   "outputs": [
    {
     "name": "stdout",
     "output_type": "stream",
     "text": [
      "0.936514005011 0.894121442558 0.875760454193\n"
     ]
    }
   ],
   "source": [
    "## F1-Score\n",
    "\n",
    "f1_sgd = f1_score(labels_test, result_sgd, average='weighted')\n",
    "f1_svm = f1_score(labels_test, result_svm, average='weighted')\n",
    "f1_nb = f1_score(labels_test, result_nb, average='weighted')\n",
    "\n",
    "print f1_sgd, f1_svm, f1_nb"
   ]
  },
  {
   "cell_type": "code",
   "execution_count": 92,
   "metadata": {
    "collapsed": false
   },
   "outputs": [
    {
     "name": "stdout",
     "output_type": "stream",
     "text": [
      "0.946943771187 0.920008593946 0.896585582224\n"
     ]
    }
   ],
   "source": [
    "## Average precision\n",
    "\n",
    "ap_sgd = average_precision_score(labels_test, result_sgd, average='weighted')\n",
    "ap_svm = average_precision_score(labels_test, result_svm, average='weighted')\n",
    "ap_nb = average_precision_score(labels_test, result_nb, average='weighted')\n",
    "\n",
    "print ap_sgd, ap_svm, ap_nb"
   ]
  },
  {
   "cell_type": "code",
   "execution_count": null,
   "metadata": {
    "collapsed": true
   },
   "outputs": [],
   "source": []
  }
 ],
 "metadata": {
  "kernelspec": {
   "display_name": "Python 2",
   "language": "python",
   "name": "python2"
  },
  "language_info": {
   "codemirror_mode": {
    "name": "ipython",
    "version": 2
   },
   "file_extension": ".py",
   "mimetype": "text/x-python",
   "name": "python",
   "nbconvert_exporter": "python",
   "pygments_lexer": "ipython2",
   "version": "2.7.14"
  }
 },
 "nbformat": 4,
 "nbformat_minor": 2
}
