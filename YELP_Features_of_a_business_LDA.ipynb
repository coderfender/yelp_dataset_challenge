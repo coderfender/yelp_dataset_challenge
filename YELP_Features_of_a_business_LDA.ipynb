{
 "cells": [
  {
   "cell_type": "code",
   "execution_count": 1,
   "metadata": {
    "collapsed": false
   },
   "outputs": [
    {
     "name": "stderr",
     "output_type": "stream",
     "text": [
      "C:\\Users\\bhargavic\\Anaconda2\\envs\\gl-env\\lib\\site-packages\\gensim\\utils.py:865: UserWarning: detected Windows; aliasing chunkize to chunkize_serial\n",
      "  warnings.warn(\"detected Windows; aliasing chunkize to chunkize_serial\")\n"
     ]
    }
   ],
   "source": [
    "import pandas as pd\n",
    "import numpy as np\n",
    "import graphlab as gl\n",
    "from datetime import datetime\n",
    "from operator import itemgetter\n",
    "from collections import Counter\n",
    "from functools import partial\n",
    "\n",
    "import gensim\n",
    "from gensim import corpora\n",
    "\n",
    "from sklearn.feature_extraction.text import TfidfVectorizer\n",
    "from nltk.corpus import stopwords \n",
    "from nltk.stem.wordnet import WordNetLemmatizer\n",
    "import string\n",
    "\n",
    "stop = set(stopwords.words('english'))\n",
    "exclude = set(string.punctuation) \n",
    "lemma = WordNetLemmatizer()"
   ]
  },
  {
   "cell_type": "code",
   "execution_count": null,
   "metadata": {
    "collapsed": false
   },
   "outputs": [],
   "source": []
  },
  {
   "cell_type": "code",
   "execution_count": 2,
   "metadata": {
    "collapsed": false
   },
   "outputs": [],
   "source": [
    "main_path = \"D:\\Grad Notes\\Search\\Project\\Data\\yelp_dataset\\dataset\\\\\""
   ]
  },
  {
   "cell_type": "code",
   "execution_count": 3,
   "metadata": {
    "collapsed": false
   },
   "outputs": [],
   "source": [
    "## Stopword list 1\n",
    "stop = stopwords.words('english')\n",
    "len(stop)\n",
    "\n",
    "## Stop list 2\n",
    "f = open(main_path+'stopwords.txt','r')\n",
    "stop2 = f.readlines()[0].split(\"\\r\")\n",
    "\n",
    "stop_all = stop + stop2\n",
    "stop_all = set(stop_all)"
   ]
  },
  {
   "cell_type": "code",
   "execution_count": 4,
   "metadata": {
    "collapsed": false
   },
   "outputs": [
    {
     "data": {
      "text/html": [
       "<div>\n",
       "<table border=\"1\" class=\"dataframe\">\n",
       "  <thead>\n",
       "    <tr style=\"text-align: right;\">\n",
       "      <th></th>\n",
       "      <th>attributes.Ambience.divey</th>\n",
       "      <th>attributes.RestaurantsDelivery</th>\n",
       "      <th>attributes.DogsAllowed</th>\n",
       "      <th>postal_code</th>\n",
       "      <th>hours.Thursday</th>\n",
       "      <th>attributes.HairSpecializesIn.coloring</th>\n",
       "      <th>attributes.BestNights.sunday</th>\n",
       "      <th>attributes.BYOB</th>\n",
       "      <th>attributes.AgesAllowed</th>\n",
       "      <th>attributes.Music.video</th>\n",
       "      <th>...</th>\n",
       "      <th>attributes.Caters</th>\n",
       "      <th>attributes.RestaurantsReservations</th>\n",
       "      <th>attributes.DietaryRestrictions.dairy-free</th>\n",
       "      <th>attributes.DietaryRestrictions.vegan</th>\n",
       "      <th>attributes.Ambience.romantic</th>\n",
       "      <th>attributes.Music.jukebox</th>\n",
       "      <th>attributes.Ambience.upscale</th>\n",
       "      <th>attributes.RestaurantsTakeOut</th>\n",
       "      <th>attributes.BikeParking</th>\n",
       "      <th>attributes.OutdoorSeating</th>\n",
       "    </tr>\n",
       "  </thead>\n",
       "  <tbody>\n",
       "    <tr>\n",
       "      <th>0</th>\n",
       "      <td>NaN</td>\n",
       "      <td>NaN</td>\n",
       "      <td>NaN</td>\n",
       "      <td>44143</td>\n",
       "      <td>10:00-21:00</td>\n",
       "      <td>NaN</td>\n",
       "      <td>NaN</td>\n",
       "      <td>NaN</td>\n",
       "      <td>NaN</td>\n",
       "      <td>NaN</td>\n",
       "      <td>...</td>\n",
       "      <td>NaN</td>\n",
       "      <td>NaN</td>\n",
       "      <td>NaN</td>\n",
       "      <td>NaN</td>\n",
       "      <td>NaN</td>\n",
       "      <td>NaN</td>\n",
       "      <td>NaN</td>\n",
       "      <td>NaN</td>\n",
       "      <td>True</td>\n",
       "      <td>NaN</td>\n",
       "    </tr>\n",
       "    <tr>\n",
       "      <th>1</th>\n",
       "      <td>False</td>\n",
       "      <td>True</td>\n",
       "      <td>NaN</td>\n",
       "      <td>28215</td>\n",
       "      <td>10:00-22:00</td>\n",
       "      <td>NaN</td>\n",
       "      <td>NaN</td>\n",
       "      <td>NaN</td>\n",
       "      <td>NaN</td>\n",
       "      <td>NaN</td>\n",
       "      <td>...</td>\n",
       "      <td>NaN</td>\n",
       "      <td>False</td>\n",
       "      <td>NaN</td>\n",
       "      <td>NaN</td>\n",
       "      <td>False</td>\n",
       "      <td>NaN</td>\n",
       "      <td>False</td>\n",
       "      <td>True</td>\n",
       "      <td>NaN</td>\n",
       "      <td>False</td>\n",
       "    </tr>\n",
       "    <tr>\n",
       "      <th>2</th>\n",
       "      <td>NaN</td>\n",
       "      <td>NaN</td>\n",
       "      <td>NaN</td>\n",
       "      <td>M4K 1N7</td>\n",
       "      <td>10:00-19:00</td>\n",
       "      <td>NaN</td>\n",
       "      <td>NaN</td>\n",
       "      <td>NaN</td>\n",
       "      <td>NaN</td>\n",
       "      <td>NaN</td>\n",
       "      <td>...</td>\n",
       "      <td>NaN</td>\n",
       "      <td>NaN</td>\n",
       "      <td>NaN</td>\n",
       "      <td>NaN</td>\n",
       "      <td>NaN</td>\n",
       "      <td>NaN</td>\n",
       "      <td>NaN</td>\n",
       "      <td>NaN</td>\n",
       "      <td>True</td>\n",
       "      <td>False</td>\n",
       "    </tr>\n",
       "    <tr>\n",
       "      <th>3</th>\n",
       "      <td>NaN</td>\n",
       "      <td>NaN</td>\n",
       "      <td>NaN</td>\n",
       "      <td>85258</td>\n",
       "      <td>9:00-17:00</td>\n",
       "      <td>NaN</td>\n",
       "      <td>NaN</td>\n",
       "      <td>NaN</td>\n",
       "      <td>NaN</td>\n",
       "      <td>NaN</td>\n",
       "      <td>...</td>\n",
       "      <td>NaN</td>\n",
       "      <td>NaN</td>\n",
       "      <td>NaN</td>\n",
       "      <td>NaN</td>\n",
       "      <td>NaN</td>\n",
       "      <td>NaN</td>\n",
       "      <td>NaN</td>\n",
       "      <td>NaN</td>\n",
       "      <td>NaN</td>\n",
       "      <td>NaN</td>\n",
       "    </tr>\n",
       "    <tr>\n",
       "      <th>4</th>\n",
       "      <td>False</td>\n",
       "      <td>False</td>\n",
       "      <td>NaN</td>\n",
       "      <td>85016</td>\n",
       "      <td>NaN</td>\n",
       "      <td>NaN</td>\n",
       "      <td>NaN</td>\n",
       "      <td>NaN</td>\n",
       "      <td>NaN</td>\n",
       "      <td>NaN</td>\n",
       "      <td>...</td>\n",
       "      <td>True</td>\n",
       "      <td>False</td>\n",
       "      <td>NaN</td>\n",
       "      <td>NaN</td>\n",
       "      <td>False</td>\n",
       "      <td>NaN</td>\n",
       "      <td>False</td>\n",
       "      <td>True</td>\n",
       "      <td>True</td>\n",
       "      <td>False</td>\n",
       "    </tr>\n",
       "  </tbody>\n",
       "</table>\n",
       "<p>5 rows × 101 columns</p>\n",
       "</div>"
      ],
      "text/plain": [
       "  attributes.Ambience.divey attributes.RestaurantsDelivery  \\\n",
       "0                       NaN                            NaN   \n",
       "1                     False                           True   \n",
       "2                       NaN                            NaN   \n",
       "3                       NaN                            NaN   \n",
       "4                     False                          False   \n",
       "\n",
       "  attributes.DogsAllowed postal_code hours.Thursday  \\\n",
       "0                    NaN       44143    10:00-21:00   \n",
       "1                    NaN       28215    10:00-22:00   \n",
       "2                    NaN     M4K 1N7    10:00-19:00   \n",
       "3                    NaN       85258     9:00-17:00   \n",
       "4                    NaN       85016            NaN   \n",
       "\n",
       "  attributes.HairSpecializesIn.coloring attributes.BestNights.sunday  \\\n",
       "0                                   NaN                          NaN   \n",
       "1                                   NaN                          NaN   \n",
       "2                                   NaN                          NaN   \n",
       "3                                   NaN                          NaN   \n",
       "4                                   NaN                          NaN   \n",
       "\n",
       "  attributes.BYOB attributes.AgesAllowed attributes.Music.video  \\\n",
       "0             NaN                    NaN                    NaN   \n",
       "1             NaN                    NaN                    NaN   \n",
       "2             NaN                    NaN                    NaN   \n",
       "3             NaN                    NaN                    NaN   \n",
       "4             NaN                    NaN                    NaN   \n",
       "\n",
       "             ...            attributes.Caters  \\\n",
       "0            ...                          NaN   \n",
       "1            ...                          NaN   \n",
       "2            ...                          NaN   \n",
       "3            ...                          NaN   \n",
       "4            ...                         True   \n",
       "\n",
       "   attributes.RestaurantsReservations  \\\n",
       "0                                 NaN   \n",
       "1                               False   \n",
       "2                                 NaN   \n",
       "3                                 NaN   \n",
       "4                               False   \n",
       "\n",
       "  attributes.DietaryRestrictions.dairy-free  \\\n",
       "0                                       NaN   \n",
       "1                                       NaN   \n",
       "2                                       NaN   \n",
       "3                                       NaN   \n",
       "4                                       NaN   \n",
       "\n",
       "  attributes.DietaryRestrictions.vegan attributes.Ambience.romantic  \\\n",
       "0                                  NaN                          NaN   \n",
       "1                                  NaN                        False   \n",
       "2                                  NaN                          NaN   \n",
       "3                                  NaN                          NaN   \n",
       "4                                  NaN                        False   \n",
       "\n",
       "  attributes.Music.jukebox attributes.Ambience.upscale  \\\n",
       "0                      NaN                         NaN   \n",
       "1                      NaN                       False   \n",
       "2                      NaN                         NaN   \n",
       "3                      NaN                         NaN   \n",
       "4                      NaN                       False   \n",
       "\n",
       "  attributes.RestaurantsTakeOut attributes.BikeParking  \\\n",
       "0                           NaN                   True   \n",
       "1                          True                    NaN   \n",
       "2                           NaN                   True   \n",
       "3                           NaN                    NaN   \n",
       "4                          True                   True   \n",
       "\n",
       "  attributes.OutdoorSeating  \n",
       "0                       NaN  \n",
       "1                     False  \n",
       "2                     False  \n",
       "3                       NaN  \n",
       "4                     False  \n",
       "\n",
       "[5 rows x 101 columns]"
      ]
     },
     "execution_count": 4,
     "metadata": {},
     "output_type": "execute_result"
    }
   ],
   "source": [
    "## Read business dataset\n",
    "df_bus = pd.read_csv(main_path+\"business.csv\")\n",
    "df_bus.head()"
   ]
  },
  {
   "cell_type": "code",
   "execution_count": 5,
   "metadata": {
    "collapsed": true
   },
   "outputs": [],
   "source": [
    "## Get location info\n",
    "df_bus_loc = df_bus[['business_id','postal_code','latitude','longitude']]\n",
    "df_bus_loc.to_csv(main_path+'business_loc.csv')"
   ]
  },
  {
   "cell_type": "code",
   "execution_count": 6,
   "metadata": {
    "collapsed": false
   },
   "outputs": [
    {
     "name": "stdout",
     "output_type": "stream",
     "text": [
      "11956\n"
     ]
    },
    {
     "name": "stderr",
     "output_type": "stream",
     "text": [
      "C:\\Users\\bhargavic\\Anaconda2\\envs\\gl-env\\lib\\site-packages\\pandas\\util\\decorators.py:91: SettingWithCopyWarning: \n",
      "A value is trying to be set on a copy of a slice from a DataFrame\n",
      "\n",
      "See the caveats in the documentation: http://pandas.pydata.org/pandas-docs/stable/indexing.html#indexing-view-versus-copy\n",
      "  return func(*args, **kwargs)\n"
     ]
    }
   ],
   "source": [
    "#For Las Vegas\n",
    "df_bus_las = df_bus[(df_bus['latitude'] > 36.133583) & (df_bus['latitude'] < 36.383558) & \\\n",
    "                    (df_bus['longitude'] > -115.418743) & (df_bus['longitude'] < -115.059459)]\n",
    "df_bus_las.shape\n",
    "\n",
    "df_las_sub = df_bus_las[['business_id','categories']]\n",
    "df_las_sub.drop_duplicates(inplace=True)\n",
    "df_las_sub.size\n",
    "\n",
    "las_id = df_bus_las['business_id'].tolist()\n",
    "print len(las_id)"
   ]
  },
  {
   "cell_type": "code",
   "execution_count": 7,
   "metadata": {
    "collapsed": false
   },
   "outputs": [
    {
     "name": "stdout",
     "output_type": "stream",
     "text": [
      "28085\n"
     ]
    }
   ],
   "source": [
    "#For Arizona\n",
    "df_bus_phx = df_bus[(df_bus['latitude'] > 33.303001) & (df_bus['latitude'] < 33.918307) & \\\n",
    "                    (df_bus['longitude'] > -112.344998) & (df_bus['longitude'] < -111.923398)]\n",
    "df_bus_phx.shape\n",
    "\n",
    "df_phx_sub = df_bus_phx[['business_id','categories']]\n",
    "df_phx_sub.drop_duplicates(inplace=True)\n",
    "df_phx_sub.size\n",
    "\n",
    "phx_id = df_bus_phx['business_id'].tolist()\n",
    "print len(phx_id)"
   ]
  },
  {
   "cell_type": "markdown",
   "metadata": {
    "collapsed": false
   },
   "source": [
    "## Working with the Las Vegas dataset"
   ]
  },
  {
   "cell_type": "code",
   "execution_count": 8,
   "metadata": {
    "collapsed": false
   },
   "outputs": [
    {
     "data": {
      "text/plain": [
       "[(\"[u'Restaurants', u'Mexican']\", 99),\n",
       " (\"[u'Mexican', u'Restaurants']\", 84),\n",
       " (\"[u'Beauty & Spas', u'Nail Salons']\", 58),\n",
       " (\"[u'Pizza', u'Restaurants']\", 58),\n",
       " (\"[u'Restaurants', u'Pizza']\", 57),\n",
       " (\"[u'Nail Salons', u'Beauty & Spas']\", 55),\n",
       " (\"[u'Automotive', u'Auto Repair']\", 47),\n",
       " (\"[u'Financial Services', u'Banks & Credit Unions']\", 44),\n",
       " (\"[u'Food', u'Coffee & Tea']\", 43),\n",
       " (\"[u'Hair Salons', u'Beauty & Spas']\", 43)]"
      ]
     },
     "execution_count": 8,
     "metadata": {},
     "output_type": "execute_result"
    }
   ],
   "source": [
    "## Filtering businesses with the most common category tags\n",
    "\n",
    "df_las_sub = df_las_sub[df_las_sub['categories']!='[]']\n",
    "\n",
    "cat_count = Counter(df_las_sub['categories'])\n",
    "cat_count.most_common(10)"
   ]
  },
  {
   "cell_type": "code",
   "execution_count": 9,
   "metadata": {
    "collapsed": false
   },
   "outputs": [
    {
     "data": {
      "text/plain": [
       "[\"[u'Restaurants', u'Mexican']\",\n",
       " \"[u'Mexican', u'Restaurants']\",\n",
       " \"[u'Beauty & Spas', u'Nail Salons']\",\n",
       " \"[u'Pizza', u'Restaurants']\",\n",
       " \"[u'Restaurants', u'Pizza']\"]"
      ]
     },
     "execution_count": 9,
     "metadata": {},
     "output_type": "execute_result"
    }
   ],
   "source": [
    "## Obtain the top 100 categories\n",
    "\n",
    "cat_list = cat_count.most_common(100)\n",
    "cat_list = [i[0] for i in cat_list]\n",
    "cat_list[:5]"
   ]
  },
  {
   "cell_type": "code",
   "execution_count": 10,
   "metadata": {
    "collapsed": false
   },
   "outputs": [
    {
     "data": {
      "text/plain": [
       "(4736897, 9)"
      ]
     },
     "execution_count": 10,
     "metadata": {},
     "output_type": "execute_result"
    }
   ],
   "source": [
    "## Get the user reviews dataset\n",
    "df_rev = pd.read_csv(main_path+\"review.csv\")\n",
    "df_rev.shape"
   ]
  },
  {
   "cell_type": "code",
   "execution_count": 11,
   "metadata": {
    "collapsed": false
   },
   "outputs": [
    {
     "data": {
      "text/html": [
       "<div>\n",
       "<table border=\"1\" class=\"dataframe\">\n",
       "  <thead>\n",
       "    <tr style=\"text-align: right;\">\n",
       "      <th></th>\n",
       "      <th>funny</th>\n",
       "      <th>user_id</th>\n",
       "      <th>review_id</th>\n",
       "      <th>text</th>\n",
       "      <th>business_id</th>\n",
       "      <th>stars</th>\n",
       "      <th>date</th>\n",
       "      <th>useful</th>\n",
       "      <th>cool</th>\n",
       "    </tr>\n",
       "  </thead>\n",
       "  <tbody>\n",
       "    <tr>\n",
       "      <th>0</th>\n",
       "      <td>0</td>\n",
       "      <td>cjpdDjZyprfyDG3RlkVG3w</td>\n",
       "      <td>VfBHSwC5Vz_pbFluy07i9Q</td>\n",
       "      <td>My girlfriend and I stayed here for 3 nights a...</td>\n",
       "      <td>uYHaNptLzDLoV_JZ_MuzUA</td>\n",
       "      <td>5</td>\n",
       "      <td>2016-07-12</td>\n",
       "      <td>0</td>\n",
       "      <td>0</td>\n",
       "    </tr>\n",
       "    <tr>\n",
       "      <th>1</th>\n",
       "      <td>0</td>\n",
       "      <td>bjTcT8Ty4cJZhEOEo01FGA</td>\n",
       "      <td>3zRpneRKDsOPq92tq7ybAA</td>\n",
       "      <td>If you need an inexpensive place to stay for a...</td>\n",
       "      <td>uYHaNptLzDLoV_JZ_MuzUA</td>\n",
       "      <td>3</td>\n",
       "      <td>2016-10-02</td>\n",
       "      <td>0</td>\n",
       "      <td>0</td>\n",
       "    </tr>\n",
       "    <tr>\n",
       "      <th>2</th>\n",
       "      <td>0</td>\n",
       "      <td>AXgRULmWcME7J6Ix3I--ww</td>\n",
       "      <td>ne5WhI1jUFOcRn-b-gAzHA</td>\n",
       "      <td>Mittlerweile gibt es in Edinburgh zwei Ableger...</td>\n",
       "      <td>uYHaNptLzDLoV_JZ_MuzUA</td>\n",
       "      <td>3</td>\n",
       "      <td>2015-09-17</td>\n",
       "      <td>0</td>\n",
       "      <td>0</td>\n",
       "    </tr>\n",
       "    <tr>\n",
       "      <th>3</th>\n",
       "      <td>0</td>\n",
       "      <td>oU2SSOmsp_A8JYI7Z2JJ5w</td>\n",
       "      <td>llmdwOgDReucVoWEry61Lw</td>\n",
       "      <td>Location is everything and this hotel has it! ...</td>\n",
       "      <td>uYHaNptLzDLoV_JZ_MuzUA</td>\n",
       "      <td>4</td>\n",
       "      <td>2016-08-21</td>\n",
       "      <td>0</td>\n",
       "      <td>0</td>\n",
       "    </tr>\n",
       "    <tr>\n",
       "      <th>4</th>\n",
       "      <td>0</td>\n",
       "      <td>0xtbPEna2Kei11vsU-U2Mw</td>\n",
       "      <td>DuffS87NaSMDmIfluvT83g</td>\n",
       "      <td>gute lage im stadtzentrum. shoppingmeile und s...</td>\n",
       "      <td>uYHaNptLzDLoV_JZ_MuzUA</td>\n",
       "      <td>5</td>\n",
       "      <td>2013-11-20</td>\n",
       "      <td>0</td>\n",
       "      <td>0</td>\n",
       "    </tr>\n",
       "  </tbody>\n",
       "</table>\n",
       "</div>"
      ],
      "text/plain": [
       "   funny                 user_id               review_id  \\\n",
       "0      0  cjpdDjZyprfyDG3RlkVG3w  VfBHSwC5Vz_pbFluy07i9Q   \n",
       "1      0  bjTcT8Ty4cJZhEOEo01FGA  3zRpneRKDsOPq92tq7ybAA   \n",
       "2      0  AXgRULmWcME7J6Ix3I--ww  ne5WhI1jUFOcRn-b-gAzHA   \n",
       "3      0  oU2SSOmsp_A8JYI7Z2JJ5w  llmdwOgDReucVoWEry61Lw   \n",
       "4      0  0xtbPEna2Kei11vsU-U2Mw  DuffS87NaSMDmIfluvT83g   \n",
       "\n",
       "                                                text             business_id  \\\n",
       "0  My girlfriend and I stayed here for 3 nights a...  uYHaNptLzDLoV_JZ_MuzUA   \n",
       "1  If you need an inexpensive place to stay for a...  uYHaNptLzDLoV_JZ_MuzUA   \n",
       "2  Mittlerweile gibt es in Edinburgh zwei Ableger...  uYHaNptLzDLoV_JZ_MuzUA   \n",
       "3  Location is everything and this hotel has it! ...  uYHaNptLzDLoV_JZ_MuzUA   \n",
       "4  gute lage im stadtzentrum. shoppingmeile und s...  uYHaNptLzDLoV_JZ_MuzUA   \n",
       "\n",
       "   stars        date  useful  cool  \n",
       "0      5  2016-07-12       0     0  \n",
       "1      3  2016-10-02       0     0  \n",
       "2      3  2015-09-17       0     0  \n",
       "3      4  2016-08-21       0     0  \n",
       "4      5  2013-11-20       0     0  "
      ]
     },
     "execution_count": 11,
     "metadata": {},
     "output_type": "execute_result"
    }
   ],
   "source": [
    "df_rev.head()"
   ]
  },
  {
   "cell_type": "code",
   "execution_count": 12,
   "metadata": {
    "collapsed": false
   },
   "outputs": [
    {
     "data": {
      "text/html": [
       "<div>\n",
       "<table border=\"1\" class=\"dataframe\">\n",
       "  <thead>\n",
       "    <tr style=\"text-align: right;\">\n",
       "      <th></th>\n",
       "      <th>funny</th>\n",
       "      <th>user_id</th>\n",
       "      <th>review_id</th>\n",
       "      <th>text</th>\n",
       "      <th>business_id</th>\n",
       "      <th>stars</th>\n",
       "      <th>date</th>\n",
       "      <th>useful</th>\n",
       "      <th>cool</th>\n",
       "    </tr>\n",
       "  </thead>\n",
       "  <tbody>\n",
       "    <tr>\n",
       "      <th>482</th>\n",
       "      <td>0</td>\n",
       "      <td>jgzD7eBwZrasqy6wUy122w</td>\n",
       "      <td>BLIJFaJZ-_fOcBs16fL_6g</td>\n",
       "      <td>Loved, Loved, Loved. It is a simple place, but...</td>\n",
       "      <td>OQcvO5P3gH0cuJ-bPXwfQQ</td>\n",
       "      <td>5</td>\n",
       "      <td>2017-04-01</td>\n",
       "      <td>0</td>\n",
       "      <td>0</td>\n",
       "    </tr>\n",
       "    <tr>\n",
       "      <th>483</th>\n",
       "      <td>0</td>\n",
       "      <td>2v_meK453YAWXz4NjJ9abA</td>\n",
       "      <td>VuKbGklNbOESJSx76_EjyA</td>\n",
       "      <td>Is a small restaurant food is good! Also the o...</td>\n",
       "      <td>OQcvO5P3gH0cuJ-bPXwfQQ</td>\n",
       "      <td>5</td>\n",
       "      <td>2016-11-05</td>\n",
       "      <td>0</td>\n",
       "      <td>0</td>\n",
       "    </tr>\n",
       "    <tr>\n",
       "      <th>484</th>\n",
       "      <td>0</td>\n",
       "      <td>cdFWtOgA1PAkNYkiwzUJbQ</td>\n",
       "      <td>HBaAmcS9zp5rY1qiMuWygA</td>\n",
       "      <td>Best Mexican restaurant in Vegas. Meat is supe...</td>\n",
       "      <td>OQcvO5P3gH0cuJ-bPXwfQQ</td>\n",
       "      <td>5</td>\n",
       "      <td>2017-06-01</td>\n",
       "      <td>1</td>\n",
       "      <td>0</td>\n",
       "    </tr>\n",
       "    <tr>\n",
       "      <th>485</th>\n",
       "      <td>0</td>\n",
       "      <td>60ENRcuFKNf9oeA2zWROFQ</td>\n",
       "      <td>41ORR2OPi2CP0FAoiWjwWA</td>\n",
       "      <td>I  would've like to take a before picture when...</td>\n",
       "      <td>OQcvO5P3gH0cuJ-bPXwfQQ</td>\n",
       "      <td>5</td>\n",
       "      <td>2017-07-16</td>\n",
       "      <td>1</td>\n",
       "      <td>0</td>\n",
       "    </tr>\n",
       "    <tr>\n",
       "      <th>486</th>\n",
       "      <td>42</td>\n",
       "      <td>Fv0e9RIV9jw5TX3ctA1WbA</td>\n",
       "      <td>Oxz26pqpIb7dDVeuUzNZlg</td>\n",
       "      <td>We had originally planned on eating at the Sin...</td>\n",
       "      <td>OQcvO5P3gH0cuJ-bPXwfQQ</td>\n",
       "      <td>4</td>\n",
       "      <td>2017-06-20</td>\n",
       "      <td>66</td>\n",
       "      <td>67</td>\n",
       "    </tr>\n",
       "  </tbody>\n",
       "</table>\n",
       "</div>"
      ],
      "text/plain": [
       "     funny                 user_id               review_id  \\\n",
       "482      0  jgzD7eBwZrasqy6wUy122w  BLIJFaJZ-_fOcBs16fL_6g   \n",
       "483      0  2v_meK453YAWXz4NjJ9abA  VuKbGklNbOESJSx76_EjyA   \n",
       "484      0  cdFWtOgA1PAkNYkiwzUJbQ  HBaAmcS9zp5rY1qiMuWygA   \n",
       "485      0  60ENRcuFKNf9oeA2zWROFQ  41ORR2OPi2CP0FAoiWjwWA   \n",
       "486     42  Fv0e9RIV9jw5TX3ctA1WbA  Oxz26pqpIb7dDVeuUzNZlg   \n",
       "\n",
       "                                                  text  \\\n",
       "482  Loved, Loved, Loved. It is a simple place, but...   \n",
       "483  Is a small restaurant food is good! Also the o...   \n",
       "484  Best Mexican restaurant in Vegas. Meat is supe...   \n",
       "485  I  would've like to take a before picture when...   \n",
       "486  We had originally planned on eating at the Sin...   \n",
       "\n",
       "                business_id  stars        date  useful  cool  \n",
       "482  OQcvO5P3gH0cuJ-bPXwfQQ      5  2017-04-01       0     0  \n",
       "483  OQcvO5P3gH0cuJ-bPXwfQQ      5  2016-11-05       0     0  \n",
       "484  OQcvO5P3gH0cuJ-bPXwfQQ      5  2017-06-01       1     0  \n",
       "485  OQcvO5P3gH0cuJ-bPXwfQQ      5  2017-07-16       1     0  \n",
       "486  OQcvO5P3gH0cuJ-bPXwfQQ      4  2017-06-20      66    67  "
      ]
     },
     "execution_count": 12,
     "metadata": {},
     "output_type": "execute_result"
    }
   ],
   "source": [
    "## Get reviews specific to Las Vegas\n",
    "\n",
    "df_rev_las = df_rev[df_rev['business_id'].isin(las_id)]\n",
    "df_rev_las.head()"
   ]
  },
  {
   "cell_type": "code",
   "execution_count": 13,
   "metadata": {
    "collapsed": false
   },
   "outputs": [
    {
     "data": {
      "text/plain": [
       "(458310, 9)"
      ]
     },
     "execution_count": 13,
     "metadata": {},
     "output_type": "execute_result"
    }
   ],
   "source": [
    "df_rev_las.shape"
   ]
  },
  {
   "cell_type": "code",
   "execution_count": 14,
   "metadata": {
    "collapsed": false
   },
   "outputs": [
    {
     "data": {
      "text/plain": [
       "(457998, 10)"
      ]
     },
     "execution_count": 14,
     "metadata": {},
     "output_type": "execute_result"
    }
   ],
   "source": [
    "df_rev_las = df_rev_las.merge(df_las_sub, on='business_id', how = 'inner')\n",
    "df_rev_las.shape"
   ]
  },
  {
   "cell_type": "code",
   "execution_count": 15,
   "metadata": {
    "collapsed": false
   },
   "outputs": [
    {
     "data": {
      "text/plain": [
       "(57189, 10)"
      ]
     },
     "execution_count": 15,
     "metadata": {},
     "output_type": "execute_result"
    }
   ],
   "source": [
    "## Filter reviews belonging to 100 most frequent categories\n",
    "\n",
    "df_rev_new = df_rev_las[df_rev_las['categories'].isin(cat_list)]\n",
    "df_rev_new.shape"
   ]
  },
  {
   "cell_type": "markdown",
   "metadata": {},
   "source": [
    "## Feature generation from text data"
   ]
  },
  {
   "cell_type": "code",
   "execution_count": 16,
   "metadata": {
    "collapsed": true
   },
   "outputs": [],
   "source": [
    "def clean_text(rtext):\n",
    "    stop_free = \" \".join([i for i in rtext.lower().split() if i not in stop_all])\n",
    "    punc_free = ''.join(ch for ch in stop_free if ch not in exclude)\n",
    "    return punc_free"
   ]
  },
  {
   "cell_type": "code",
   "execution_count": 19,
   "metadata": {
    "collapsed": false,
    "scrolled": true
   },
   "outputs": [
    {
     "name": "stderr",
     "output_type": "stream",
     "text": [
      "C:\\Users\\bhargavic\\Anaconda2\\envs\\gl-env\\lib\\site-packages\\ipykernel\\__main__.py:1: SettingWithCopyWarning: \n",
      "A value is trying to be set on a copy of a slice from a DataFrame.\n",
      "Try using .loc[row_indexer,col_indexer] = value instead\n",
      "\n",
      "See the caveats in the documentation: http://pandas.pydata.org/pandas-docs/stable/indexing.html#indexing-view-versus-copy\n",
      "  if __name__ == '__main__':\n"
     ]
    },
    {
     "data": {
      "text/html": [
       "<div>\n",
       "<table border=\"1\" class=\"dataframe\">\n",
       "  <thead>\n",
       "    <tr style=\"text-align: right;\">\n",
       "      <th></th>\n",
       "      <th>funny</th>\n",
       "      <th>user_id</th>\n",
       "      <th>review_id</th>\n",
       "      <th>text</th>\n",
       "      <th>business_id</th>\n",
       "      <th>stars</th>\n",
       "      <th>date</th>\n",
       "      <th>useful</th>\n",
       "      <th>cool</th>\n",
       "      <th>categories</th>\n",
       "      <th>cleaned_text</th>\n",
       "    </tr>\n",
       "  </thead>\n",
       "  <tbody>\n",
       "    <tr>\n",
       "      <th>0</th>\n",
       "      <td>0</td>\n",
       "      <td>jgzD7eBwZrasqy6wUy122w</td>\n",
       "      <td>BLIJFaJZ-_fOcBs16fL_6g</td>\n",
       "      <td>Loved, Loved, Loved. It is a simple place, but...</td>\n",
       "      <td>OQcvO5P3gH0cuJ-bPXwfQQ</td>\n",
       "      <td>5</td>\n",
       "      <td>2017-04-01</td>\n",
       "      <td>0</td>\n",
       "      <td>0</td>\n",
       "      <td>[u'Restaurants', u'Mexican']</td>\n",
       "      <td>loved loved loved simple place dont place deco...</td>\n",
       "    </tr>\n",
       "    <tr>\n",
       "      <th>1</th>\n",
       "      <td>0</td>\n",
       "      <td>2v_meK453YAWXz4NjJ9abA</td>\n",
       "      <td>VuKbGklNbOESJSx76_EjyA</td>\n",
       "      <td>Is a small restaurant food is good! Also the o...</td>\n",
       "      <td>OQcvO5P3gH0cuJ-bPXwfQQ</td>\n",
       "      <td>5</td>\n",
       "      <td>2016-11-05</td>\n",
       "      <td>0</td>\n",
       "      <td>0</td>\n",
       "      <td>[u'Restaurants', u'Mexican']</td>\n",
       "      <td>small restaurant food good owners friendly mak...</td>\n",
       "    </tr>\n",
       "    <tr>\n",
       "      <th>2</th>\n",
       "      <td>0</td>\n",
       "      <td>cdFWtOgA1PAkNYkiwzUJbQ</td>\n",
       "      <td>HBaAmcS9zp5rY1qiMuWygA</td>\n",
       "      <td>Best Mexican restaurant in Vegas. Meat is supe...</td>\n",
       "      <td>OQcvO5P3gH0cuJ-bPXwfQQ</td>\n",
       "      <td>5</td>\n",
       "      <td>2017-06-01</td>\n",
       "      <td>1</td>\n",
       "      <td>0</td>\n",
       "      <td>[u'Restaurants', u'Mexican']</td>\n",
       "      <td>mexican restaurant vegas meat super soft tasty...</td>\n",
       "    </tr>\n",
       "  </tbody>\n",
       "</table>\n",
       "</div>"
      ],
      "text/plain": [
       "   funny                 user_id               review_id  \\\n",
       "0      0  jgzD7eBwZrasqy6wUy122w  BLIJFaJZ-_fOcBs16fL_6g   \n",
       "1      0  2v_meK453YAWXz4NjJ9abA  VuKbGklNbOESJSx76_EjyA   \n",
       "2      0  cdFWtOgA1PAkNYkiwzUJbQ  HBaAmcS9zp5rY1qiMuWygA   \n",
       "\n",
       "                                                text             business_id  \\\n",
       "0  Loved, Loved, Loved. It is a simple place, but...  OQcvO5P3gH0cuJ-bPXwfQQ   \n",
       "1  Is a small restaurant food is good! Also the o...  OQcvO5P3gH0cuJ-bPXwfQQ   \n",
       "2  Best Mexican restaurant in Vegas. Meat is supe...  OQcvO5P3gH0cuJ-bPXwfQQ   \n",
       "\n",
       "   stars        date  useful  cool                    categories  \\\n",
       "0      5  2017-04-01       0     0  [u'Restaurants', u'Mexican']   \n",
       "1      5  2016-11-05       0     0  [u'Restaurants', u'Mexican']   \n",
       "2      5  2017-06-01       1     0  [u'Restaurants', u'Mexican']   \n",
       "\n",
       "                                        cleaned_text  \n",
       "0  loved loved loved simple place dont place deco...  \n",
       "1  small restaurant food good owners friendly mak...  \n",
       "2  mexican restaurant vegas meat super soft tasty...  "
      ]
     },
     "execution_count": 19,
     "metadata": {},
     "output_type": "execute_result"
    }
   ],
   "source": [
    "df_rev_new['cleaned_text'] = df_rev_new['text'].apply(clean_text)\n",
    "df_rev_new.head(3)"
   ]
  },
  {
   "cell_type": "code",
   "execution_count": 20,
   "metadata": {
    "collapsed": false,
    "scrolled": true
   },
   "outputs": [
    {
     "name": "stdout",
     "output_type": "stream",
     "text": [
      "This non-commercial license of GraphLab Create for academic use is assigned to bchalasa@iu.edu and will expire on November 26, 2018.\n"
     ]
    },
    {
     "name": "stderr",
     "output_type": "stream",
     "text": [
      "[INFO] graphlab.cython.cy_server: GraphLab Create v2.1 started. Logging: C:\\Users\\BHARGA~1\\AppData\\Local\\Temp\\graphlab_server_1512399292.log.0\n"
     ]
    },
    {
     "name": "stdout",
     "output_type": "stream",
     "text": [
      "POS Tagging runtime:  0:03:23.233000\n"
     ]
    },
    {
     "data": {
      "text/html": [
       "<div style=\"max-height:1000px;max-width:1500px;overflow:auto;\"><table frame=\"box\" rules=\"cols\">\n",
       "    <tr>\n",
       "        <th style=\"padding-left: 1em; padding-right: 1em; text-align: center\">nouns_tags</th>\n",
       "    </tr>\n",
       "    <tr>\n",
       "        <td style=\"padding-left: 1em; padding-right: 1em; text-align: center; vertical-align: top\">{'NOUN': {'customer': 1L,<br>'rating': 1L, 'decor': ...</td>\n",
       "    </tr>\n",
       "    <tr>\n",
       "        <td style=\"padding-left: 1em; padding-right: 1em; text-align: center; vertical-align: top\">{'NOUN': {'food': 1L,<br>'owners': 1L, ...</td>\n",
       "    </tr>\n",
       "    <tr>\n",
       "        <td style=\"padding-left: 1em; padding-right: 1em; text-align: center; vertical-align: top\">{'NOUN': {'yummy': 1L,<br>'meat': 1L, 'service': ...</td>\n",
       "    </tr>\n",
       "    <tr>\n",
       "        <td style=\"padding-left: 1em; padding-right: 1em; text-align: center; vertical-align: top\">{'NOUN': {'picture': 1L,<br>'burrito': 1L, ...</td>\n",
       "    </tr>\n",
       "    <tr>\n",
       "        <td style=\"padding-left: 1em; padding-right: 1em; text-align: center; vertical-align: top\">{'NOUN': {'shop': 1L,<br>'cheese': 2L, 'figure': ...</td>\n",
       "    </tr>\n",
       "    <tr>\n",
       "        <td style=\"padding-left: 1em; padding-right: 1em; text-align: center; vertical-align: top\">{'NOUN': {'service': 1L,<br>'business': 1L, ...</td>\n",
       "    </tr>\n",
       "    <tr>\n",
       "        <td style=\"padding-left: 1em; padding-right: 1em; text-align: center; vertical-align: top\">{'NOUN': {'cheese': 1L,<br>'terms': 1L, 'lot': 1L, ...</td>\n",
       "    </tr>\n",
       "    <tr>\n",
       "        <td style=\"padding-left: 1em; padding-right: 1em; text-align: center; vertical-align: top\">{'NOUN': {'shop': 2L,<br>'pueblo': 1L, 'line': ...</td>\n",
       "    </tr>\n",
       "    <tr>\n",
       "        <td style=\"padding-left: 1em; padding-right: 1em; text-align: center; vertical-align: top\">{'NOUN': {'daughter': 1L,<br>'service': 1L, 'food': ...</td>\n",
       "    </tr>\n",
       "    <tr>\n",
       "        <td style=\"padding-left: 1em; padding-right: 1em; text-align: center; vertical-align: top\">{'NOUN': {'week': 1L,<br>'asada': 1L, 'tacos': ...</td>\n",
       "    </tr>\n",
       "</table>\n",
       "[57189 rows x 1 columns]<br/>Note: Only the head of the SFrame is printed.<br/>You can use print_rows(num_rows=m, num_columns=n) to print more rows and columns.\n",
       "</div>"
      ],
      "text/plain": [
       "Columns:\n",
       "\tnouns_tags\tdict\n",
       "\n",
       "Rows: 57189\n",
       "\n",
       "Data:\n",
       "+-------------------------------+\n",
       "|           nouns_tags          |\n",
       "+-------------------------------+\n",
       "| {'NOUN': {'customer': 1L, ... |\n",
       "| {'NOUN': {'food': 1L, 'own... |\n",
       "| {'NOUN': {'yummy': 1L, 'me... |\n",
       "| {'NOUN': {'picture': 1L, '... |\n",
       "| {'NOUN': {'shop': 1L, 'che... |\n",
       "| {'NOUN': {'service': 1L, '... |\n",
       "| {'NOUN': {'cheese': 1L, 't... |\n",
       "| {'NOUN': {'shop': 2L, 'pue... |\n",
       "| {'NOUN': {'daughter': 1L, ... |\n",
       "| {'NOUN': {'week': 1L, 'asa... |\n",
       "+-------------------------------+\n",
       "[57189 rows x 1 columns]\n",
       "Note: Only the head of the SFrame is printed.\n",
       "You can use print_rows(num_rows=m, num_columns=n) to print more rows and columns."
      ]
     },
     "execution_count": 20,
     "metadata": {},
     "output_type": "execute_result"
    }
   ],
   "source": [
    "n3 = datetime.now()\n",
    "\n",
    "sf_rev = gl.SFrame(df_rev_new[['review_id','cleaned_text']])\n",
    "\n",
    "sf_pos = gl.SFrame()\n",
    "sf_pos['nouns_tags'] = gl.text_analytics.extract_parts_of_speech(sf_rev['cleaned_text'],chosen_pos=[gl.text_analytics.PartOfSpeech.NOUN])\n",
    "\n",
    "print \"POS Tagging runtime: \",datetime.now()-n3\n",
    "sf_pos"
   ]
  },
  {
   "cell_type": "code",
   "execution_count": 21,
   "metadata": {
    "collapsed": false,
    "scrolled": false
   },
   "outputs": [
    {
     "name": "stderr",
     "output_type": "stream",
     "text": [
      "C:\\Users\\bhargavic\\Anaconda2\\envs\\gl-env\\lib\\site-packages\\ipykernel\\__main__.py:1: SettingWithCopyWarning: \n",
      "A value is trying to be set on a copy of a slice from a DataFrame.\n",
      "Try using .loc[row_indexer,col_indexer] = value instead\n",
      "\n",
      "See the caveats in the documentation: http://pandas.pydata.org/pandas-docs/stable/indexing.html#indexing-view-versus-copy\n",
      "  if __name__ == '__main__':\n"
     ]
    }
   ],
   "source": [
    "df_rev_new['noun_tags'] = list(sf_pos['nouns_tags'])"
   ]
  },
  {
   "cell_type": "code",
   "execution_count": 22,
   "metadata": {
    "collapsed": true
   },
   "outputs": [],
   "source": [
    "def lemmatize_word(word):\n",
    "    return lemma.lemmatize(word.decode('utf-8'))\n",
    "    \n",
    "def format_tags(tags):\n",
    "    nlist = tags['NOUN'].keys()\n",
    "    lem_list = list(set([i for i in nlist]))\n",
    "    \n",
    "    return lem_list"
   ]
  },
  {
   "cell_type": "code",
   "execution_count": 23,
   "metadata": {
    "collapsed": false
   },
   "outputs": [
    {
     "name": "stderr",
     "output_type": "stream",
     "text": [
      "C:\\Users\\bhargavic\\Anaconda2\\envs\\gl-env\\lib\\site-packages\\ipykernel\\__main__.py:1: SettingWithCopyWarning: \n",
      "A value is trying to be set on a copy of a slice from a DataFrame.\n",
      "Try using .loc[row_indexer,col_indexer] = value instead\n",
      "\n",
      "See the caveats in the documentation: http://pandas.pydata.org/pandas-docs/stable/indexing.html#indexing-view-versus-copy\n",
      "  if __name__ == '__main__':\n"
     ]
    }
   ],
   "source": [
    "df_rev_new['noun_tags'] = df_rev_new['noun_tags'].apply(format_tags)"
   ]
  },
  {
   "cell_type": "code",
   "execution_count": 24,
   "metadata": {
    "collapsed": false
   },
   "outputs": [
    {
     "data": {
      "text/html": [
       "<div>\n",
       "<table border=\"1\" class=\"dataframe\">\n",
       "  <thead>\n",
       "    <tr style=\"text-align: right;\">\n",
       "      <th></th>\n",
       "      <th>funny</th>\n",
       "      <th>user_id</th>\n",
       "      <th>review_id</th>\n",
       "      <th>text</th>\n",
       "      <th>business_id</th>\n",
       "      <th>stars</th>\n",
       "      <th>date</th>\n",
       "      <th>useful</th>\n",
       "      <th>cool</th>\n",
       "      <th>categories</th>\n",
       "      <th>cleaned_text</th>\n",
       "      <th>noun_tags</th>\n",
       "    </tr>\n",
       "  </thead>\n",
       "  <tbody>\n",
       "    <tr>\n",
       "      <th>0</th>\n",
       "      <td>0</td>\n",
       "      <td>jgzD7eBwZrasqy6wUy122w</td>\n",
       "      <td>BLIJFaJZ-_fOcBs16fL_6g</td>\n",
       "      <td>Loved, Loved, Loved. It is a simple place, but...</td>\n",
       "      <td>OQcvO5P3gH0cuJ-bPXwfQQ</td>\n",
       "      <td>5</td>\n",
       "      <td>2017-04-01</td>\n",
       "      <td>0</td>\n",
       "      <td>0</td>\n",
       "      <td>[u'Restaurants', u'Mexican']</td>\n",
       "      <td>loved loved loved simple place dont place deco...</td>\n",
       "      <td>[customer, rating, decor, dicount, food, note,...</td>\n",
       "    </tr>\n",
       "    <tr>\n",
       "      <th>1</th>\n",
       "      <td>0</td>\n",
       "      <td>2v_meK453YAWXz4NjJ9abA</td>\n",
       "      <td>VuKbGklNbOESJSx76_EjyA</td>\n",
       "      <td>Is a small restaurant food is good! Also the o...</td>\n",
       "      <td>OQcvO5P3gH0cuJ-bPXwfQQ</td>\n",
       "      <td>5</td>\n",
       "      <td>2016-11-05</td>\n",
       "      <td>0</td>\n",
       "      <td>0</td>\n",
       "      <td>[u'Restaurants', u'Mexican']</td>\n",
       "      <td>small restaurant food good owners friendly mak...</td>\n",
       "      <td>[food, owners, restaurant]</td>\n",
       "    </tr>\n",
       "    <tr>\n",
       "      <th>2</th>\n",
       "      <td>0</td>\n",
       "      <td>cdFWtOgA1PAkNYkiwzUJbQ</td>\n",
       "      <td>HBaAmcS9zp5rY1qiMuWygA</td>\n",
       "      <td>Best Mexican restaurant in Vegas. Meat is supe...</td>\n",
       "      <td>OQcvO5P3gH0cuJ-bPXwfQQ</td>\n",
       "      <td>5</td>\n",
       "      <td>2017-06-01</td>\n",
       "      <td>1</td>\n",
       "      <td>0</td>\n",
       "      <td>[u'Restaurants', u'Mexican']</td>\n",
       "      <td>mexican restaurant vegas meat super soft tasty...</td>\n",
       "      <td>[yummy, meat, service, restaurant, fish, vegas...</td>\n",
       "    </tr>\n",
       "  </tbody>\n",
       "</table>\n",
       "</div>"
      ],
      "text/plain": [
       "   funny                 user_id               review_id  \\\n",
       "0      0  jgzD7eBwZrasqy6wUy122w  BLIJFaJZ-_fOcBs16fL_6g   \n",
       "1      0  2v_meK453YAWXz4NjJ9abA  VuKbGklNbOESJSx76_EjyA   \n",
       "2      0  cdFWtOgA1PAkNYkiwzUJbQ  HBaAmcS9zp5rY1qiMuWygA   \n",
       "\n",
       "                                                text             business_id  \\\n",
       "0  Loved, Loved, Loved. It is a simple place, but...  OQcvO5P3gH0cuJ-bPXwfQQ   \n",
       "1  Is a small restaurant food is good! Also the o...  OQcvO5P3gH0cuJ-bPXwfQQ   \n",
       "2  Best Mexican restaurant in Vegas. Meat is supe...  OQcvO5P3gH0cuJ-bPXwfQQ   \n",
       "\n",
       "   stars        date  useful  cool                    categories  \\\n",
       "0      5  2017-04-01       0     0  [u'Restaurants', u'Mexican']   \n",
       "1      5  2016-11-05       0     0  [u'Restaurants', u'Mexican']   \n",
       "2      5  2017-06-01       1     0  [u'Restaurants', u'Mexican']   \n",
       "\n",
       "                                        cleaned_text  \\\n",
       "0  loved loved loved simple place dont place deco...   \n",
       "1  small restaurant food good owners friendly mak...   \n",
       "2  mexican restaurant vegas meat super soft tasty...   \n",
       "\n",
       "                                           noun_tags  \n",
       "0  [customer, rating, decor, dicount, food, note,...  \n",
       "1                         [food, owners, restaurant]  \n",
       "2  [yummy, meat, service, restaurant, fish, vegas...  "
      ]
     },
     "execution_count": 24,
     "metadata": {},
     "output_type": "execute_result"
    }
   ],
   "source": [
    "df_rev_new.head(3)"
   ]
  },
  {
   "cell_type": "code",
   "execution_count": 25,
   "metadata": {
    "collapsed": true
   },
   "outputs": [],
   "source": [
    "##Store results\n",
    "df_rev_new.to_csv(main_path+'las_test_pos.csv')"
   ]
  },
  {
   "cell_type": "code",
   "execution_count": 26,
   "metadata": {
    "collapsed": false
   },
   "outputs": [
    {
     "data": {
      "text/plain": [
       "[['customer',\n",
       "  'rating',\n",
       "  'decor',\n",
       "  'dicount',\n",
       "  'food',\n",
       "  'note',\n",
       "  'compensation',\n",
       "  'place'],\n",
       " ['food', 'owners', 'restaurant'],\n",
       " ['yummy', 'meat', 'service', 'restaurant', 'fish', 'vegas', 'salsa']]"
      ]
     },
     "execution_count": 26,
     "metadata": {},
     "output_type": "execute_result"
    }
   ],
   "source": [
    "tagged_revs = df_rev_new['noun_tags'].tolist()\n",
    "tagged_revs[:3]"
   ]
  },
  {
   "cell_type": "markdown",
   "metadata": {},
   "source": [
    "## Train LDA Model"
   ]
  },
  {
   "cell_type": "code",
   "execution_count": null,
   "metadata": {
    "collapsed": false
   },
   "outputs": [],
   "source": [
    "n3 = datetime.now()\n",
    "\n",
    "##Run topic modeling over all the reviews\n",
    "\n",
    "tagged_revs = df_rev_new['noun_tags'].tolist()\n",
    "\n",
    " # Creating the term dictionary \n",
    "dictionary = corpora.Dictionary(tagged_revs)\n",
    "dictionary.filter_extremes(keep_n=10000)\n",
    "dictionary.compactify()\n",
    "len(dictionary)\n",
    "\n",
    "# Converting into Document Term Matrix\n",
    "doc_term_matrix = [dictionary.doc2bow(rtxt) for rtxt in tagged_revs]\n",
    "\n",
    "# LDA model object \n",
    "Lda = gensim.models.ldamodel.LdaModel\n",
    "\n",
    "# Training the LDA model\n",
    "ldamodel = Lda(doc_term_matrix, num_topics=50, id2word = dictionary, chunksize=3000, update_every=2, passes=2)\n",
    "\n",
    "print \"LDA Runtime: \",datetime.now() - n3"
   ]
  },
  {
   "cell_type": "code",
   "execution_count": 59,
   "metadata": {
    "collapsed": false
   },
   "outputs": [],
   "source": [
    "# lda_topics = ldamodel.print_topics(num_topics=50, num_words=10)\n",
    "# lda_topics"
   ]
  },
  {
   "cell_type": "code",
   "execution_count": 60,
   "metadata": {
    "collapsed": true
   },
   "outputs": [],
   "source": [
    "#ldamodel.save(main_path+'LdaModels\\las_top50')"
   ]
  },
  {
   "cell_type": "code",
   "execution_count": 27,
   "metadata": {
    "collapsed": false
   },
   "outputs": [],
   "source": [
    "## Load previously generated model\n",
    "\n",
    "Lda = gensim.models.ldamodel.LdaModel\n",
    "ldamodel = Lda.load(main_path+'LdaModels\\las_top50')"
   ]
  },
  {
   "cell_type": "code",
   "execution_count": 33,
   "metadata": {
    "collapsed": false
   },
   "outputs": [],
   "source": [
    "## Infer a topic name for thr LDA topics\n",
    "\n",
    "topic_map =[(0,'service;steak'),(1, 'fast food;mexican'),(2, 'ambience'),(3, 'location'),(4, 'italian'),(5, 'gas station;fast food'),\\\n",
    "            (6, 'arts;entertainment'),(7, 'home services'),(8, 'ice cream'),(9, 'management;service'),(10, 'fast food'),(11, 'arts;entertainment'),\\\n",
    "            (12, 'breakfast;restaurant'),(13, 'ice cream'),(14, 'pizza'), (15, 'service;experience'), (16, 'none'), (17, 'bar;nightlife'), (18, 'hair salon;beauty'), \\\n",
    "            (19, 'ice cream'), (20, 'mexican'), (21, 'apartment;home services'), (22, 'parks'),(23, 'location;service'), (24, 'vet;health;medical'),\\\n",
    "            (25, 'Asian;thai;chinese'),(26, 'car dealer;auto service;car;auto'),(27, 'banks;financial'), (28, 'pizza;italian'),\\\n",
    "            (29, 'none'),(30, 'apartment;management'),(31, 'service;apartments'), (32, 'apartments'),(33, 'pizza;italian'), \\\n",
    "            (34, 'cafe;coffee'),(35, 'cafe;coffee'),(36, 'apartment'),(37, 'service;customer'),(38, 'dentist;health'),(39, 'none'),\\\n",
    "            (40, 'ambience'),(41, 'church'),(42, 'italian'),(43, 'fast food;american'), (44, 'nail salon;beauty'),(45, 'hair salon;beauty'),\\\n",
    "            (46, 'weddings;jewelery;shopping'),(47, 'dinner;food;restaurant'),(48, 'auto service;car;auto'), (49, 'optometrist;health')]"
   ]
  },
  {
   "cell_type": "code",
   "execution_count": 34,
   "metadata": {
    "collapsed": true
   },
   "outputs": [],
   "source": [
    "tlist = [i[1] for i in topic_map]\n",
    "lda_topic_map = dict(zip(range(51),tlist))"
   ]
  },
  {
   "cell_type": "code",
   "execution_count": 127,
   "metadata": {
    "collapsed": false
   },
   "outputs": [
    {
     "data": {
      "text/plain": [
       "100"
      ]
     },
     "execution_count": 127,
     "metadata": {},
     "output_type": "execute_result"
    }
   ],
   "source": [
    "# len(cat_list)\n",
    "\n",
    "# from random import randint\n",
    "# x_ind =[randint(0,99) for p in range(10)]\n",
    "\n",
    "# fin_topic_list = [cat_list[i] for i in x_ind]\n",
    "# fin_topic_list\n",
    "\n",
    "# df_sub1 = df_rev_new[df_rev_new['categories'].isin(fin_topic_list)]\n",
    "# df_sub1.shape"
   ]
  },
  {
   "cell_type": "markdown",
   "metadata": {},
   "source": [
    "## METHOD I - Predicting topics from all the concatenated topics of a business"
   ]
  },
  {
   "cell_type": "code",
   "execution_count": 35,
   "metadata": {
    "collapsed": true
   },
   "outputs": [],
   "source": [
    "## Predicting topics from all the reviews of a business\n",
    "def predict_topics(bus_id):\n",
    "    \n",
    "    df_sub = df_rev_new[(df_rev_new['business_id'] == bus_id)]\n",
    "    \n",
    "    review_list = df_sub['noun_tags'].tolist()\n",
    "    noun_tags = list(set([j for i in review_list for j in i]))\n",
    "\n",
    "    new_review_bow = dictionary.doc2bow(noun_tags)\n",
    "    new_review_lda = ldamodel[new_review_bow]\n",
    "\n",
    "    return sorted(new_review_lda,key=itemgetter(1), reverse=True)[:5]\n"
   ]
  },
  {
   "cell_type": "code",
   "execution_count": 36,
   "metadata": {
    "collapsed": false
   },
   "outputs": [
    {
     "name": "stderr",
     "output_type": "stream",
     "text": [
      "C:\\Users\\bhargavic\\Anaconda2\\envs\\gl-env\\lib\\site-packages\\ipykernel\\__main__.py:12: SettingWithCopyWarning: \n",
      "A value is trying to be set on a copy of a slice from a DataFrame.\n",
      "Try using .loc[row_indexer,col_indexer] = value instead\n",
      "\n",
      "See the caveats in the documentation: http://pandas.pydata.org/pandas-docs/stable/indexing.html#indexing-view-versus-copy\n"
     ]
    }
   ],
   "source": [
    "## Predict topics for cancatenated nouns of all business reviews\n",
    "\n",
    "tagged_revs = df_rev_new['noun_tags'].tolist()\n",
    "\n",
    " # Creating the term dictionary \n",
    "dictionary = corpora.Dictionary(tagged_revs)\n",
    "dictionary.filter_extremes(keep_n=10000)\n",
    "dictionary.compactify()\n",
    "\n",
    "df_topics = df_rev_new[['business_id','categories']]\n",
    "df_topics.drop_duplicates(inplace=True)\n",
    "df_topics['predicted_topics'] = df_topics['business_id'].apply(predict_topics)"
   ]
  },
  {
   "cell_type": "code",
   "execution_count": 37,
   "metadata": {
    "collapsed": false
   },
   "outputs": [
    {
     "data": {
      "text/html": [
       "<div>\n",
       "<table border=\"1\" class=\"dataframe\">\n",
       "  <thead>\n",
       "    <tr style=\"text-align: right;\">\n",
       "      <th></th>\n",
       "      <th>business_id</th>\n",
       "      <th>categories</th>\n",
       "      <th>predicted_topics</th>\n",
       "    </tr>\n",
       "  </thead>\n",
       "  <tbody>\n",
       "    <tr>\n",
       "      <th>0</th>\n",
       "      <td>OQcvO5P3gH0cuJ-bPXwfQQ</td>\n",
       "      <td>[u'Restaurants', u'Mexican']</td>\n",
       "      <td>[(20, 0.201280702426), (8, 0.111738424262), (0...</td>\n",
       "    </tr>\n",
       "    <tr>\n",
       "      <th>614</th>\n",
       "      <td>VkIKXVbSfcbxybbxbEt98w</td>\n",
       "      <td>[u'Automotive', u'Car Dealers']</td>\n",
       "      <td>[(7, 0.0841882868644), (26, 0.0797779085732), ...</td>\n",
       "    </tr>\n",
       "    <tr>\n",
       "      <th>820</th>\n",
       "      <td>ckc3l8cSuggloG4NlquEFQ</td>\n",
       "      <td>[u'Fast Food', u'Restaurants']</td>\n",
       "      <td>[(38, 0.292304696599), (43, 0.145389050797), (...</td>\n",
       "    </tr>\n",
       "    <tr>\n",
       "      <th>856</th>\n",
       "      <td>Du8gPSC88a9OuY1Vk0b52g</td>\n",
       "      <td>[u'Ice Cream &amp; Frozen Yogurt', u'Food']</td>\n",
       "      <td>[(8, 0.139358053968), (28, 0.12575320667), (26...</td>\n",
       "    </tr>\n",
       "    <tr>\n",
       "      <th>880</th>\n",
       "      <td>y7yo-LAjJnNoYwWX6ZYbqA</td>\n",
       "      <td>[u'General Dentistry', u'Dentists', u'Health &amp;...</td>\n",
       "      <td>[(24, 0.222685944524), (47, 0.0915175628953), ...</td>\n",
       "    </tr>\n",
       "  </tbody>\n",
       "</table>\n",
       "</div>"
      ],
      "text/plain": [
       "                business_id  \\\n",
       "0    OQcvO5P3gH0cuJ-bPXwfQQ   \n",
       "614  VkIKXVbSfcbxybbxbEt98w   \n",
       "820  ckc3l8cSuggloG4NlquEFQ   \n",
       "856  Du8gPSC88a9OuY1Vk0b52g   \n",
       "880  y7yo-LAjJnNoYwWX6ZYbqA   \n",
       "\n",
       "                                            categories  \\\n",
       "0                         [u'Restaurants', u'Mexican']   \n",
       "614                    [u'Automotive', u'Car Dealers']   \n",
       "820                     [u'Fast Food', u'Restaurants']   \n",
       "856            [u'Ice Cream & Frozen Yogurt', u'Food']   \n",
       "880  [u'General Dentistry', u'Dentists', u'Health &...   \n",
       "\n",
       "                                      predicted_topics  \n",
       "0    [(20, 0.201280702426), (8, 0.111738424262), (0...  \n",
       "614  [(7, 0.0841882868644), (26, 0.0797779085732), ...  \n",
       "820  [(38, 0.292304696599), (43, 0.145389050797), (...  \n",
       "856  [(8, 0.139358053968), (28, 0.12575320667), (26...  \n",
       "880  [(24, 0.222685944524), (47, 0.0915175628953), ...  "
      ]
     },
     "execution_count": 37,
     "metadata": {},
     "output_type": "execute_result"
    }
   ],
   "source": [
    "df_topics.head()"
   ]
  },
  {
   "cell_type": "code",
   "execution_count": 131,
   "metadata": {
    "collapsed": false
   },
   "outputs": [],
   "source": [
    "##df_topics.to_csv(main_path+'topics_top50.csv')"
   ]
  },
  {
   "cell_type": "code",
   "execution_count": 38,
   "metadata": {
    "collapsed": true
   },
   "outputs": [],
   "source": [
    "## Assign inferred names to topics\n",
    "\n",
    "def rename_topics(topic_list):\n",
    "    return [lda_topic_map[i[0]] for i in topic_list]"
   ]
  },
  {
   "cell_type": "code",
   "execution_count": 39,
   "metadata": {
    "collapsed": false
   },
   "outputs": [
    {
     "name": "stderr",
     "output_type": "stream",
     "text": [
      "C:\\Users\\bhargavic\\Anaconda2\\envs\\gl-env\\lib\\site-packages\\ipykernel\\__main__.py:1: SettingWithCopyWarning: \n",
      "A value is trying to be set on a copy of a slice from a DataFrame.\n",
      "Try using .loc[row_indexer,col_indexer] = value instead\n",
      "\n",
      "See the caveats in the documentation: http://pandas.pydata.org/pandas-docs/stable/indexing.html#indexing-view-versus-copy\n",
      "  if __name__ == '__main__':\n"
     ]
    },
    {
     "data": {
      "text/html": [
       "<div>\n",
       "<table border=\"1\" class=\"dataframe\">\n",
       "  <thead>\n",
       "    <tr style=\"text-align: right;\">\n",
       "      <th></th>\n",
       "      <th>business_id</th>\n",
       "      <th>categories</th>\n",
       "      <th>predicted_topics</th>\n",
       "      <th>topic_names</th>\n",
       "    </tr>\n",
       "  </thead>\n",
       "  <tbody>\n",
       "    <tr>\n",
       "      <th>0</th>\n",
       "      <td>OQcvO5P3gH0cuJ-bPXwfQQ</td>\n",
       "      <td>[u'Restaurants', u'Mexican']</td>\n",
       "      <td>[(20, 0.201280702426), (8, 0.111738424262), (0...</td>\n",
       "      <td>[mexican, ice cream, service;steak, location, ...</td>\n",
       "    </tr>\n",
       "    <tr>\n",
       "      <th>614</th>\n",
       "      <td>VkIKXVbSfcbxybbxbEt98w</td>\n",
       "      <td>[u'Automotive', u'Car Dealers']</td>\n",
       "      <td>[(7, 0.0841882868644), (26, 0.0797779085732), ...</td>\n",
       "      <td>[home services, car dealer;auto service;car;au...</td>\n",
       "    </tr>\n",
       "    <tr>\n",
       "      <th>820</th>\n",
       "      <td>ckc3l8cSuggloG4NlquEFQ</td>\n",
       "      <td>[u'Fast Food', u'Restaurants']</td>\n",
       "      <td>[(38, 0.292304696599), (43, 0.145389050797), (...</td>\n",
       "      <td>[dentist;health, fast food;american, service;c...</td>\n",
       "    </tr>\n",
       "    <tr>\n",
       "      <th>856</th>\n",
       "      <td>Du8gPSC88a9OuY1Vk0b52g</td>\n",
       "      <td>[u'Ice Cream &amp; Frozen Yogurt', u'Food']</td>\n",
       "      <td>[(8, 0.139358053968), (28, 0.12575320667), (26...</td>\n",
       "      <td>[ice cream, pizza;italian, car dealer;auto ser...</td>\n",
       "    </tr>\n",
       "    <tr>\n",
       "      <th>880</th>\n",
       "      <td>y7yo-LAjJnNoYwWX6ZYbqA</td>\n",
       "      <td>[u'General Dentistry', u'Dentists', u'Health &amp;...</td>\n",
       "      <td>[(24, 0.222685944524), (47, 0.0915175628953), ...</td>\n",
       "      <td>[vet;health;medical, dinner;food;restaurant, p...</td>\n",
       "    </tr>\n",
       "  </tbody>\n",
       "</table>\n",
       "</div>"
      ],
      "text/plain": [
       "                business_id  \\\n",
       "0    OQcvO5P3gH0cuJ-bPXwfQQ   \n",
       "614  VkIKXVbSfcbxybbxbEt98w   \n",
       "820  ckc3l8cSuggloG4NlquEFQ   \n",
       "856  Du8gPSC88a9OuY1Vk0b52g   \n",
       "880  y7yo-LAjJnNoYwWX6ZYbqA   \n",
       "\n",
       "                                            categories  \\\n",
       "0                         [u'Restaurants', u'Mexican']   \n",
       "614                    [u'Automotive', u'Car Dealers']   \n",
       "820                     [u'Fast Food', u'Restaurants']   \n",
       "856            [u'Ice Cream & Frozen Yogurt', u'Food']   \n",
       "880  [u'General Dentistry', u'Dentists', u'Health &...   \n",
       "\n",
       "                                      predicted_topics  \\\n",
       "0    [(20, 0.201280702426), (8, 0.111738424262), (0...   \n",
       "614  [(7, 0.0841882868644), (26, 0.0797779085732), ...   \n",
       "820  [(38, 0.292304696599), (43, 0.145389050797), (...   \n",
       "856  [(8, 0.139358053968), (28, 0.12575320667), (26...   \n",
       "880  [(24, 0.222685944524), (47, 0.0915175628953), ...   \n",
       "\n",
       "                                           topic_names  \n",
       "0    [mexican, ice cream, service;steak, location, ...  \n",
       "614  [home services, car dealer;auto service;car;au...  \n",
       "820  [dentist;health, fast food;american, service;c...  \n",
       "856  [ice cream, pizza;italian, car dealer;auto ser...  \n",
       "880  [vet;health;medical, dinner;food;restaurant, p...  "
      ]
     },
     "execution_count": 39,
     "metadata": {},
     "output_type": "execute_result"
    }
   ],
   "source": [
    "df_topics['topic_names'] = df_topics['predicted_topics'].apply(rename_topics)\n",
    "df_topics.head()"
   ]
  },
  {
   "cell_type": "code",
   "execution_count": 40,
   "metadata": {
    "collapsed": false
   },
   "outputs": [
    {
     "data": {
      "text/html": [
       "<div>\n",
       "<table border=\"1\" class=\"dataframe\">\n",
       "  <thead>\n",
       "    <tr style=\"text-align: right;\">\n",
       "      <th></th>\n",
       "      <th>business_id</th>\n",
       "      <th>categories</th>\n",
       "      <th>predicted_topics</th>\n",
       "      <th>topic_names</th>\n",
       "    </tr>\n",
       "  </thead>\n",
       "  <tbody>\n",
       "    <tr>\n",
       "      <th>0</th>\n",
       "      <td>OQcvO5P3gH0cuJ-bPXwfQQ</td>\n",
       "      <td>[u'Restaurants', u'Mexican']</td>\n",
       "      <td>[(20, 0.201280702426), (8, 0.111738424262), (0...</td>\n",
       "      <td>[mexican, ice cream, service;steak, location, ...</td>\n",
       "    </tr>\n",
       "    <tr>\n",
       "      <th>614</th>\n",
       "      <td>VkIKXVbSfcbxybbxbEt98w</td>\n",
       "      <td>[u'Automotive', u'Car Dealers']</td>\n",
       "      <td>[(7, 0.0841882868644), (26, 0.0797779085732), ...</td>\n",
       "      <td>[home services, car dealer;auto service;car;au...</td>\n",
       "    </tr>\n",
       "    <tr>\n",
       "      <th>820</th>\n",
       "      <td>ckc3l8cSuggloG4NlquEFQ</td>\n",
       "      <td>[u'Fast Food', u'Restaurants']</td>\n",
       "      <td>[(38, 0.292304696599), (43, 0.145389050797), (...</td>\n",
       "      <td>[dentist;health, fast food;american, service;c...</td>\n",
       "    </tr>\n",
       "  </tbody>\n",
       "</table>\n",
       "</div>"
      ],
      "text/plain": [
       "                business_id                       categories  \\\n",
       "0    OQcvO5P3gH0cuJ-bPXwfQQ     [u'Restaurants', u'Mexican']   \n",
       "614  VkIKXVbSfcbxybbxbEt98w  [u'Automotive', u'Car Dealers']   \n",
       "820  ckc3l8cSuggloG4NlquEFQ   [u'Fast Food', u'Restaurants']   \n",
       "\n",
       "                                      predicted_topics  \\\n",
       "0    [(20, 0.201280702426), (8, 0.111738424262), (0...   \n",
       "614  [(7, 0.0841882868644), (26, 0.0797779085732), ...   \n",
       "820  [(38, 0.292304696599), (43, 0.145389050797), (...   \n",
       "\n",
       "                                           topic_names  \n",
       "0    [mexican, ice cream, service;steak, location, ...  \n",
       "614  [home services, car dealer;auto service;car;au...  \n",
       "820  [dentist;health, fast food;american, service;c...  "
      ]
     },
     "execution_count": 40,
     "metadata": {},
     "output_type": "execute_result"
    }
   ],
   "source": [
    "df_topics.head(3)"
   ]
  },
  {
   "cell_type": "code",
   "execution_count": 41,
   "metadata": {
    "collapsed": true
   },
   "outputs": [],
   "source": [
    "#df_topics.to_csv(main_path+'topics_top50_fin.csv')"
   ]
  },
  {
   "cell_type": "code",
   "execution_count": 42,
   "metadata": {
    "collapsed": false
   },
   "outputs": [],
   "source": [
    "## Evaluation\n",
    "import ast\n",
    "def check_predictions(actual_cats, pred_topics):\n",
    "    actual_cats = [j.lower() for j in ast.literal_eval(actual_cats)]\n",
    "    for i in pred_topics[:3]:\n",
    "        for j in i.split(\";\"):\n",
    "            if j.lower() in actual_cats:\n",
    "                return 'Yes'\n",
    "        \n",
    "    return 'No'"
   ]
  },
  {
   "cell_type": "code",
   "execution_count": 43,
   "metadata": {
    "collapsed": false
   },
   "outputs": [
    {
     "name": "stderr",
     "output_type": "stream",
     "text": [
      "C:\\Users\\bhargavic\\Anaconda2\\envs\\gl-env\\lib\\site-packages\\ipykernel\\__main__.py:10: SettingWithCopyWarning: \n",
      "A value is trying to be set on a copy of a slice from a DataFrame.\n",
      "Try using .loc[row_indexer,col_indexer] = value instead\n",
      "\n",
      "See the caveats in the documentation: http://pandas.pydata.org/pandas-docs/stable/indexing.html#indexing-view-versus-copy\n"
     ]
    }
   ],
   "source": [
    "## Calculate prediction accuracy\n",
    "\n",
    "predict_checks = []\n",
    "actual_categories = df_topics['categories'].tolist()\n",
    "predicted_topics = df_topics['topic_names'].tolist()\n",
    "\n",
    "for i in range(df_topics.shape[0]):\n",
    "    predict_checks.append(check_predictions(actual_categories[i], predicted_topics[i]))\n",
    "\n",
    "df_topics['pred_check'] = predict_checks"
   ]
  },
  {
   "cell_type": "code",
   "execution_count": 44,
   "metadata": {
    "collapsed": true
   },
   "outputs": [],
   "source": [
    "#df_topics.to_csv(main_path+'check_sub_predictions_all.csv')"
   ]
  },
  {
   "cell_type": "code",
   "execution_count": 58,
   "metadata": {
    "collapsed": false
   },
   "outputs": [
    {
     "name": "stdout",
     "output_type": "stream",
     "text": [
      "Method I accuracy:  33.2026143791 %\n"
     ]
    }
   ],
   "source": [
    "## Accuracy - METHOD I\n",
    "acc_1 = float(df_topics[df_topics['pred_check']=='Yes'].shape[0])/df_topics.shape[0]\n",
    "print \"Method I accuracy: \",acc_1*100,\"%\""
   ]
  },
  {
   "cell_type": "code",
   "execution_count": 46,
   "metadata": {
    "collapsed": true
   },
   "outputs": [],
   "source": [
    "##Unique cat list\n",
    "yelp_cats = [j.lower() for i in df_rev_new['categories'].tolist() for j in ast.literal_eval(i)]\n",
    "yelp_cats = list(set(yelp_cats))"
   ]
  },
  {
   "cell_type": "code",
   "execution_count": null,
   "metadata": {
    "collapsed": true
   },
   "outputs": [],
   "source": []
  },
  {
   "cell_type": "markdown",
   "metadata": {},
   "source": [
    "## METHOD II - Major topics among all reviews of a business\n"
   ]
  },
  {
   "cell_type": "code",
   "execution_count": 47,
   "metadata": {
    "collapsed": true
   },
   "outputs": [],
   "source": [
    "## Predicting topics from all the reviews of a business\n",
    "def predict_review_topics(noun_tags):\n",
    "    \n",
    "    new_review_bow = dictionary.doc2bow(noun_tags)\n",
    "    new_review_lda = ldamodel[new_review_bow]\n",
    "\n",
    "    return sorted(new_review_lda,key=itemgetter(1), reverse=True)[:5]"
   ]
  },
  {
   "cell_type": "code",
   "execution_count": 48,
   "metadata": {
    "collapsed": false
   },
   "outputs": [
    {
     "name": "stderr",
     "output_type": "stream",
     "text": [
      "C:\\Users\\bhargavic\\Anaconda2\\envs\\gl-env\\lib\\site-packages\\ipykernel\\__main__.py:2: SettingWithCopyWarning: \n",
      "A value is trying to be set on a copy of a slice from a DataFrame.\n",
      "Try using .loc[row_indexer,col_indexer] = value instead\n",
      "\n",
      "See the caveats in the documentation: http://pandas.pydata.org/pandas-docs/stable/indexing.html#indexing-view-versus-copy\n",
      "  from ipykernel import kernelapp as app\n"
     ]
    }
   ],
   "source": [
    "df_topics2 = df_rev_new[['business_id','review_id','noun_tags','categories']]\n",
    "df_topics2['predicted_topics'] = df_topics2['noun_tags'].apply(predict_review_topics)"
   ]
  },
  {
   "cell_type": "code",
   "execution_count": 49,
   "metadata": {
    "collapsed": false
   },
   "outputs": [
    {
     "data": {
      "text/html": [
       "<div>\n",
       "<table border=\"1\" class=\"dataframe\">\n",
       "  <thead>\n",
       "    <tr style=\"text-align: right;\">\n",
       "      <th></th>\n",
       "      <th>business_id</th>\n",
       "      <th>review_id</th>\n",
       "      <th>noun_tags</th>\n",
       "      <th>categories</th>\n",
       "      <th>predicted_topics</th>\n",
       "    </tr>\n",
       "  </thead>\n",
       "  <tbody>\n",
       "    <tr>\n",
       "      <th>0</th>\n",
       "      <td>OQcvO5P3gH0cuJ-bPXwfQQ</td>\n",
       "      <td>BLIJFaJZ-_fOcBs16fL_6g</td>\n",
       "      <td>[customer, rating, decor, dicount, food, note,...</td>\n",
       "      <td>[u'Restaurants', u'Mexican']</td>\n",
       "      <td>[(37, 0.738610431108), (40, 0.141389568892)]</td>\n",
       "    </tr>\n",
       "    <tr>\n",
       "      <th>1</th>\n",
       "      <td>OQcvO5P3gH0cuJ-bPXwfQQ</td>\n",
       "      <td>VuKbGklNbOESJSx76_EjyA</td>\n",
       "      <td>[food, owners, restaurant]</td>\n",
       "      <td>[u'Restaurants', u'Mexican']</td>\n",
       "      <td>[(47, 0.485537400283), (42, 0.274462599717)]</td>\n",
       "    </tr>\n",
       "    <tr>\n",
       "      <th>2</th>\n",
       "      <td>OQcvO5P3gH0cuJ-bPXwfQQ</td>\n",
       "      <td>HBaAmcS9zp5rY1qiMuWygA</td>\n",
       "      <td>[yummy, meat, service, restaurant, fish, vegas...</td>\n",
       "      <td>[u'Restaurants', u'Mexican']</td>\n",
       "      <td>[(20, 0.8775)]</td>\n",
       "    </tr>\n",
       "  </tbody>\n",
       "</table>\n",
       "</div>"
      ],
      "text/plain": [
       "              business_id               review_id  \\\n",
       "0  OQcvO5P3gH0cuJ-bPXwfQQ  BLIJFaJZ-_fOcBs16fL_6g   \n",
       "1  OQcvO5P3gH0cuJ-bPXwfQQ  VuKbGklNbOESJSx76_EjyA   \n",
       "2  OQcvO5P3gH0cuJ-bPXwfQQ  HBaAmcS9zp5rY1qiMuWygA   \n",
       "\n",
       "                                           noun_tags  \\\n",
       "0  [customer, rating, decor, dicount, food, note,...   \n",
       "1                         [food, owners, restaurant]   \n",
       "2  [yummy, meat, service, restaurant, fish, vegas...   \n",
       "\n",
       "                     categories                              predicted_topics  \n",
       "0  [u'Restaurants', u'Mexican']  [(37, 0.738610431108), (40, 0.141389568892)]  \n",
       "1  [u'Restaurants', u'Mexican']  [(47, 0.485537400283), (42, 0.274462599717)]  \n",
       "2  [u'Restaurants', u'Mexican']                                [(20, 0.8775)]  "
      ]
     },
     "execution_count": 49,
     "metadata": {},
     "output_type": "execute_result"
    }
   ],
   "source": [
    "df_topics2.head(3)"
   ]
  },
  {
   "cell_type": "code",
   "execution_count": 52,
   "metadata": {
    "collapsed": true
   },
   "outputs": [],
   "source": [
    "## Get the major topics per business\n",
    "def get_major_topics(bus_id):\n",
    "    \n",
    "    df_sub = df_topics2[(df_topics2['business_id'] == bus_id)]\n",
    "    #print(df_sub).shape[0]\n",
    "    \n",
    "    get_topic_list = [j[0] for i in df_sub['predicted_topics'].tolist() for j in i]\n",
    "    topic_frequency = Counter(get_topic_list)\n",
    "    \n",
    "    top_5 = topic_frequency.most_common(5)\n",
    "    \n",
    "    return top_5"
   ]
  },
  {
   "cell_type": "code",
   "execution_count": 53,
   "metadata": {
    "collapsed": false
   },
   "outputs": [
    {
     "name": "stdout",
     "output_type": "stream",
     "text": [
      "Runtime:  0:08:04.316000\n"
     ]
    },
    {
     "name": "stderr",
     "output_type": "stream",
     "text": [
      "C:\\Users\\bhargavic\\Anaconda2\\envs\\gl-env\\lib\\site-packages\\ipykernel\\__main__.py:4: SettingWithCopyWarning: \n",
      "A value is trying to be set on a copy of a slice from a DataFrame.\n",
      "Try using .loc[row_indexer,col_indexer] = value instead\n",
      "\n",
      "See the caveats in the documentation: http://pandas.pydata.org/pandas-docs/stable/indexing.html#indexing-view-versus-copy\n"
     ]
    }
   ],
   "source": [
    "n4 = datetime.now()\n",
    "\n",
    "df_topics2_sub = df_topics2[['business_id','categories']]\n",
    "df_topics2_sub['topic_list'] = df_topics2_sub['business_id'].apply(get_major_topics)\n",
    "df_topics2_sub.head()\n",
    "\n",
    "print \"Runtime: \",datetime.now()-n4"
   ]
  },
  {
   "cell_type": "code",
   "execution_count": 54,
   "metadata": {
    "collapsed": false
   },
   "outputs": [
    {
     "name": "stderr",
     "output_type": "stream",
     "text": [
      "C:\\Users\\bhargavic\\Anaconda2\\envs\\gl-env\\lib\\site-packages\\ipykernel\\__main__.py:1: SettingWithCopyWarning: \n",
      "A value is trying to be set on a copy of a slice from a DataFrame.\n",
      "Try using .loc[row_indexer,col_indexer] = value instead\n",
      "\n",
      "See the caveats in the documentation: http://pandas.pydata.org/pandas-docs/stable/indexing.html#indexing-view-versus-copy\n",
      "  if __name__ == '__main__':\n"
     ]
    }
   ],
   "source": [
    "df_topics2_sub['topic_names'] = df_topics2_sub['topic_list'].apply(rename_topics)"
   ]
  },
  {
   "cell_type": "code",
   "execution_count": 55,
   "metadata": {
    "collapsed": true
   },
   "outputs": [],
   "source": [
    "## Predict the topics per each review of the business\n",
    "\n",
    "predict_checks2 = []\n",
    "actual_categories2 = df_topics2_sub['categories'].tolist()\n",
    "predicted_topics2 = df_topics2_sub['topic_names'].tolist()\n",
    "\n",
    "for i in range(df_topics2_sub.shape[0]):\n",
    "    predict_checks2.append(check_predictions(actual_categories2[i], predicted_topics2[i]))\n",
    "\n",
    "df_topics2_sub['pred_check'] = predict_checks2"
   ]
  },
  {
   "cell_type": "code",
   "execution_count": 59,
   "metadata": {
    "collapsed": false
   },
   "outputs": [
    {
     "name": "stdout",
     "output_type": "stream",
     "text": [
      "Method II accuracy:  51.3647729458 %\n"
     ]
    }
   ],
   "source": [
    "## Accuracy - Method II\n",
    "acc_2 = float(df_topics2_sub[df_topics2_sub['pred_check']=='Yes'].shape[0])/df_topics2_sub.shape[0]\n",
    "print \"Method II accuracy: \",acc_2*100,\"%\""
   ]
  },
  {
   "cell_type": "code",
   "execution_count": null,
   "metadata": {
    "collapsed": true
   },
   "outputs": [],
   "source": []
  }
 ],
 "metadata": {
  "kernelspec": {
   "display_name": "Python 2",
   "language": "python",
   "name": "python2"
  },
  "language_info": {
   "codemirror_mode": {
    "name": "ipython",
    "version": 2
   },
   "file_extension": ".py",
   "mimetype": "text/x-python",
   "name": "python",
   "nbconvert_exporter": "python",
   "pygments_lexer": "ipython2",
   "version": "2.7.14"
  }
 },
 "nbformat": 4,
 "nbformat_minor": 2
}
