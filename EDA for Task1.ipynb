{
 "cells": [
  {
   "cell_type": "code",
   "execution_count": 1,
   "metadata": {
    "collapsed": true
   },
   "outputs": [],
   "source": [
    "import pandas as pd"
   ]
  },
  {
   "cell_type": "code",
   "execution_count": 2,
   "metadata": {
    "collapsed": true
   },
   "outputs": [],
   "source": [
    "import datetime"
   ]
  },
  {
   "cell_type": "code",
   "execution_count": 10,
   "metadata": {},
   "outputs": [
    {
     "data": {
      "text/html": [
       "<div>\n",
       "<style>\n",
       "    .dataframe thead tr:only-child th {\n",
       "        text-align: right;\n",
       "    }\n",
       "\n",
       "    .dataframe thead th {\n",
       "        text-align: left;\n",
       "    }\n",
       "\n",
       "    .dataframe tbody tr th {\n",
       "        vertical-align: top;\n",
       "    }\n",
       "</style>\n",
       "<table border=\"1\" class=\"dataframe\">\n",
       "  <thead>\n",
       "    <tr style=\"text-align: right;\">\n",
       "      <th></th>\n",
       "      <th>attributes.Ambience.divey</th>\n",
       "      <th>attributes.RestaurantsDelivery</th>\n",
       "      <th>attributes.DogsAllowed</th>\n",
       "      <th>postal_code</th>\n",
       "      <th>hours.Thursday</th>\n",
       "      <th>attributes.HairSpecializesIn.coloring</th>\n",
       "      <th>attributes.BestNights.sunday</th>\n",
       "      <th>attributes.BYOB</th>\n",
       "      <th>attributes.AgesAllowed</th>\n",
       "      <th>attributes.Music.video</th>\n",
       "      <th>...</th>\n",
       "      <th>attributes.Caters</th>\n",
       "      <th>attributes.RestaurantsReservations</th>\n",
       "      <th>attributes.DietaryRestrictions.dairy-free</th>\n",
       "      <th>attributes.DietaryRestrictions.vegan</th>\n",
       "      <th>attributes.Ambience.romantic</th>\n",
       "      <th>attributes.Music.jukebox</th>\n",
       "      <th>attributes.Ambience.upscale</th>\n",
       "      <th>attributes.RestaurantsTakeOut</th>\n",
       "      <th>attributes.BikeParking</th>\n",
       "      <th>attributes.OutdoorSeating</th>\n",
       "    </tr>\n",
       "  </thead>\n",
       "  <tbody>\n",
       "    <tr>\n",
       "      <th>0</th>\n",
       "      <td>NaN</td>\n",
       "      <td>NaN</td>\n",
       "      <td>NaN</td>\n",
       "      <td>44143</td>\n",
       "      <td>10:00-21:00</td>\n",
       "      <td>NaN</td>\n",
       "      <td>NaN</td>\n",
       "      <td>NaN</td>\n",
       "      <td>NaN</td>\n",
       "      <td>NaN</td>\n",
       "      <td>...</td>\n",
       "      <td>NaN</td>\n",
       "      <td>NaN</td>\n",
       "      <td>NaN</td>\n",
       "      <td>NaN</td>\n",
       "      <td>NaN</td>\n",
       "      <td>NaN</td>\n",
       "      <td>NaN</td>\n",
       "      <td>NaN</td>\n",
       "      <td>True</td>\n",
       "      <td>NaN</td>\n",
       "    </tr>\n",
       "    <tr>\n",
       "      <th>1</th>\n",
       "      <td>False</td>\n",
       "      <td>True</td>\n",
       "      <td>NaN</td>\n",
       "      <td>28215</td>\n",
       "      <td>10:00-22:00</td>\n",
       "      <td>NaN</td>\n",
       "      <td>NaN</td>\n",
       "      <td>NaN</td>\n",
       "      <td>NaN</td>\n",
       "      <td>NaN</td>\n",
       "      <td>...</td>\n",
       "      <td>NaN</td>\n",
       "      <td>False</td>\n",
       "      <td>NaN</td>\n",
       "      <td>NaN</td>\n",
       "      <td>False</td>\n",
       "      <td>NaN</td>\n",
       "      <td>False</td>\n",
       "      <td>True</td>\n",
       "      <td>NaN</td>\n",
       "      <td>False</td>\n",
       "    </tr>\n",
       "    <tr>\n",
       "      <th>2</th>\n",
       "      <td>NaN</td>\n",
       "      <td>NaN</td>\n",
       "      <td>NaN</td>\n",
       "      <td>M4K 1N7</td>\n",
       "      <td>10:00-19:00</td>\n",
       "      <td>NaN</td>\n",
       "      <td>NaN</td>\n",
       "      <td>NaN</td>\n",
       "      <td>NaN</td>\n",
       "      <td>NaN</td>\n",
       "      <td>...</td>\n",
       "      <td>NaN</td>\n",
       "      <td>NaN</td>\n",
       "      <td>NaN</td>\n",
       "      <td>NaN</td>\n",
       "      <td>NaN</td>\n",
       "      <td>NaN</td>\n",
       "      <td>NaN</td>\n",
       "      <td>NaN</td>\n",
       "      <td>True</td>\n",
       "      <td>False</td>\n",
       "    </tr>\n",
       "    <tr>\n",
       "      <th>3</th>\n",
       "      <td>NaN</td>\n",
       "      <td>NaN</td>\n",
       "      <td>NaN</td>\n",
       "      <td>85258</td>\n",
       "      <td>9:00-17:00</td>\n",
       "      <td>NaN</td>\n",
       "      <td>NaN</td>\n",
       "      <td>NaN</td>\n",
       "      <td>NaN</td>\n",
       "      <td>NaN</td>\n",
       "      <td>...</td>\n",
       "      <td>NaN</td>\n",
       "      <td>NaN</td>\n",
       "      <td>NaN</td>\n",
       "      <td>NaN</td>\n",
       "      <td>NaN</td>\n",
       "      <td>NaN</td>\n",
       "      <td>NaN</td>\n",
       "      <td>NaN</td>\n",
       "      <td>NaN</td>\n",
       "      <td>NaN</td>\n",
       "    </tr>\n",
       "    <tr>\n",
       "      <th>4</th>\n",
       "      <td>False</td>\n",
       "      <td>False</td>\n",
       "      <td>NaN</td>\n",
       "      <td>85016</td>\n",
       "      <td>NaN</td>\n",
       "      <td>NaN</td>\n",
       "      <td>NaN</td>\n",
       "      <td>NaN</td>\n",
       "      <td>NaN</td>\n",
       "      <td>NaN</td>\n",
       "      <td>...</td>\n",
       "      <td>True</td>\n",
       "      <td>False</td>\n",
       "      <td>NaN</td>\n",
       "      <td>NaN</td>\n",
       "      <td>False</td>\n",
       "      <td>NaN</td>\n",
       "      <td>False</td>\n",
       "      <td>True</td>\n",
       "      <td>True</td>\n",
       "      <td>False</td>\n",
       "    </tr>\n",
       "  </tbody>\n",
       "</table>\n",
       "<p>5 rows × 101 columns</p>\n",
       "</div>"
      ],
      "text/plain": [
       "  attributes.Ambience.divey attributes.RestaurantsDelivery  \\\n",
       "0                       NaN                            NaN   \n",
       "1                     False                           True   \n",
       "2                       NaN                            NaN   \n",
       "3                       NaN                            NaN   \n",
       "4                     False                          False   \n",
       "\n",
       "  attributes.DogsAllowed postal_code hours.Thursday  \\\n",
       "0                    NaN       44143    10:00-21:00   \n",
       "1                    NaN       28215    10:00-22:00   \n",
       "2                    NaN     M4K 1N7    10:00-19:00   \n",
       "3                    NaN       85258     9:00-17:00   \n",
       "4                    NaN       85016            NaN   \n",
       "\n",
       "  attributes.HairSpecializesIn.coloring attributes.BestNights.sunday  \\\n",
       "0                                   NaN                          NaN   \n",
       "1                                   NaN                          NaN   \n",
       "2                                   NaN                          NaN   \n",
       "3                                   NaN                          NaN   \n",
       "4                                   NaN                          NaN   \n",
       "\n",
       "  attributes.BYOB attributes.AgesAllowed attributes.Music.video  \\\n",
       "0             NaN                    NaN                    NaN   \n",
       "1             NaN                    NaN                    NaN   \n",
       "2             NaN                    NaN                    NaN   \n",
       "3             NaN                    NaN                    NaN   \n",
       "4             NaN                    NaN                    NaN   \n",
       "\n",
       "             ...            attributes.Caters  \\\n",
       "0            ...                          NaN   \n",
       "1            ...                          NaN   \n",
       "2            ...                          NaN   \n",
       "3            ...                          NaN   \n",
       "4            ...                         True   \n",
       "\n",
       "   attributes.RestaurantsReservations  \\\n",
       "0                                 NaN   \n",
       "1                               False   \n",
       "2                                 NaN   \n",
       "3                                 NaN   \n",
       "4                               False   \n",
       "\n",
       "  attributes.DietaryRestrictions.dairy-free  \\\n",
       "0                                       NaN   \n",
       "1                                       NaN   \n",
       "2                                       NaN   \n",
       "3                                       NaN   \n",
       "4                                       NaN   \n",
       "\n",
       "  attributes.DietaryRestrictions.vegan attributes.Ambience.romantic  \\\n",
       "0                                  NaN                          NaN   \n",
       "1                                  NaN                        False   \n",
       "2                                  NaN                          NaN   \n",
       "3                                  NaN                          NaN   \n",
       "4                                  NaN                        False   \n",
       "\n",
       "  attributes.Music.jukebox attributes.Ambience.upscale  \\\n",
       "0                      NaN                         NaN   \n",
       "1                      NaN                       False   \n",
       "2                      NaN                         NaN   \n",
       "3                      NaN                         NaN   \n",
       "4                      NaN                       False   \n",
       "\n",
       "  attributes.RestaurantsTakeOut attributes.BikeParking  \\\n",
       "0                           NaN                   True   \n",
       "1                          True                    NaN   \n",
       "2                           NaN                   True   \n",
       "3                           NaN                    NaN   \n",
       "4                          True                   True   \n",
       "\n",
       "  attributes.OutdoorSeating  \n",
       "0                       NaN  \n",
       "1                     False  \n",
       "2                     False  \n",
       "3                       NaN  \n",
       "4                     False  \n",
       "\n",
       "[5 rows x 101 columns]"
      ]
     },
     "execution_count": 10,
     "metadata": {},
     "output_type": "execute_result"
    }
   ],
   "source": [
    "df_bus = pd.read_csv(\"\"\"/Users/cherukuri/Desktop/Search/yelp_ds/dataset/business.csv\"\"\")\n",
    "df_bus.head()"
   ]
  },
  {
   "cell_type": "code",
   "execution_count": null,
   "metadata": {
    "collapsed": true
   },
   "outputs": [],
   "source": []
  },
  {
   "cell_type": "code",
   "execution_count": 11,
   "metadata": {
    "collapsed": true
   },
   "outputs": [],
   "source": [
    "from __future__ import print_function\n",
    "from collections import Counter\n",
    "import numpy as np\n",
    "import pandas as pd\n",
    "from scipy import optimize\n",
    "import matplotlib.mlab as mlab\n",
    "import matplotlib.pyplot as plt\n",
    "%matplotlib inline"
   ]
  },
  {
   "cell_type": "code",
   "execution_count": 12,
   "metadata": {
    "collapsed": true
   },
   "outputs": [],
   "source": [
    "data_dir = \"/Users/cherukuri/Desktop/Search/yelp_ds/dataset\""
   ]
  },
  {
   "cell_type": "code",
   "execution_count": 13,
   "metadata": {},
   "outputs": [
    {
     "name": "stdout",
     "output_type": "stream",
     "text": [
      "Read 1183362 users\n"
     ]
    }
   ],
   "source": [
    "import json, os\n",
    "users = []\n",
    "with open(os.path.join(data_dir, 'user.json')) as f:\n",
    "    for line in f:\n",
    "        users.append(json.loads(line))\n",
    "print(\"Read {count} users\".format(count=len(users)))"
   ]
  },
  {
   "cell_type": "code",
   "execution_count": 14,
   "metadata": {},
   "outputs": [
    {
     "name": "stdout",
     "output_type": "stream",
     "text": [
      "Read 4736897 reviews\n"
     ]
    }
   ],
   "source": [
    "reviews = []\n",
    "with open(os.path.join(data_dir, 'review.json')) as f:\n",
    "    for line in f:\n",
    "        reviews.append(json.loads(line))\n",
    "print(\"Read {count} reviews\".format(count=len(reviews)))"
   ]
  },
  {
   "cell_type": "code",
   "execution_count": 15,
   "metadata": {},
   "outputs": [
    {
     "name": "stdout",
     "output_type": "stream",
     "text": [
      "Read 156639 businesses\n"
     ]
    }
   ],
   "source": [
    "businesses = []\n",
    "with open(os.path.join(data_dir, 'business.json')) as f:\n",
    "    for line in f:\n",
    "        businesses.append(json.loads(line))\n",
    "print(\"Read {count} businesses\".format(count=len(businesses)))"
   ]
  },
  {
   "cell_type": "code",
   "execution_count": 18,
   "metadata": {},
   "outputs": [
    {
     "name": "stdout",
     "output_type": "stream",
     "text": [
      "Counted 39846890 friend relationships\n"
     ]
    }
   ],
   "source": [
    "friend_counts = []\n",
    "for user in users:\n",
    "    friend_counts.append(len(user[\"friends\"]))\n",
    "print(\"Counted {count} friend relationships\".format(count=sum(friend_counts)))"
   ]
  },
  {
   "cell_type": "code",
   "execution_count": null,
   "metadata": {
    "collapsed": true
   },
   "outputs": [],
   "source": []
  },
  {
   "cell_type": "code",
   "execution_count": null,
   "metadata": {
    "collapsed": true
   },
   "outputs": [],
   "source": [
    "def summary(data):\n",
    "    print(\"n    = {n}\\n\"\n",
    "          \"mean = {mean}\\n\"\n",
    "          \"sd   = {sd}\\n\"\n",
    "          \"min  = {min}\\n\"\n",
    "          \"10%  = {p10}\\n\"\n",
    "          \"25%  = {p25}\\n\"\n",
    "          \"50%  = {p50}\\n\"\n",
    "          \"75%  = {p75}\\n\"\n",
    "          \"90%  = {p90}\\n\"\n",
    "          \"max  = {max}\".format(\n",
    "            n=len(data),\n",
    "            min=min(data),\n",
    "            p10=np.percentile(data, 10),\n",
    "            p25=np.percentile(data, 25),\n",
    "            p50=np.percentile(data, 50),\n",
    "            p75=np.percentile(data, 75),\n",
    "            p90=np.percentile(data, 90),\n",
    "            mean=np.mean(data),\n",
    "            sd=np.std(data),\n",
    "            max=max(data)))"
   ]
  },
  {
   "cell_type": "code",
   "execution_count": 38,
   "metadata": {
    "scrolled": true
   },
   "outputs": [
    {
     "name": "stdout",
     "output_type": "stream",
     "text": [
      "n    = 1183362\n",
      "mean = 4.00291457728\n",
      "sd   = 13.845164729\n",
      "min  = 1\n",
      "10%  = 1.0\n",
      "25%  = 1.0\n",
      "50%  = 1.0\n",
      "75%  = 3.0\n",
      "90%  = 7.0\n",
      "max  = 3442\n"
     ]
    }
   ],
   "source": [
    "user_review_count = {}\n",
    "for review in reviews:\n",
    "    user_id = review[\"user_id\"]\n",
    "    if user_id in user_review_count:\n",
    "        user_review_count[user_id] += 1\n",
    "    else:\n",
    "        user_review_count[user_id] = 1\n",
    "summary(user_review_count.values())"
   ]
  },
  {
   "cell_type": "code",
   "execution_count": 36,
   "metadata": {},
   "outputs": [
    {
     "name": "stdout",
     "output_type": "stream",
     "text": [
      "n    = 1183362\n",
      "mean = 23.7268604197\n",
      "sd   = 80.5064183211\n",
      "min  = 0\n",
      "10%  = 1.0\n",
      "25%  = 2.0\n",
      "50%  = 5.0\n",
      "75%  = 16.0\n",
      "90%  = 48.0\n",
      "max  = 11656\n"
     ]
    }
   ],
   "source": [
    "summary([user['review_count'] for user in users])"
   ]
  },
  {
   "cell_type": "code",
   "execution_count": 26,
   "metadata": {},
   "outputs": [
    {
     "data": {
      "text/plain": [
       "28077465"
      ]
     },
     "execution_count": 26,
     "metadata": {},
     "output_type": "execute_result"
    }
   ],
   "source": [
    "sum([user['review_count'] for user in users])"
   ]
  },
  {
   "cell_type": "code",
   "execution_count": 27,
   "metadata": {},
   "outputs": [
    {
     "data": {
      "text/plain": [
       "4736897"
      ]
     },
     "execution_count": 27,
     "metadata": {},
     "output_type": "execute_result"
    }
   ],
   "source": [
    "sum(user_review_count.values())"
   ]
  },
  {
   "cell_type": "code",
   "execution_count": 28,
   "metadata": {},
   "outputs": [
    {
     "data": {
      "text/plain": [
       "1319"
      ]
     },
     "execution_count": 28,
     "metadata": {},
     "output_type": "execute_result"
    }
   ],
   "source": [
    "len([user['user_id'] for user in users if user_review_count[user['user_id']] > user['review_count']])"
   ]
  },
  {
   "cell_type": "code",
   "execution_count": 37,
   "metadata": {},
   "outputs": [
    {
     "name": "stdout",
     "output_type": "stream",
     "text": [
      "p= (1552109.0592496276, -1.2661929196125798)\n"
     ]
    },
    {
     "data": {
      "image/png": "[encoded data removed]",
      "text/plain": [
       "<matplotlib.figure.Figure at 0x18141249d0>"
      ]
     },
     "metadata": {},
     "output_type": "display_data"
    }
   ],
   "source": [
    "review_counts = [user['review_count'] for user in users if user['review_count']>0 and user['review_count']<100]\n",
    "y, bins, patches = plt.hist(review_counts, 16, log=True, facecolor='#6699cc', alpha=0.45)\n",
    "\n",
    "p = fit_to_powerlaw(bins[:-1], y)\n",
    "print(\"p=\",p)\n",
    "plt.plot(bins, powerlaw(p, bins), 'g--', lw=2)\n",
    "\n",
    "plt.xlabel('Count of reviews')\n",
    "plt.ylabel('Users')\n",
    "plt.title('Histogram of number of reviews')\n",
    "plt.grid(True)\n",
    "plt.axis([0, 100, 0, 250000])\n",
    "plt.show()"
   ]
  },
  {
   "cell_type": "code",
   "execution_count": 30,
   "metadata": {},
   "outputs": [
    {
     "data": {
      "image/png": "[encoded data removed]",
      "text/plain": [
       "<matplotlib.figure.Figure at 0x10b8ac9d0>"
      ]
     },
     "metadata": {},
     "output_type": "display_data"
    }
   ],
   "source": [
    "average_stars = [user['average_stars'] for user in users]\n",
    "y, bins, patches = plt.hist(average_stars, 5, facecolor='#6699cc', alpha=0.45)\n",
    "\n",
    "plt.xlabel('average stars given')\n",
    "plt.ylabel('users')\n",
    "plt.title('Histogram of average ratings')\n",
    "plt.grid(True)\n",
    "#plt.axis([0, 100, 0, 250000])\n",
    "plt.show()"
   ]
  },
  {
   "cell_type": "code",
   "execution_count": null,
   "metadata": {
    "collapsed": true
   },
   "outputs": [],
   "source": []
  },
  {
   "cell_type": "code",
   "execution_count": 74,
   "metadata": {},
   "outputs": [
    {
     "name": "stdout",
     "output_type": "stream",
     "text": [
      "Counted 79693780 friend relationships\n"
     ]
    }
   ],
   "source": [
    "friend_counts = []\n",
    "for user in users:\n",
    "    friend_counts.append(len(user[\"friends\"]))\n",
    "print(\"Counted {count} friend relationships\".format(count=sum(friend_counts)))"
   ]
  },
  {
   "cell_type": "code",
   "execution_count": 75,
   "metadata": {},
   "outputs": [
    {
     "name": "stdout",
     "output_type": "stream",
     "text": [
      "Fraction of users with no defined friends: 0.429\n"
     ]
    }
   ],
   "source": [
    "print(\"Fraction of users with no defined friends: %0.3f\" % \n",
    "      (len([c for c in friend_counts if c==0]) / float(len(friend_counts))))"
   ]
  },
  {
   "cell_type": "code",
   "execution_count": 77,
   "metadata": {
    "collapsed": true
   },
   "outputs": [],
   "source": [
    "nonzero_friend_counts = [c for c in friend_counts if c>0]"
   ]
  },
  {
   "cell_type": "code",
   "execution_count": 78,
   "metadata": {},
   "outputs": [
    {
     "name": "stdout",
     "output_type": "stream",
     "text": [
      "n    = 1350822\n",
      "mean = 58.9965073118\n",
      "sd   = 159.506739486\n",
      "min  = 1\n",
      "10%  = 1.0\n",
      "25%  = 4.0\n",
      "50%  = 18.0\n",
      "75%  = 59.0\n",
      "90%  = 143.0\n",
      "max  = 14995\n"
     ]
    }
   ],
   "source": [
    "def summary(data):\n",
    "    print(\"n    = {n}\\n\"\n",
    "          \"mean = {mean}\\n\"\n",
    "          \"sd   = {sd}\\n\"\n",
    "          \"min  = {min}\\n\"\n",
    "          \"10%  = {p10}\\n\"\n",
    "          \"25%  = {p25}\\n\"\n",
    "          \"50%  = {p50}\\n\"\n",
    "          \"75%  = {p75}\\n\"\n",
    "          \"90%  = {p90}\\n\"\n",
    "          \"max  = {max}\".format(\n",
    "            n=len(data),\n",
    "            min=min(data),\n",
    "            p10=np.percentile(data, 10),\n",
    "            p25=np.percentile(data, 25),\n",
    "            p50=np.percentile(data, 50),\n",
    "            p75=np.percentile(data, 75),\n",
    "            p90=np.percentile(data, 90),\n",
    "            mean=np.mean(data),\n",
    "            sd=np.std(data),\n",
    "            max=max(data)))\n",
    "summary(nonzero_friend_counts)"
   ]
  },
  {
   "cell_type": "code",
   "execution_count": 79,
   "metadata": {
    "collapsed": true
   },
   "outputs": [],
   "source": [
    "def powerlaw(p, x):\n",
    "    return p[0] * (x**p[1])\n",
    "\n",
    "def fitfunc(p,x):\n",
    "    return p[0] + p[1] * x \n",
    "\n",
    "def errfunc(p, x, y):\n",
    "    return (y - fitfunc(p, x))/ (fitfunc(p, x)+1)\n",
    "\n",
    "def fit_to_powerlaw(xs,ys):\n",
    "    logx = np.log10(np.maximum(np.ones(len(xs)),xs))\n",
    "    logy = np.log10(np.maximum(np.ones(len(ys)),ys))\n",
    "    pinit = [max(ys), -1.0]\n",
    "    out = optimize.leastsq(errfunc, pinit, args=(logx, logy), full_output=1)\n",
    "    pfinal = out[0]\n",
    "    index = pfinal[1]\n",
    "    amp = 10.0**pfinal[0]\n",
    "    return (amp, index)"
   ]
  },
  {
   "cell_type": "code",
   "execution_count": 80,
   "metadata": {},
   "outputs": [
    {
     "name": "stdout",
     "output_type": "stream",
     "text": [
      "p= (15235666642401.475, -3.1542427974066873)\n"
     ]
    },
    {
     "data": {
      "image/png": "[encoded data removed]",
      "text/plain": [
       "<matplotlib.figure.Figure at 0x1ac9266550>"
      ]
     },
     "metadata": {},
     "output_type": "display_data"
    }
   ],
   "source": [
    "\n",
    "y, bins, patches = plt.hist(nonzero_friend_counts, 12, log=True, facecolor='#6699cc', alpha=0.45)\n",
    "\n",
    "p = fit_to_powerlaw(bins[:-1], y)\n",
    "print(\"p=\",p)\n",
    "plt.plot(bins, powerlaw(p, bins), 'g--', lw=2)\n",
    "\n",
    "plt.xlabel('Friends')\n",
    "plt.title('Histogram of number of friends')\n",
    "plt.grid(True)\n",
    "plt.show()"
   ]
  },
  {
   "cell_type": "code",
   "execution_count": null,
   "metadata": {
    "collapsed": true
   },
   "outputs": [],
   "source": []
  },
  {
   "cell_type": "code",
   "execution_count": 33,
   "metadata": {},
   "outputs": [
    {
     "data": {
      "text/html": [
       "<div>\n",
       "<style>\n",
       "    .dataframe thead tr:only-child th {\n",
       "        text-align: right;\n",
       "    }\n",
       "\n",
       "    .dataframe thead th {\n",
       "        text-align: left;\n",
       "    }\n",
       "\n",
       "    .dataframe tbody tr th {\n",
       "        vertical-align: top;\n",
       "    }\n",
       "</style>\n",
       "<table border=\"1\" class=\"dataframe\">\n",
       "  <thead>\n",
       "    <tr style=\"text-align: right;\">\n",
       "      <th></th>\n",
       "      <th>funny</th>\n",
       "      <th>user_id</th>\n",
       "      <th>review_id</th>\n",
       "      <th>text</th>\n",
       "      <th>business_id</th>\n",
       "      <th>stars</th>\n",
       "      <th>date</th>\n",
       "      <th>useful</th>\n",
       "      <th>cool</th>\n",
       "    </tr>\n",
       "  </thead>\n",
       "  <tbody>\n",
       "    <tr>\n",
       "      <th>0</th>\n",
       "      <td>0</td>\n",
       "      <td>cjpdDjZyprfyDG3RlkVG3w</td>\n",
       "      <td>VfBHSwC5Vz_pbFluy07i9Q</td>\n",
       "      <td>My girlfriend and I stayed here for 3 nights a...</td>\n",
       "      <td>uYHaNptLzDLoV_JZ_MuzUA</td>\n",
       "      <td>5</td>\n",
       "      <td>2016-07-12</td>\n",
       "      <td>0</td>\n",
       "      <td>0</td>\n",
       "    </tr>\n",
       "    <tr>\n",
       "      <th>1</th>\n",
       "      <td>0</td>\n",
       "      <td>bjTcT8Ty4cJZhEOEo01FGA</td>\n",
       "      <td>3zRpneRKDsOPq92tq7ybAA</td>\n",
       "      <td>If you need an inexpensive place to stay for a...</td>\n",
       "      <td>uYHaNptLzDLoV_JZ_MuzUA</td>\n",
       "      <td>3</td>\n",
       "      <td>2016-10-02</td>\n",
       "      <td>0</td>\n",
       "      <td>0</td>\n",
       "    </tr>\n",
       "    <tr>\n",
       "      <th>2</th>\n",
       "      <td>0</td>\n",
       "      <td>AXgRULmWcME7J6Ix3I--ww</td>\n",
       "      <td>ne5WhI1jUFOcRn-b-gAzHA</td>\n",
       "      <td>Mittlerweile gibt es in Edinburgh zwei Ableger...</td>\n",
       "      <td>uYHaNptLzDLoV_JZ_MuzUA</td>\n",
       "      <td>3</td>\n",
       "      <td>2015-09-17</td>\n",
       "      <td>0</td>\n",
       "      <td>0</td>\n",
       "    </tr>\n",
       "    <tr>\n",
       "      <th>3</th>\n",
       "      <td>0</td>\n",
       "      <td>oU2SSOmsp_A8JYI7Z2JJ5w</td>\n",
       "      <td>llmdwOgDReucVoWEry61Lw</td>\n",
       "      <td>Location is everything and this hotel has it! ...</td>\n",
       "      <td>uYHaNptLzDLoV_JZ_MuzUA</td>\n",
       "      <td>4</td>\n",
       "      <td>2016-08-21</td>\n",
       "      <td>0</td>\n",
       "      <td>0</td>\n",
       "    </tr>\n",
       "    <tr>\n",
       "      <th>4</th>\n",
       "      <td>0</td>\n",
       "      <td>0xtbPEna2Kei11vsU-U2Mw</td>\n",
       "      <td>DuffS87NaSMDmIfluvT83g</td>\n",
       "      <td>gute lage im stadtzentrum. shoppingmeile und s...</td>\n",
       "      <td>uYHaNptLzDLoV_JZ_MuzUA</td>\n",
       "      <td>5</td>\n",
       "      <td>2013-11-20</td>\n",
       "      <td>0</td>\n",
       "      <td>0</td>\n",
       "    </tr>\n",
       "  </tbody>\n",
       "</table>\n",
       "</div>"
      ],
      "text/plain": [
       "   funny                 user_id               review_id  \\\n",
       "0      0  cjpdDjZyprfyDG3RlkVG3w  VfBHSwC5Vz_pbFluy07i9Q   \n",
       "1      0  bjTcT8Ty4cJZhEOEo01FGA  3zRpneRKDsOPq92tq7ybAA   \n",
       "2      0  AXgRULmWcME7J6Ix3I--ww  ne5WhI1jUFOcRn-b-gAzHA   \n",
       "3      0  oU2SSOmsp_A8JYI7Z2JJ5w  llmdwOgDReucVoWEry61Lw   \n",
       "4      0  0xtbPEna2Kei11vsU-U2Mw  DuffS87NaSMDmIfluvT83g   \n",
       "\n",
       "                                                text             business_id  \\\n",
       "0  My girlfriend and I stayed here for 3 nights a...  uYHaNptLzDLoV_JZ_MuzUA   \n",
       "1  If you need an inexpensive place to stay for a...  uYHaNptLzDLoV_JZ_MuzUA   \n",
       "2  Mittlerweile gibt es in Edinburgh zwei Ableger...  uYHaNptLzDLoV_JZ_MuzUA   \n",
       "3  Location is everything and this hotel has it! ...  uYHaNptLzDLoV_JZ_MuzUA   \n",
       "4  gute lage im stadtzentrum. shoppingmeile und s...  uYHaNptLzDLoV_JZ_MuzUA   \n",
       "\n",
       "   stars        date  useful  cool  \n",
       "0      5  2016-07-12       0     0  \n",
       "1      3  2016-10-02       0     0  \n",
       "2      3  2015-09-17       0     0  \n",
       "3      4  2016-08-21       0     0  \n",
       "4      5  2013-11-20       0     0  "
      ]
     },
     "execution_count": 33,
     "metadata": {},
     "output_type": "execute_result"
    }
   ],
   "source": [
    "df_bus = pd.read_csv(\"\"\"/Users/cherukuri/Desktop/Search/yelp_ds/dataset/review.csv\"\"\")\n",
    "df_bus.head()"
   ]
  },
  {
   "cell_type": "code",
   "execution_count": 44,
   "metadata": {},
   "outputs": [
    {
     "data": {
      "text/html": [
       "<div>\n",
       "<style>\n",
       "    .dataframe thead tr:only-child th {\n",
       "        text-align: right;\n",
       "    }\n",
       "\n",
       "    .dataframe thead th {\n",
       "        text-align: left;\n",
       "    }\n",
       "\n",
       "    .dataframe tbody tr th {\n",
       "        vertical-align: top;\n",
       "    }\n",
       "</style>\n",
       "<table border=\"1\" class=\"dataframe\">\n",
       "  <thead>\n",
       "    <tr style=\"text-align: right;\">\n",
       "      <th></th>\n",
       "      <th>attributes.Ambience.divey</th>\n",
       "      <th>attributes.RestaurantsDelivery</th>\n",
       "      <th>attributes.DogsAllowed</th>\n",
       "      <th>postal_code</th>\n",
       "      <th>hours.Thursday</th>\n",
       "      <th>attributes.HairSpecializesIn.coloring</th>\n",
       "      <th>attributes.BestNights.sunday</th>\n",
       "      <th>attributes.BYOB</th>\n",
       "      <th>attributes.AgesAllowed</th>\n",
       "      <th>attributes.Music.video</th>\n",
       "      <th>...</th>\n",
       "      <th>attributes.Caters</th>\n",
       "      <th>attributes.RestaurantsReservations</th>\n",
       "      <th>attributes.DietaryRestrictions.dairy-free</th>\n",
       "      <th>attributes.DietaryRestrictions.vegan</th>\n",
       "      <th>attributes.Ambience.romantic</th>\n",
       "      <th>attributes.Music.jukebox</th>\n",
       "      <th>attributes.Ambience.upscale</th>\n",
       "      <th>attributes.RestaurantsTakeOut</th>\n",
       "      <th>attributes.BikeParking</th>\n",
       "      <th>attributes.OutdoorSeating</th>\n",
       "    </tr>\n",
       "  </thead>\n",
       "  <tbody>\n",
       "    <tr>\n",
       "      <th>0</th>\n",
       "      <td>NaN</td>\n",
       "      <td>NaN</td>\n",
       "      <td>NaN</td>\n",
       "      <td>44143</td>\n",
       "      <td>10:00-21:00</td>\n",
       "      <td>NaN</td>\n",
       "      <td>NaN</td>\n",
       "      <td>NaN</td>\n",
       "      <td>NaN</td>\n",
       "      <td>NaN</td>\n",
       "      <td>...</td>\n",
       "      <td>NaN</td>\n",
       "      <td>NaN</td>\n",
       "      <td>NaN</td>\n",
       "      <td>NaN</td>\n",
       "      <td>NaN</td>\n",
       "      <td>NaN</td>\n",
       "      <td>NaN</td>\n",
       "      <td>NaN</td>\n",
       "      <td>True</td>\n",
       "      <td>NaN</td>\n",
       "    </tr>\n",
       "    <tr>\n",
       "      <th>1</th>\n",
       "      <td>False</td>\n",
       "      <td>True</td>\n",
       "      <td>NaN</td>\n",
       "      <td>28215</td>\n",
       "      <td>10:00-22:00</td>\n",
       "      <td>NaN</td>\n",
       "      <td>NaN</td>\n",
       "      <td>NaN</td>\n",
       "      <td>NaN</td>\n",
       "      <td>NaN</td>\n",
       "      <td>...</td>\n",
       "      <td>NaN</td>\n",
       "      <td>False</td>\n",
       "      <td>NaN</td>\n",
       "      <td>NaN</td>\n",
       "      <td>False</td>\n",
       "      <td>NaN</td>\n",
       "      <td>False</td>\n",
       "      <td>True</td>\n",
       "      <td>NaN</td>\n",
       "      <td>False</td>\n",
       "    </tr>\n",
       "    <tr>\n",
       "      <th>2</th>\n",
       "      <td>NaN</td>\n",
       "      <td>NaN</td>\n",
       "      <td>NaN</td>\n",
       "      <td>M4K 1N7</td>\n",
       "      <td>10:00-19:00</td>\n",
       "      <td>NaN</td>\n",
       "      <td>NaN</td>\n",
       "      <td>NaN</td>\n",
       "      <td>NaN</td>\n",
       "      <td>NaN</td>\n",
       "      <td>...</td>\n",
       "      <td>NaN</td>\n",
       "      <td>NaN</td>\n",
       "      <td>NaN</td>\n",
       "      <td>NaN</td>\n",
       "      <td>NaN</td>\n",
       "      <td>NaN</td>\n",
       "      <td>NaN</td>\n",
       "      <td>NaN</td>\n",
       "      <td>True</td>\n",
       "      <td>False</td>\n",
       "    </tr>\n",
       "    <tr>\n",
       "      <th>3</th>\n",
       "      <td>NaN</td>\n",
       "      <td>NaN</td>\n",
       "      <td>NaN</td>\n",
       "      <td>85258</td>\n",
       "      <td>9:00-17:00</td>\n",
       "      <td>NaN</td>\n",
       "      <td>NaN</td>\n",
       "      <td>NaN</td>\n",
       "      <td>NaN</td>\n",
       "      <td>NaN</td>\n",
       "      <td>...</td>\n",
       "      <td>NaN</td>\n",
       "      <td>NaN</td>\n",
       "      <td>NaN</td>\n",
       "      <td>NaN</td>\n",
       "      <td>NaN</td>\n",
       "      <td>NaN</td>\n",
       "      <td>NaN</td>\n",
       "      <td>NaN</td>\n",
       "      <td>NaN</td>\n",
       "      <td>NaN</td>\n",
       "    </tr>\n",
       "    <tr>\n",
       "      <th>4</th>\n",
       "      <td>False</td>\n",
       "      <td>False</td>\n",
       "      <td>NaN</td>\n",
       "      <td>85016</td>\n",
       "      <td>NaN</td>\n",
       "      <td>NaN</td>\n",
       "      <td>NaN</td>\n",
       "      <td>NaN</td>\n",
       "      <td>NaN</td>\n",
       "      <td>NaN</td>\n",
       "      <td>...</td>\n",
       "      <td>True</td>\n",
       "      <td>False</td>\n",
       "      <td>NaN</td>\n",
       "      <td>NaN</td>\n",
       "      <td>False</td>\n",
       "      <td>NaN</td>\n",
       "      <td>False</td>\n",
       "      <td>True</td>\n",
       "      <td>True</td>\n",
       "      <td>False</td>\n",
       "    </tr>\n",
       "  </tbody>\n",
       "</table>\n",
       "<p>5 rows × 101 columns</p>\n",
       "</div>"
      ],
      "text/plain": [
       "  attributes.Ambience.divey attributes.RestaurantsDelivery  \\\n",
       "0                       NaN                            NaN   \n",
       "1                     False                           True   \n",
       "2                       NaN                            NaN   \n",
       "3                       NaN                            NaN   \n",
       "4                     False                          False   \n",
       "\n",
       "  attributes.DogsAllowed postal_code hours.Thursday  \\\n",
       "0                    NaN       44143    10:00-21:00   \n",
       "1                    NaN       28215    10:00-22:00   \n",
       "2                    NaN     M4K 1N7    10:00-19:00   \n",
       "3                    NaN       85258     9:00-17:00   \n",
       "4                    NaN       85016            NaN   \n",
       "\n",
       "  attributes.HairSpecializesIn.coloring attributes.BestNights.sunday  \\\n",
       "0                                   NaN                          NaN   \n",
       "1                                   NaN                          NaN   \n",
       "2                                   NaN                          NaN   \n",
       "3                                   NaN                          NaN   \n",
       "4                                   NaN                          NaN   \n",
       "\n",
       "  attributes.BYOB attributes.AgesAllowed attributes.Music.video  \\\n",
       "0             NaN                    NaN                    NaN   \n",
       "1             NaN                    NaN                    NaN   \n",
       "2             NaN                    NaN                    NaN   \n",
       "3             NaN                    NaN                    NaN   \n",
       "4             NaN                    NaN                    NaN   \n",
       "\n",
       "             ...            attributes.Caters  \\\n",
       "0            ...                          NaN   \n",
       "1            ...                          NaN   \n",
       "2            ...                          NaN   \n",
       "3            ...                          NaN   \n",
       "4            ...                         True   \n",
       "\n",
       "   attributes.RestaurantsReservations  \\\n",
       "0                                 NaN   \n",
       "1                               False   \n",
       "2                                 NaN   \n",
       "3                                 NaN   \n",
       "4                               False   \n",
       "\n",
       "  attributes.DietaryRestrictions.dairy-free  \\\n",
       "0                                       NaN   \n",
       "1                                       NaN   \n",
       "2                                       NaN   \n",
       "3                                       NaN   \n",
       "4                                       NaN   \n",
       "\n",
       "  attributes.DietaryRestrictions.vegan attributes.Ambience.romantic  \\\n",
       "0                                  NaN                          NaN   \n",
       "1                                  NaN                        False   \n",
       "2                                  NaN                          NaN   \n",
       "3                                  NaN                          NaN   \n",
       "4                                  NaN                        False   \n",
       "\n",
       "  attributes.Music.jukebox attributes.Ambience.upscale  \\\n",
       "0                      NaN                         NaN   \n",
       "1                      NaN                       False   \n",
       "2                      NaN                         NaN   \n",
       "3                      NaN                         NaN   \n",
       "4                      NaN                       False   \n",
       "\n",
       "  attributes.RestaurantsTakeOut attributes.BikeParking  \\\n",
       "0                           NaN                   True   \n",
       "1                          True                    NaN   \n",
       "2                           NaN                   True   \n",
       "3                           NaN                    NaN   \n",
       "4                          True                   True   \n",
       "\n",
       "  attributes.OutdoorSeating  \n",
       "0                       NaN  \n",
       "1                     False  \n",
       "2                     False  \n",
       "3                       NaN  \n",
       "4                     False  \n",
       "\n",
       "[5 rows x 101 columns]"
      ]
     },
     "execution_count": 44,
     "metadata": {},
     "output_type": "execute_result"
    }
   ],
   "source": [
    "df_bus = pd.read_csv(\"\"\"/Users/cherukuri/Desktop/Search/yelp_ds/dataset/business.csv\"\"\")\n",
    "df_bus.head()"
   ]
  },
  {
   "cell_type": "code",
   "execution_count": null,
   "metadata": {
    "collapsed": true
   },
   "outputs": [],
   "source": []
  },
  {
   "cell_type": "code",
   "execution_count": 49,
   "metadata": {
    "collapsed": true
   },
   "outputs": [],
   "source": [
    "main_path = \"\"\"/Users/cherukuri/Desktop/Search/yelp_ds/dataset/\"\"\"\n"
   ]
  },
  {
   "cell_type": "code",
   "execution_count": 50,
   "metadata": {},
   "outputs": [
    {
     "data": {
      "text/plain": [
       "(156639, 101)"
      ]
     },
     "execution_count": 50,
     "metadata": {},
     "output_type": "execute_result"
    }
   ],
   "source": [
    "df_bus = pd.read_csv(main_path+\"business.csv\")\n",
    "df_bus.shape"
   ]
  },
  {
   "cell_type": "code",
   "execution_count": 54,
   "metadata": {},
   "outputs": [
    {
     "data": {
      "text/plain": [
       "(4736897, 9)"
      ]
     },
     "execution_count": 54,
     "metadata": {},
     "output_type": "execute_result"
    }
   ],
   "source": [
    "df_rev = pd.read_csv(main_path+\"review.csv\")\n",
    "df_rev.shape"
   ]
  },
  {
   "cell_type": "code",
   "execution_count": 55,
   "metadata": {},
   "outputs": [
    {
     "data": {
      "text/plain": [
       "(4736898, 109)"
      ]
     },
     "execution_count": 55,
     "metadata": {},
     "output_type": "execute_result"
    }
   ],
   "source": [
    "df_all = pd.merge(df_rev, df_bus, on = ['business_id'], how='outer')\n",
    "df_all.shape"
   ]
  },
  {
   "cell_type": "code",
   "execution_count": 56,
   "metadata": {},
   "outputs": [
    {
     "data": {
      "text/html": [
       "<div>\n",
       "<style>\n",
       "    .dataframe thead tr:only-child th {\n",
       "        text-align: right;\n",
       "    }\n",
       "\n",
       "    .dataframe thead th {\n",
       "        text-align: left;\n",
       "    }\n",
       "\n",
       "    .dataframe tbody tr th {\n",
       "        vertical-align: top;\n",
       "    }\n",
       "</style>\n",
       "<table border=\"1\" class=\"dataframe\">\n",
       "  <thead>\n",
       "    <tr style=\"text-align: right;\">\n",
       "      <th></th>\n",
       "      <th>funny</th>\n",
       "      <th>user_id</th>\n",
       "      <th>review_id</th>\n",
       "      <th>text</th>\n",
       "      <th>business_id</th>\n",
       "      <th>stars_x</th>\n",
       "      <th>date</th>\n",
       "      <th>useful</th>\n",
       "      <th>cool</th>\n",
       "      <th>attributes.Ambience.divey</th>\n",
       "      <th>...</th>\n",
       "      <th>attributes.Caters</th>\n",
       "      <th>attributes.RestaurantsReservations</th>\n",
       "      <th>attributes.DietaryRestrictions.dairy-free</th>\n",
       "      <th>attributes.DietaryRestrictions.vegan</th>\n",
       "      <th>attributes.Ambience.romantic</th>\n",
       "      <th>attributes.Music.jukebox</th>\n",
       "      <th>attributes.Ambience.upscale</th>\n",
       "      <th>attributes.RestaurantsTakeOut</th>\n",
       "      <th>attributes.BikeParking</th>\n",
       "      <th>attributes.OutdoorSeating</th>\n",
       "    </tr>\n",
       "  </thead>\n",
       "  <tbody>\n",
       "    <tr>\n",
       "      <th>0</th>\n",
       "      <td>0.0</td>\n",
       "      <td>cjpdDjZyprfyDG3RlkVG3w</td>\n",
       "      <td>VfBHSwC5Vz_pbFluy07i9Q</td>\n",
       "      <td>My girlfriend and I stayed here for 3 nights a...</td>\n",
       "      <td>uYHaNptLzDLoV_JZ_MuzUA</td>\n",
       "      <td>5.0</td>\n",
       "      <td>2016-07-12</td>\n",
       "      <td>0.0</td>\n",
       "      <td>0.0</td>\n",
       "      <td>NaN</td>\n",
       "      <td>...</td>\n",
       "      <td>NaN</td>\n",
       "      <td>NaN</td>\n",
       "      <td>NaN</td>\n",
       "      <td>NaN</td>\n",
       "      <td>NaN</td>\n",
       "      <td>NaN</td>\n",
       "      <td>NaN</td>\n",
       "      <td>NaN</td>\n",
       "      <td>NaN</td>\n",
       "      <td>NaN</td>\n",
       "    </tr>\n",
       "    <tr>\n",
       "      <th>1</th>\n",
       "      <td>0.0</td>\n",
       "      <td>bjTcT8Ty4cJZhEOEo01FGA</td>\n",
       "      <td>3zRpneRKDsOPq92tq7ybAA</td>\n",
       "      <td>If you need an inexpensive place to stay for a...</td>\n",
       "      <td>uYHaNptLzDLoV_JZ_MuzUA</td>\n",
       "      <td>3.0</td>\n",
       "      <td>2016-10-02</td>\n",
       "      <td>0.0</td>\n",
       "      <td>0.0</td>\n",
       "      <td>NaN</td>\n",
       "      <td>...</td>\n",
       "      <td>NaN</td>\n",
       "      <td>NaN</td>\n",
       "      <td>NaN</td>\n",
       "      <td>NaN</td>\n",
       "      <td>NaN</td>\n",
       "      <td>NaN</td>\n",
       "      <td>NaN</td>\n",
       "      <td>NaN</td>\n",
       "      <td>NaN</td>\n",
       "      <td>NaN</td>\n",
       "    </tr>\n",
       "    <tr>\n",
       "      <th>2</th>\n",
       "      <td>0.0</td>\n",
       "      <td>AXgRULmWcME7J6Ix3I--ww</td>\n",
       "      <td>ne5WhI1jUFOcRn-b-gAzHA</td>\n",
       "      <td>Mittlerweile gibt es in Edinburgh zwei Ableger...</td>\n",
       "      <td>uYHaNptLzDLoV_JZ_MuzUA</td>\n",
       "      <td>3.0</td>\n",
       "      <td>2015-09-17</td>\n",
       "      <td>0.0</td>\n",
       "      <td>0.0</td>\n",
       "      <td>NaN</td>\n",
       "      <td>...</td>\n",
       "      <td>NaN</td>\n",
       "      <td>NaN</td>\n",
       "      <td>NaN</td>\n",
       "      <td>NaN</td>\n",
       "      <td>NaN</td>\n",
       "      <td>NaN</td>\n",
       "      <td>NaN</td>\n",
       "      <td>NaN</td>\n",
       "      <td>NaN</td>\n",
       "      <td>NaN</td>\n",
       "    </tr>\n",
       "    <tr>\n",
       "      <th>3</th>\n",
       "      <td>0.0</td>\n",
       "      <td>oU2SSOmsp_A8JYI7Z2JJ5w</td>\n",
       "      <td>llmdwOgDReucVoWEry61Lw</td>\n",
       "      <td>Location is everything and this hotel has it! ...</td>\n",
       "      <td>uYHaNptLzDLoV_JZ_MuzUA</td>\n",
       "      <td>4.0</td>\n",
       "      <td>2016-08-21</td>\n",
       "      <td>0.0</td>\n",
       "      <td>0.0</td>\n",
       "      <td>NaN</td>\n",
       "      <td>...</td>\n",
       "      <td>NaN</td>\n",
       "      <td>NaN</td>\n",
       "      <td>NaN</td>\n",
       "      <td>NaN</td>\n",
       "      <td>NaN</td>\n",
       "      <td>NaN</td>\n",
       "      <td>NaN</td>\n",
       "      <td>NaN</td>\n",
       "      <td>NaN</td>\n",
       "      <td>NaN</td>\n",
       "    </tr>\n",
       "    <tr>\n",
       "      <th>4</th>\n",
       "      <td>0.0</td>\n",
       "      <td>0xtbPEna2Kei11vsU-U2Mw</td>\n",
       "      <td>DuffS87NaSMDmIfluvT83g</td>\n",
       "      <td>gute lage im stadtzentrum. shoppingmeile und s...</td>\n",
       "      <td>uYHaNptLzDLoV_JZ_MuzUA</td>\n",
       "      <td>5.0</td>\n",
       "      <td>2013-11-20</td>\n",
       "      <td>0.0</td>\n",
       "      <td>0.0</td>\n",
       "      <td>NaN</td>\n",
       "      <td>...</td>\n",
       "      <td>NaN</td>\n",
       "      <td>NaN</td>\n",
       "      <td>NaN</td>\n",
       "      <td>NaN</td>\n",
       "      <td>NaN</td>\n",
       "      <td>NaN</td>\n",
       "      <td>NaN</td>\n",
       "      <td>NaN</td>\n",
       "      <td>NaN</td>\n",
       "      <td>NaN</td>\n",
       "    </tr>\n",
       "  </tbody>\n",
       "</table>\n",
       "<p>5 rows × 109 columns</p>\n",
       "</div>"
      ],
      "text/plain": [
       "   funny                 user_id               review_id  \\\n",
       "0    0.0  cjpdDjZyprfyDG3RlkVG3w  VfBHSwC5Vz_pbFluy07i9Q   \n",
       "1    0.0  bjTcT8Ty4cJZhEOEo01FGA  3zRpneRKDsOPq92tq7ybAA   \n",
       "2    0.0  AXgRULmWcME7J6Ix3I--ww  ne5WhI1jUFOcRn-b-gAzHA   \n",
       "3    0.0  oU2SSOmsp_A8JYI7Z2JJ5w  llmdwOgDReucVoWEry61Lw   \n",
       "4    0.0  0xtbPEna2Kei11vsU-U2Mw  DuffS87NaSMDmIfluvT83g   \n",
       "\n",
       "                                                text             business_id  \\\n",
       "0  My girlfriend and I stayed here for 3 nights a...  uYHaNptLzDLoV_JZ_MuzUA   \n",
       "1  If you need an inexpensive place to stay for a...  uYHaNptLzDLoV_JZ_MuzUA   \n",
       "2  Mittlerweile gibt es in Edinburgh zwei Ableger...  uYHaNptLzDLoV_JZ_MuzUA   \n",
       "3  Location is everything and this hotel has it! ...  uYHaNptLzDLoV_JZ_MuzUA   \n",
       "4  gute lage im stadtzentrum. shoppingmeile und s...  uYHaNptLzDLoV_JZ_MuzUA   \n",
       "\n",
       "   stars_x        date  useful  cool attributes.Ambience.divey  \\\n",
       "0      5.0  2016-07-12     0.0   0.0                       NaN   \n",
       "1      3.0  2016-10-02     0.0   0.0                       NaN   \n",
       "2      3.0  2015-09-17     0.0   0.0                       NaN   \n",
       "3      4.0  2016-08-21     0.0   0.0                       NaN   \n",
       "4      5.0  2013-11-20     0.0   0.0                       NaN   \n",
       "\n",
       "             ...            attributes.Caters  \\\n",
       "0            ...                          NaN   \n",
       "1            ...                          NaN   \n",
       "2            ...                          NaN   \n",
       "3            ...                          NaN   \n",
       "4            ...                          NaN   \n",
       "\n",
       "  attributes.RestaurantsReservations  \\\n",
       "0                                NaN   \n",
       "1                                NaN   \n",
       "2                                NaN   \n",
       "3                                NaN   \n",
       "4                                NaN   \n",
       "\n",
       "  attributes.DietaryRestrictions.dairy-free  \\\n",
       "0                                       NaN   \n",
       "1                                       NaN   \n",
       "2                                       NaN   \n",
       "3                                       NaN   \n",
       "4                                       NaN   \n",
       "\n",
       "  attributes.DietaryRestrictions.vegan attributes.Ambience.romantic  \\\n",
       "0                                  NaN                          NaN   \n",
       "1                                  NaN                          NaN   \n",
       "2                                  NaN                          NaN   \n",
       "3                                  NaN                          NaN   \n",
       "4                                  NaN                          NaN   \n",
       "\n",
       "  attributes.Music.jukebox attributes.Ambience.upscale  \\\n",
       "0                      NaN                         NaN   \n",
       "1                      NaN                         NaN   \n",
       "2                      NaN                         NaN   \n",
       "3                      NaN                         NaN   \n",
       "4                      NaN                         NaN   \n",
       "\n",
       "  attributes.RestaurantsTakeOut attributes.BikeParking  \\\n",
       "0                           NaN                    NaN   \n",
       "1                           NaN                    NaN   \n",
       "2                           NaN                    NaN   \n",
       "3                           NaN                    NaN   \n",
       "4                           NaN                    NaN   \n",
       "\n",
       "  attributes.OutdoorSeating  \n",
       "0                       NaN  \n",
       "1                       NaN  \n",
       "2                       NaN  \n",
       "3                       NaN  \n",
       "4                       NaN  \n",
       "\n",
       "[5 rows x 109 columns]"
      ]
     },
     "execution_count": 56,
     "metadata": {},
     "output_type": "execute_result"
    }
   ],
   "source": [
    "df_all.head()"
   ]
  },
  {
   "cell_type": "code",
   "execution_count": null,
   "metadata": {
    "collapsed": true
   },
   "outputs": [],
   "source": []
  },
  {
   "cell_type": "code",
   "execution_count": 64,
   "metadata": {},
   "outputs": [
    {
     "name": "stdout",
     "output_type": "stream",
     "text": [
      "p= (774552697.51753604, -2.2153462668905424)\n"
     ]
    },
    {
     "data": {
      "image/png": "[encoded data removed]",
      "text/plain": [
       "<matplotlib.figure.Figure at 0x18df6ca450>"
      ]
     },
     "metadata": {},
     "output_type": "display_data"
    }
   ],
   "source": [
    "review_counts = [user['review_count'] for user in users if user['review_count']>=20]\n",
    "y, bins, patches = plt.hist(review_counts, 16, log=True, facecolor='#6699cc', alpha=0.45)\n",
    "\n",
    "p = fit_to_powerlaw(bins[:-1], y)\n",
    "print(\"p=\",p)\n",
    "plt.plot(bins, powerlaw(p, bins), 'g--', lw=2)\n",
    "\n",
    "plt.xlabel('Count of reviews')\n",
    "plt.ylabel('Users')\n",
    "plt.title('Histogram of number of reviews')\n",
    "plt.grid(True)\n",
    "#plt.axis([0, 100, 0, 250000])\n",
    "plt.show()"
   ]
  },
  {
   "cell_type": "code",
   "execution_count": null,
   "metadata": {
    "collapsed": true
   },
   "outputs": [],
   "source": []
  },
  {
   "cell_type": "code",
   "execution_count": 66,
   "metadata": {},
   "outputs": [
    {
     "data": {
      "text/plain": [
       "(4736897, 9)"
      ]
     },
     "execution_count": 66,
     "metadata": {},
     "output_type": "execute_result"
    }
   ],
   "source": [
    "df_rev = pd.read_csv(main_path+\"review.csv\")\n",
    "df_rev.shape"
   ]
  },
  {
   "cell_type": "code",
   "execution_count": 73,
   "metadata": {},
   "outputs": [
    {
     "data": {
      "text/plain": [
       "47         Went in for lunch with a coworker today. The s...\n",
       "105        We've eaten here 2-3 times a month for the las...\n",
       "136        for the time being, for all its worth, i am go...\n",
       "156        Considering the amount of rave reviews on here...\n",
       "161        I came here with my sisters for brunch on a Su...\n",
       "164        Literally my FAVORITE new restaurant in the no...\n",
       "171        Love this restaurant!!! Awesome brunch, $10 fo...\n",
       "175        I wish I could share Avitania B.'s Groupon ent...\n",
       "178        Is the food at Table 17 excellent? Yes.\\n\\nIs ...\n",
       "179        Brunchy time and we have a winner.  To start, ...\n",
       "185        I went here for the brunch the other day in th...\n",
       "187        \"Table 17 is the rare restaurant that's both a...\n",
       "194        Had brunch again at Table 17 for a third time ...\n",
       "196        The only downside about this place is that som...\n",
       "203        I can't seem to make the half star symbol work...\n",
       "204        Table 17 is a truly awesome restaurant and wor...\n",
       "208        I am a fairly regular dinner guest at Table 17...\n",
       "213        I think the main problem with this place is th...\n",
       "216        Table 17 is a quaint find in Leslieville villa...\n",
       "225        All hail the mighty Groupon, without which I n...\n",
       "227        I've been to Table 17 twice, and since the fir...\n",
       "239        My partner and I went to Table 17 for dinner w...\n",
       "360        So I know Christy's is a Madison tradition wit...\n",
       "401        Good food at a small lunch restaurant,  it is ...\n",
       "456        No frills, just good Caribbean curry to go. Go...\n",
       "463        I have been to this restaurant quite a few tim...\n",
       "469        It has been awhile since I've been to Golden K...\n",
       "548        EDIT:\\n\\nI tried this place again almost after...\n",
       "555        So I'll start by saying I had a terrible exper...\n",
       "581        Saravanaa has gone on a steep downhill traject...\n",
       "                                 ...                        \n",
       "4736098    As a newcomer to Phoenix, a good Thai restaura...\n",
       "4736161    Stopped there for dinner before a movie on \"ch...\n",
       "4736193    I love this place with a capital L!!! I wished...\n",
       "4736196    Good atmosphere, good music, friendly staff an...\n",
       "4736206    Yum!\\n\\nWe decided to eat at this restaurant d...\n",
       "4736209    The name is deceiving because this restaurant ...\n",
       "4736217    Wow. My fiance, soon to be brother-in-law, and...\n",
       "4736231    I have been here for lunch only on three occas...\n",
       "4736233    First, let me start by saying:\\nPROS:\\n- The s...\n",
       "4736255    This is another random lunch place that my boy...\n",
       "4736264    Wow.  I've been wanting to come here for awhil...\n",
       "4736284    Dear fellow Yelpers, \\n\\nThis is probably one ...\n",
       "4736324    Reserved there with a group of friends on the ...\n",
       "4736329    Waitress aggressively harangued us to order th...\n",
       "4736349    My lasting impression of this restaurant is re...\n",
       "4736360    MMMM! LOBSTER SALAD AVOCADO sandwich! I'm not ...\n",
       "4736369    Visiting in the Summer 2016 I recall finding t...\n",
       "4736374    This is not your typical diner service the Ame...\n",
       "4736390    My girlfriend and I went here for lunch on New...\n",
       "4736421    Been here a few times before and the atmospher...\n",
       "4736428    The food and services are great!\\nDeville is a...\n",
       "4736504    My husband and I wanted a fun dinner out for o...\n",
       "4736586    We went during happy hour (which is offered th...\n",
       "4736587    First time trying a ramen restaurant and I was...\n",
       "4736602    I was excited to try a New restaurant in downt...\n",
       "4736683    We've been here 2 times so far, and both times...\n",
       "4736684    I would not recommend this place to anyone! \\n...\n",
       "4736735    Don't come during your lunch hour. My husband ...\n",
       "4736804    Very good. Very interesting. \\n\\nI went the fu...\n",
       "4736822    I was headed to downtown Las Vegas for dinner ...\n",
       "Name: text, Length: 163797, dtype: object"
      ]
     },
     "execution_count": 73,
     "metadata": {},
     "output_type": "execute_result"
    }
   ],
   "source": [
    "df_rev[df_rev['text'].str.contains(\"restaurant\")]['text']"
   ]
  },
  {
   "cell_type": "code",
   "execution_count": 71,
   "metadata": {},
   "outputs": [
    {
     "name": "stdout",
     "output_type": "stream",
     "text": [
      "(640837, 9) (640837, 9)\n"
     ]
    }
   ],
   "source": [
    "match_list = ['breafast','lunch','dinner','brunch','happy hour']\n",
    "match_str = \"|\".join(match_list)\n",
    "df_rev = df_rev[df_rev['text'].str.contains(match_str)]\n",
    "print(df_rev.shape, df_rev.shape)"
   ]
  },
  {
   "cell_type": "code",
   "execution_count": null,
   "metadata": {
    "collapsed": true
   },
   "outputs": [],
   "source": []
  },
  {
   "cell_type": "code",
   "execution_count": null,
   "metadata": {
    "collapsed": true
   },
   "outputs": [],
   "source": []
  },
  {
   "cell_type": "code",
   "execution_count": null,
   "metadata": {
    "collapsed": true
   },
   "outputs": [],
   "source": []
  },
  {
   "cell_type": "code",
   "execution_count": null,
   "metadata": {
    "collapsed": true
   },
   "outputs": [],
   "source": []
  }
 ],
 "metadata": {
  "kernelspec": {
   "display_name": "Python 2",
   "language": "python",
   "name": "python2"
  },
  "language_info": {
   "codemirror_mode": {
    "name": "ipython",
    "version": 2
   },
   "file_extension": ".py",
   "mimetype": "text/x-python",
   "name": "python",
   "nbconvert_exporter": "python",
   "pygments_lexer": "ipython2",
   "version": "2.7.14"
  }
 },
 "nbformat": 4,
 "nbformat_minor": 2
}
